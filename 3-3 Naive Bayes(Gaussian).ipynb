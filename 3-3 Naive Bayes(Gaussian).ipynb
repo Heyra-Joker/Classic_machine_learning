{
 "cells": [
  {
   "cell_type": "markdown",
   "metadata": {},
   "source": [
    "#  Gaussian Naive Bayes\n",
    "\n",
    "\n",
    "[Gaussian Naive Bayes](http://i.stanford.edu/pub/cstr/reports/cs/tr/79/773/CS-TR-79-773.pdf)\n",
    "\n",
    "高斯模型假设数据每一维特征都服从高斯分布.\n",
    "\n",
    "\n",
    "${\\displaystyle P(x|y)={1 \\over \\sigma {\\sqrt {2\\pi }}}\\,e^{-{(x-\\mu )^{2} \\over 2\\sigma ^{2}}}} $\n",
    "\n",
    "所以我们只需要求得每一个特征的$\\sigma_i,\\mu_i$在使用每一个特征的$\\sigma_i,\\mu_i$,去计算高斯值,即可以得到条件概率.\n",
    "\n",
    "\n"
   ]
  },
  {
   "cell_type": "code",
   "execution_count": 1,
   "metadata": {},
   "outputs": [],
   "source": [
    "import numpy as np\n",
    "import pandas as pd\n",
    "import matplotlib.pyplot as plt\n",
    "from sklearn.datasets import load_iris\n",
    "from sklearn.model_selection import train_test_split\n",
    "from scipy.stats import multivariate_normal"
   ]
  },
  {
   "cell_type": "markdown",
   "metadata": {},
   "source": [
    "#### 1 加载数据集"
   ]
  },
  {
   "cell_type": "code",
   "execution_count": 2,
   "metadata": {},
   "outputs": [],
   "source": [
    "def create_data():\n",
    "    iris = load_iris()\n",
    "    df = pd.DataFrame(iris.data, columns=iris.feature_names)\n",
    "    df['label'] = iris.target\n",
    "    df.columns = ['sepal length', 'sepal width', 'petal length', 'petal width', 'label']\n",
    "    data = np.array(df.iloc[:100, [0, 1, -1]])\n",
    "    return data[:,:2], data[:,-1]"
   ]
  },
  {
   "cell_type": "code",
   "execution_count": 3,
   "metadata": {},
   "outputs": [],
   "source": [
    "X, y = create_data()"
   ]
  },
  {
   "cell_type": "code",
   "execution_count": 4,
   "metadata": {
    "scrolled": true
   },
   "outputs": [
    {
     "data": {
      "text/plain": [
       "<matplotlib.collections.PathCollection at 0x11e957d30>"
      ]
     },
     "execution_count": 4,
     "metadata": {},
     "output_type": "execute_result"
    },
    {
     "data": {
      "image/png": "[encoded data removed]",
      "text/plain": [
       "<Figure size 432x288 with 1 Axes>"
      ]
     },
     "metadata": {
      "needs_background": "light"
     },
     "output_type": "display_data"
    }
   ],
   "source": [
    "plt.scatter(X[:,0],X[:,1],c=y)"
   ]
  },
  {
   "cell_type": "markdown",
   "metadata": {},
   "source": [
    "#### 1.1 将原始数据集划分为训练样本和测试样本"
   ]
  },
  {
   "cell_type": "code",
   "execution_count": 5,
   "metadata": {},
   "outputs": [],
   "source": [
    "X_train, X_test, y_train, y_test = train_test_split(X, y, test_size=0.2, random_state=42)"
   ]
  },
  {
   "cell_type": "code",
   "execution_count": 6,
   "metadata": {},
   "outputs": [
    {
     "data": {
      "text/plain": [
       "array([[5.7, 2.8],\n",
       "       [5.6, 3. ],\n",
       "       [5. , 3.4],\n",
       "       [4.4, 3.2]])"
      ]
     },
     "execution_count": 6,
     "metadata": {},
     "output_type": "execute_result"
    }
   ],
   "source": [
    "X_train[:4]"
   ]
  },
  {
   "cell_type": "markdown",
   "metadata": {},
   "source": [
    "#### 2 模型搭建\n",
    "\n",
    "那么我们该如何使用Gaussian Naive Bayes去预测数据的类型呢?\n",
    "\n",
    "**Gaussian Naive Bayes algorithm:**\n",
    "\n",
    "输入:样本$X=\\{x_1,x_2,...,x_m\\}$,每个样本$x_i$有$n$个特征,标签$Y=\\{y_1,y_2,...,y_n\\}$,每一个标签$y_i$有$K=\\{k_1,k_2,...,k_z\\}$个类别可选.\n",
    "\n",
    "输出:测试样本的预测标签\n",
    "\n",
    "(1) 对于训练样本计算不同$k_i$类下的均值和方差$\\mu,\\sigma$并计算先验概率$P(Y=k)$\n",
    "\n",
    "(2) 将测试样本与不同$k_i$下的均值和方差$\\mu_k,\\sigma_k$求高斯概率$G_k$.\n",
    "\n",
    "(3) 将计算出来的$G_k$乘上先验概率$P(Y=k)$则可以得到不同$k$类下的后验概率$P(Y_k|X)$\n",
    "\n",
    "**Ps:**\n",
    "\n",
    "(1) 每个样本$x_i$有$n$个特征,GNB将每个特征看成是独立的一维高斯分布,所以$n$个特征有$n$个$\\mu,\\sigma$,记为$\\mu=\\{\\mu_1,...,\\mu_n\\},\\Sigma=\\{\\sigma_1,...,\\sigma_n\\}$,另外有$K$类标签,即会有$K$个$\\mu,\\sigma$组.所以参数$\\mu,\\sigma$的形状是(K,n)\n",
    "\n",
    "(2) 在不同$K$标签下的数据求的$K$个参数组,即可以得到条件概率$P(X|Y=k)$\n",
    "\n",
    "(3) 有$K$类标签,所以先验概率($P(Y)$)的形状是(K,)."
   ]
  },
  {
   "cell_type": "markdown",
   "metadata": {},
   "source": [
    "### 2.1 Example\n",
    "\n",
    "我们取鸢尾花的某几个样本来举例.\n",
    "\n",
    "假设:$X=\\begin{bmatrix}\n",
    "5.7 &2.8 \\\\ \n",
    " 5.6&3. \\\\ \n",
    " 5.&3.4 \\\\ \n",
    " 4.4&3.2 \n",
    "\\end{bmatrix}$,$Y=\\begin{bmatrix}\n",
    "0 &1  &0  &1 \n",
    "\\end{bmatrix}$\n",
    "\n",
    "每组样本有两个特征,比如第一组样本(5.7,2.8).有2类,分别是0,1\n",
    "\n",
    "计算样本$X$的高斯参数和先验概率:\n"
   ]
  },
  {
   "cell_type": "markdown",
   "metadata": {},
   "source": [
    "在$k=0$下:\n",
    "\n",
    "$\\mu_0 = [\\frac{5.7+5}{2},\\frac{2.8+3.4}{2}] =[\\mu_{00},\\mu_{01}]= [5.35,3.1]$\n",
    "\n",
    "$\\sigma_0 = [\\frac{(5.7 - 5.35)^{2} + (5.5 - 5.35)^{2}}{2-1},\\frac{(2.8-3.1)^{2}+(3.4-3.1)^{2}}{2-1}]=[\\sigma_{00},\\sigma_{01}]= [0.145,0.18]$\n",
    "\n",
    "$P(Y=0)=0.5$"
   ]
  },
  {
   "cell_type": "markdown",
   "metadata": {},
   "source": [
    "同样在$k=1$下(就是上面的意思随便写下数字):\n",
    "\n",
    "$\\mu_1=[\\mu_{10},\\mu_{11}]=[4.4,3.2]$\n",
    "\n",
    "$\\sigma_1=[\\sigma_{10},\\sigma_{11}]=[0.115,0.225]$\n",
    "\n",
    "$P(Y=1)=0.5$"
   ]
  },
  {
   "cell_type": "markdown",
   "metadata": {},
   "source": [
    "所以\n",
    "\n",
    "$\\mu=\\begin{bmatrix}\n",
    "\\mu_0\\\\ \\mu_1 \n",
    "\\end{bmatrix}=\\begin{bmatrix}\n",
    "5.35 &3.1 \\\\ \n",
    " 4.4&3.2 \n",
    "\\end{bmatrix}$"
   ]
  },
  {
   "cell_type": "markdown",
   "metadata": {},
   "source": [
    "$\\sigma=\\begin{bmatrix}\n",
    "\\sigma_0\\\\ \\sigma_1 \n",
    "\\end{bmatrix}=\\begin{bmatrix}\n",
    "0.145 &0.18 \\\\ \n",
    " 0.115&0.225 \n",
    "\\end{bmatrix}$"
   ]
  },
  {
   "cell_type": "markdown",
   "metadata": {},
   "source": [
    "$P(Y)=[0.5,0.5]$"
   ]
  },
  {
   "cell_type": "markdown",
   "metadata": {},
   "source": [
    "假设现在的测试样本为$Z=[1,2]$,则:\n",
    "\n",
    "条件概率:\n",
    "\n",
    "$P(Z|Y=0)=P(z_1|Y=0)P(z_2|Y=0)=N(z_1,\\mu_{00},\\sigma_{00})\\cdot N(z_2,\\mu_{01},\\sigma_{01})$\n",
    "\n",
    "$P(Z|Y=1)=P(z_1|Y=1)P(z_2|Y=1)=N(z_1,\\mu_{10},\\sigma_{10})\\cdot N(z_2,\\mu_{11},\\sigma_{11})$\n",
    "\n"
   ]
  },
  {
   "cell_type": "markdown",
   "metadata": {},
   "source": [
    "后验概率:\n",
    "\n",
    "$P(Y=0|Z)$=$P(Z|Y=0)\\cdot P(Y=0)$\n",
    "\n",
    "$P(Y=1|Z)$=$P(Z|Y=1)\\cdot P(Y=1)$\n",
    "\n",
    "那么那个后验概率即为$Z$的标签"
   ]
  },
  {
   "cell_type": "markdown",
   "metadata": {},
   "source": [
    "### 3 Build GNB"
   ]
  },
  {
   "cell_type": "code",
   "execution_count": 7,
   "metadata": {},
   "outputs": [],
   "source": [
    "def NaiveBayes_Gaussian(X_train,y_train):\n",
    "    \"\"\"\n",
    "    Build Gaussian Naive Bayes\n",
    "    \n",
    "    Parameters:\n",
    "    ----------\n",
    "       X_train: training set.\n",
    "       y_train: training labels.\n",
    "       \n",
    "    Return:\n",
    "    ------\n",
    "        pri_prob:Priori probability\n",
    "        mu: Gaussian parameter.\n",
    "        sigma: Gaussian parameter.\n",
    "        \n",
    "    \"\"\"\n",
    "    \n",
    "    m,n = X_train.shape\n",
    "    unique_y = np.unique(y_train)\n",
    "    K = unique_y.shape[0] # get K classify.\n",
    "    \n",
    "    # initialization parameters.\n",
    "    mu = np.zeros((K,n))\n",
    "    sigma = np.zeros((K,n))\n",
    "    pri_prob = np.zeros(K)\n",
    "    \n",
    "    for k in range(K):\n",
    "        y = np.where(y_train==unique_y[k])[0]\n",
    "        pri_prob[k] = y.shape[0] / m # compute pri prob\n",
    "        mu[k] = np.mean(X_train[y],axis=0) # compute average\n",
    "        sigma[k] = np.var(X_train[y],axis=0) # comepute var\n",
    "        \n",
    "        \n",
    "    return pri_prob,mu,sigma"
   ]
  },
  {
   "cell_type": "code",
   "execution_count": 8,
   "metadata": {},
   "outputs": [],
   "source": [
    "pri_prob,mu,sigma = NaiveBayes_Gaussian(X_train,y_train)"
   ]
  },
  {
   "cell_type": "markdown",
   "metadata": {},
   "source": [
    "得到了训练样本的高斯参数了之后,我们可以使用测试样本去预测样本标签."
   ]
  },
  {
   "cell_type": "markdown",
   "metadata": {},
   "source": [
    "### 3.1 testing model.\n",
    "\n",
    "在计算高斯值的时候我们可以使用scipy库中的[multivariate_normal.pdf](https://docs.scipy.org/doc/scipy-0.14.0/reference/generated/scipy.stats.multivariate_normal.html)以便于快速计算,当然手写高斯公式也是非常简单的."
   ]
  },
  {
   "cell_type": "markdown",
   "metadata": {},
   "source": [
    "multivariate_normal.pdf:能计算多元高斯分布,也能计算1D高斯分布,当你给予的协方差是一个对称矩阵的时候,它将计算多元高斯分布,如果给予的是一组实数(方差)且与样本的特征数大小相同,那么会将其变为对角阵,就等同于[多个1D高斯连乘即](https://www.datalearner.com/blog/1051485590815771):\n",
    "\n",
    "```python\n",
    "a = multivariate_normal.pdf(X_test[0],mean=mu[0],cov=sigma[0]) \n",
    "b = multivariate_normal.pdf(X_test[0][0],mean=mu[0][0],cov=sigma[0][0]) \n",
    "c = multivariate_normal.pdf(X_test[0][1],mean=mu[0][1],cov=sigma[0][1])\n",
    "a = c * b # 保留12小数点内\n",
    "```\n",
    "\n",
    "下面这段代码:\n",
    "\n",
    "```python\n",
    "prob = multivariate_normal.pdf(X_test,mean=mu[k],cov=sigma[k]) * pri_prob[k]```\n",
    "\n",
    "先用Numpy的广播机制,将mu,sigma广播为与X_test的形状相同,同时计算m个样本\n",
    "\n",
    "**Ps:**\n",
    "\n",
    "(1) 这里的sigma[0]实际上是一个类似于[a,b]的形式,那么multivariate_normal会将其扩展为对角阵的形式$\\begin{bmatrix}\n",
    "a &0 \\\\ \n",
    " 0& b\n",
    "\\end{bmatrix}$.\n",
    "\n",
    "(2)当协方差矩阵是对角阵的时候,多元高斯分布就是一组相互独立的一元高斯分布的乘积(组合).这与我们的设想是一样,因为在Naive Bayes的条件是**特征独立**."
   ]
  },
  {
   "cell_type": "code",
   "execution_count": 26,
   "metadata": {},
   "outputs": [],
   "source": [
    "def predict(pri_prob,mu,sigma,X_test):\n",
    "    \"\"\"\n",
    "    Implementation predict of GNB.\n",
    "    \n",
    "    Prameters:\n",
    "    ----------\n",
    "        pri_prob:priori proba\n",
    "        mu: Gaussian parameter\n",
    "        sigma:Gaussian parameter\n",
    "        X_test: testing set\n",
    "        \n",
    "    Return:\n",
    "    ------\n",
    "        np.argmax(pridict,axis=1): predict labels\n",
    "    \"\"\"\n",
    "    m,n = X_test.shape\n",
    "    pridict = np.zeros((m,n))\n",
    "    \n",
    "    for k in range(n):\n",
    "        prob = multivariate_normal.pdf(X_test,mean=mu[k],cov=sigma[k]) * pri_prob[k]\n",
    "        \n",
    "        pridict[:,k] = prob\n",
    "        \n",
    "    return np.argmax(pridict,axis=1)"
   ]
  },
  {
   "cell_type": "code",
   "execution_count": 27,
   "metadata": {},
   "outputs": [
    {
     "name": "stdout",
     "output_type": "stream",
     "text": [
      "predict labels is:  [1 1 1 0 0 0 0 1 0 0 0 0 1 0 1 0 1 1 0 0]\n"
     ]
    }
   ],
   "source": [
    "predict_label = predict(pri_prob=pri_prob,mu=mu,sigma=sigma,X_test=X_test)\n",
    "print(\"predict labels is: \",predict_label)"
   ]
  },
  {
   "cell_type": "markdown",
   "metadata": {},
   "source": [
    "得到了预测的标签,我们可以去检测正确率"
   ]
  },
  {
   "cell_type": "markdown",
   "metadata": {},
   "source": [
    "### 3.2 score of GNB\n",
    "\n",
    "```python\n",
    "np.sum(predict_y == y_test)```\n",
    "\n",
    "这段代码表示数组predict与y_test值相同则会返回True.\n",
    "\n",
    "那么在Python中True则代表1,求和后除上总个数就是正确率"
   ]
  },
  {
   "cell_type": "code",
   "execution_count": 11,
   "metadata": {},
   "outputs": [],
   "source": [
    "def score(pri_prob,mu,sigma,X_test,y_test):\n",
    "    predict_y = predict(pri_prob,mu,sigma,X_test)\n",
    "    Correct_rate = np.sum(predict_y == y_test) / y_test.shape[0]\n",
    "    print(\"correct rate is :{}\".format(Correct_rate))"
   ]
  },
  {
   "cell_type": "code",
   "execution_count": 12,
   "metadata": {},
   "outputs": [
    {
     "name": "stdout",
     "output_type": "stream",
     "text": [
      "correct rate is :1.0\n"
     ]
    }
   ],
   "source": [
    "score(pri_prob,mu,sigma,X_test,y_test)"
   ]
  },
  {
   "cell_type": "markdown",
   "metadata": {},
   "source": [
    "### scikit:GaussianNB:\n",
    "\n",
    "也可以使用scikit-learn中的[GaussianNB](https://scikit-learn.org/stable/modules/generated/sklearn.naive_bayes.GaussianNB.html#sklearn.naive_bayes.GaussianNB)来分类数据"
   ]
  },
  {
   "cell_type": "code",
   "execution_count": 13,
   "metadata": {},
   "outputs": [],
   "source": [
    "from sklearn.naive_bayes import GaussianNB"
   ]
  },
  {
   "cell_type": "code",
   "execution_count": 14,
   "metadata": {},
   "outputs": [],
   "source": [
    "gnb = GaussianNB()\n",
    "y_pred = gnb.fit(X_train, y_train).predict(X_test)"
   ]
  },
  {
   "cell_type": "code",
   "execution_count": 15,
   "metadata": {},
   "outputs": [
    {
     "data": {
      "text/plain": [
       "1.0"
      ]
     },
     "execution_count": 15,
     "metadata": {},
     "output_type": "execute_result"
    }
   ],
   "source": [
    "gnb.score(X_test,y_test)"
   ]
  },
  {
   "cell_type": "markdown",
   "metadata": {},
   "source": [
    "可以看到自写的NaiveBayes_Gaussian函数预测的结果是和scikit一样,说明过程正确."
   ]
  }
 ],
 "metadata": {
  "kernelspec": {
   "display_name": "Python 3",
   "language": "python",
   "name": "python3"
  },
  "language_info": {
   "codemirror_mode": {
    "name": "ipython",
    "version": 3
   },
   "file_extension": ".py",
   "mimetype": "text/x-python",
   "name": "python",
   "nbconvert_exporter": "python",
   "pygments_lexer": "ipython3",
   "version": "3.6.6"
  }
 },
 "nbformat": 4,
 "nbformat_minor": 2
}
