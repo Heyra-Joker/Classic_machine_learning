{
 "cells": [
  {
   "cell_type": "markdown",
   "metadata": {},
   "source": [
    "# Logist Regression(Application)"
   ]
  },
  {
   "cell_type": "markdown",
   "metadata": {},
   "source": [
    "**Gradient Descent algorithm:**\n",
    "\n",
    "输入:样本数据$T=\\{(x_1,y_1),(x_2,y_2),...,(x_N,y_N)\\},y_i\\in\\{0,1\\}$,梯度步长$\\alpha$,迭代停止阈值$\\epsilon$\n",
    "\n",
    "输出:样本预测labels.\n",
    "\n",
    "(1) 初始化参数$W,b$,两者都是向量形式,一般定义为一个很小的数字.\n",
    "\n",
    "(2) 计算线性值:$Z=W\\cdot X+b$\n",
    "\n",
    "(3) sigma函数作用:$A=sigmoid(Z)$\n",
    "\n",
    "(4) 计算损失函数:$loss(w,b) = -\\frac{1}{N}\\cdot \\sum_{i=1}^{N}[y_ilog(\\hat{y_i})+(1-y_i)log(1-\\hat{y})]$\n",
    "\n",
    "(4.1) 计算$dW,db$:$dW=\\frac{1}{m}\\cdot X(A-Y),db=\\frac{1}{m}\\cdot \\sum{(A-Y)}$\n",
    "\n",
    "(5) 更新参数值:$W=W - \\alpha \\cdot dW,b=b-\\alpha \\cdot db$\n",
    "\n",
    "(5.1) L1:$W=W - \\alpha \\cdot (dW+\\lambda sign(W)),b=b-\\alpha \\cdot db$\n",
    "\n",
    "(5.2) L2:$W=W - \\alpha \\cdot (dW+\\lambda W),b=b-\\alpha \\cdot db$\n",
    "\n",
    "(6) 重复(2)-(5)直到损失函数在阈值$\\epsilon$内.退出迭代"
   ]
  },
  {
   "cell_type": "code",
   "execution_count": 1,
   "metadata": {},
   "outputs": [],
   "source": [
    "import numpy as np\n",
    "import matplotlib.pyplot as plt\n",
    "from sklearn import datasets\n",
    "from sklearn.model_selection import train_test_split\n",
    "from sklearn.linear_model import LogisticRegression\n",
    "import h5py"
   ]
  },
  {
   "cell_type": "markdown",
   "metadata": {},
   "source": [
    "### 1 Load data set\n",
    "\n",
    "这里的数据集使用iris数据集."
   ]
  },
  {
   "cell_type": "code",
   "execution_count": 2,
   "metadata": {},
   "outputs": [],
   "source": [
    "def loadData_iris():\n",
    "    \"\"\"\n",
    "    Returns:\n",
    "    --------\n",
    "        X:have two dimensions (sepal length and width).\n",
    "        Y:labels.\n",
    "    \"\"\"\n",
    "    iris = datasets.load_iris()\n",
    "    X = iris.data[:100, :2] \n",
    "    Y = iris.target[:100]\n",
    "    return X,Y"
   ]
  },
  {
   "cell_type": "code",
   "execution_count": 3,
   "metadata": {},
   "outputs": [],
   "source": [
    "X,Y = loadData_iris()"
   ]
  },
  {
   "cell_type": "markdown",
   "metadata": {},
   "source": [
    "#### 1.1 绘制原图查看"
   ]
  },
  {
   "cell_type": "code",
   "execution_count": 4,
   "metadata": {
    "scrolled": true
   },
   "outputs": [
    {
     "data": {
      "text/plain": [
       "<matplotlib.collections.PathCollection at 0x1a1e6cca58>"
      ]
     },
     "execution_count": 4,
     "metadata": {},
     "output_type": "execute_result"
    },
    {
     "data": {
      "image/png": "[encoded data removed]",
      "text/plain": [
       "<Figure size 432x288 with 1 Axes>"
      ]
     },
     "metadata": {
      "needs_background": "light"
     },
     "output_type": "display_data"
    }
   ],
   "source": [
    "plt.scatter(X[:,0],X[:,1],c=Y)"
   ]
  },
  {
   "cell_type": "markdown",
   "metadata": {},
   "source": [
    "#### 1.2 Split data set\n",
    "\n",
    "我们将数据集划分为训练样本和测试样本,比例为:\n",
    "\n",
    "训练样本:测试样本 = 0.8:0.2"
   ]
  },
  {
   "cell_type": "code",
   "execution_count": 5,
   "metadata": {},
   "outputs": [],
   "source": [
    "X_train, X_test, y_train, y_test = train_test_split(X, Y, test_size=0.2, random_state=42)"
   ]
  },
  {
   "cell_type": "markdown",
   "metadata": {},
   "source": [
    "### 2 Build Logistic Regression Model\n",
    "\n",
    "在构建模型之前,我们需要注意,用Python实现算法的过程中,一定要避免多次for-loop,因为Python的效率比较低,多次使用for-loop会使得代码执行效率非常低下.所以要养成在实现算法的时候避免多次for-loop.所以我们能使用向量的形式就不要使用for-loop或者while-loop.\n",
    "\n",
    "#### 2.1 Sigmoid function\n",
    "\n",
    "$\\sigma(z)=\\frac{1}{1+e^{-z}}$"
   ]
  },
  {
   "cell_type": "code",
   "execution_count": 6,
   "metadata": {},
   "outputs": [],
   "source": [
    "def sigmoid(Z):\n",
    "    return 1./(1. + np.exp(-Z))"
   ]
  },
  {
   "cell_type": "markdown",
   "metadata": {},
   "source": [
    "#### 2.2 initialization parameters\n",
    "\n",
    "这里在初始化参数时需要有几个注意的地方:\n",
    "\n",
    "(1) 参数$w,b$的初始值不可过大,这样会使得参数初始值处于sigmoid函数的平缓地带.所以我们会使用\n",
    "\n",
    "```python\n",
    "W = np.random.rand(1,n)```\n",
    "\n",
    "(2) 我们需要设置随机种子,这样可以保证每次运行的初始结果是一样的.这样做的好处是:\n",
    "\n",
    "我们在进行不同超级参数$\\alpha,\\lambda,Iter$调节的时候,不会因为初始值的改变而使得结果不可信."
   ]
  },
  {
   "cell_type": "code",
   "execution_count": 7,
   "metadata": {},
   "outputs": [],
   "source": [
    "def initial(n):\n",
    "    \"\"\"\n",
    "    initialization parameters\n",
    "    \n",
    "    Returns:\n",
    "    -------\n",
    "        W:weights\n",
    "        b:bias\n",
    "    \"\"\"\n",
    "    np.random.seed(1)\n",
    "    W = np.random.rand(1,n)\n",
    "    b = np.zeros((1,1))\n",
    "    \n",
    "    return W,b"
   ]
  },
  {
   "cell_type": "markdown",
   "metadata": {},
   "source": [
    "#### 2.3 Build LR\n",
    "\n",
    "构建基本的Logistics Regression的时候,我们需要看看各个参数的维度以及损失函数\n",
    "\n",
    "**参数维度:**\n",
    "\n",
    "假设我们的训练样本$X$的维度是(m,n),标签的维度是(1,m)其中m:样本数量,n:特征数量\n",
    "\n",
    "那么我们经过参数$W,b$预测出来的值记为$A$则:\n",
    "\n",
    "$A$:(1,m)\n",
    "\n",
    "$Z$:(1,m),因为$sigmoid(Z)$并不改变矩阵维度\n",
    "\n",
    "$Z=WX+b$:所以我们令$W$的维度为(1,n),这样$(1,n)X(m,n)^{T} $可以得到(1,m).$b$为常数.\n",
    "\n",
    "\n",
    "**Ps:**\n",
    "\n",
    "\n",
    "- 其实这里的初始$W,b$维度可以不用这样令.无论是$W$转置还是$X$只要最后能得到(1,m)的形式就行,我这里这样令维度是对接神经网络,方便记忆.\n",
    "\n",
    "- 特别地:在python中形状是(m,)就相当于维度(1,m)\n",
    "\n",
    "- 因为Numpy的广播机制存在,所以$WX$得到的结果可以和一个常数相加\n"
   ]
  },
  {
   "cell_type": "code",
   "execution_count": 8,
   "metadata": {},
   "outputs": [],
   "source": [
    "def LR(X_train,y_train,alpha,Iter,is_print=False):\n",
    "    \n",
    "    \"\"\"\n",
    "    Implementation Logistics Regression.\n",
    "    \n",
    "    Parameters:\n",
    "    ----------\n",
    "        X_train: training set\n",
    "        y_train: labels\n",
    "        alpha: learning rate\n",
    "        Iter: Iter\n",
    "        is_print: is print loss value.\n",
    "        \n",
    "    Return:\n",
    "        W: Best weights\n",
    "        b: Best bias\n",
    "        cost: loss value.\n",
    "    \n",
    "    \n",
    "    \"\"\"\n",
    "    m,n = X_train.shape\n",
    "    \n",
    "    W,b = initial(n)\n",
    "    cost = []\n",
    "    for iter_ in range(Iter):\n",
    "\n",
    "        Z = np.dot(W,X_train.T) + b\n",
    "        A = sigmoid(Z)\n",
    "        \n",
    "        loss = - np.sum((y_train*np.log(A)+(1-y_train)*np.log(1-A)))/m\n",
    "        cost.append(loss)\n",
    "        \n",
    "        if is_print and iter_ % 10==0:\n",
    "            print(\"Iter:{},loss:{}\".format(iter_,loss))\n",
    "            \n",
    "        dZ = A - y_train\n",
    "        \n",
    "        dW = np.dot(dZ,X_train)/m\n",
    "        \n",
    "        assert dW.shape == W.shape  # Make sure the shape is rigth.\n",
    "        \n",
    "        db = np.sum(dZ,keepdims=True) /m\n",
    "        \n",
    "        assert db.shape == b.shape \n",
    "        \n",
    "        # Update parameters.\n",
    "        \n",
    "        W = W - alpha * dW\n",
    "        b = b - alpha * db\n",
    "        \n",
    "    return W,b,cost"
   ]
  },
  {
   "cell_type": "code",
   "execution_count": 9,
   "metadata": {},
   "outputs": [
    {
     "name": "stdout",
     "output_type": "stream",
     "text": [
      "Iter:0,loss:2.161388059335653\n",
      "Iter:10,loss:0.7265183340216593\n",
      "Iter:20,loss:0.6620905229934377\n",
      "Iter:30,loss:0.6069928037970909\n",
      "Iter:40,loss:0.5597795478119861\n",
      "Iter:50,loss:0.519167524821553\n",
      "Iter:60,loss:0.48405830518414694\n",
      "Iter:70,loss:0.4535332296778389\n",
      "Iter:80,loss:0.4268345248252592\n",
      "Iter:90,loss:0.4033415847378393\n"
     ]
    }
   ],
   "source": [
    "W,b,cost = LR(X_train,y_train,0.1,100,is_print=True)"
   ]
  },
  {
   "cell_type": "code",
   "execution_count": 10,
   "metadata": {
    "scrolled": true
   },
   "outputs": [
    {
     "data": {
      "image/png": "[encoded data removed]",
      "text/plain": [
       "<Figure size 432x288 with 1 Axes>"
      ]
     },
     "metadata": {
      "needs_background": "light"
     },
     "output_type": "display_data"
    }
   ],
   "source": [
    "plt.plot(cost);plt.title('Cost value');"
   ]
  },
  {
   "cell_type": "markdown",
   "metadata": {},
   "source": [
    "可以看出在迭代过程中损失是在下降的,这是符合正常逻辑的.一般如果参数设置的比较好,你会发先你的损失函数图会呈现类似于上图的情况"
   ]
  },
  {
   "cell_type": "markdown",
   "metadata": {},
   "source": [
    "\n",
    "#### 2.4 Build Predict function\n",
    "\n",
    "现在构建预测函数,并且返回正确率.\n",
    "\n",
    "另外我们说过,在sigmoid函数中如果值大于0.5,我们将其分为第一类,小于0.5我们可以将其分为第二类.\n",
    "\n",
    "所以我们可以使用四舍五入函数\n",
    "\n",
    "```python\n",
    "\n",
    "np.round(A)```"
   ]
  },
  {
   "cell_type": "code",
   "execution_count": 11,
   "metadata": {},
   "outputs": [],
   "source": [
    "def Predict(X_test,y_test,W,b):\n",
    "    \"\"\"\n",
    "    Predict labels.\n",
    "    \n",
    "    Prameters:\n",
    "    ----------\n",
    "        X_test:testing set\n",
    "        y_test:labels\n",
    "        W:weights\n",
    "        b:bias\n",
    "        \n",
    "    Return:\n",
    "    ------\n",
    "        correct_rate: correct rate.\n",
    "    \n",
    "    \"\"\"\n",
    "    Z = np.dot(W,X_test.T) + b\n",
    "    A = sigmoid(Z)\n",
    "    \n",
    "    predict_y = np.round(A) \n",
    "    \n",
    "    correct_rate = np.sum((predict_y==y_test))/y_test.shape[0]\n",
    "    \n",
    "    return correct_rate"
   ]
  },
  {
   "cell_type": "code",
   "execution_count": 12,
   "metadata": {},
   "outputs": [
    {
     "name": "stdout",
     "output_type": "stream",
     "text": [
      "The test set correct rate is: 1.0\n"
     ]
    }
   ],
   "source": [
    "correct_rate = Predict(X_test,y_test,W,b)\n",
    "print('The test set correct rate is:',correct_rate)"
   ]
  },
  {
   "cell_type": "code",
   "execution_count": 13,
   "metadata": {
    "scrolled": true
   },
   "outputs": [
    {
     "name": "stdout",
     "output_type": "stream",
     "text": [
      "The train set correct rate is: 0.9875\n"
     ]
    }
   ],
   "source": [
    "correct_rate = Predict(X_train,y_train,W,b)\n",
    "print('The train set correct rate is:',correct_rate)"
   ]
  },
  {
   "cell_type": "markdown",
   "metadata": {},
   "source": [
    "可以看出无论是测试样本还是训练样本的正确率都可以接受.所以该模型现阶段是可行的.也没有发生过拟合或者欠拟合的现象.\n",
    "\n",
    "**Ps:**\n",
    "\n",
    "(1) 实际上在寻找最优参数$W,b$的过程中,我们是不知道该如何调节学习率和迭代次数来保证找到的参数是优秀的.\n",
    "\n",
    "(2) 通常学习率不可以过高,学习率没有其他的办法去预测,只有靠经验来预估.\n",
    "\n",
    "(3) 一个比较好的方法就是交叉验证,对于不同的学习率和迭代次数所参数的测试、训练样本正确率进行比对,选择较好的学习率和迭代次数."
   ]
  },
  {
   "cell_type": "markdown",
   "metadata": {},
   "source": [
    "### 3 Scikit-learn LogisticRegression\n",
    "\n",
    "同样我们也可以使用scikit-learn中的LogisticRegression来拟合数据\n",
    "\n",
    "**Ps:**\n",
    "\n",
    "scikit-learn中对于LR有两个函数:\n",
    "\n",
    "(1) [LogisticRegression](https://scikit-learn.org/stable/modules/generated/sklearn.linear_model.LogisticRegression.html#sklearn.linear_model.LogisticRegression):即我们普通的LR\n",
    "\n",
    "(2) [LogisticRegressionCV](https://scikit-learn.org/stable/modules/generated/sklearn.linear_model.LogisticRegressionCV.html):带交叉验证的LR\n",
    "\n"
   ]
  },
  {
   "cell_type": "code",
   "execution_count": 14,
   "metadata": {},
   "outputs": [
    {
     "name": "stderr",
     "output_type": "stream",
     "text": [
      "/Users/huwang/anaconda3/lib/python3.7/site-packages/sklearn/linear_model/logistic.py:433: FutureWarning: Default solver will be changed to 'lbfgs' in 0.22. Specify a solver to silence this warning.\n",
      "  FutureWarning)\n"
     ]
    },
    {
     "data": {
      "text/plain": [
       "LogisticRegression(C=1.0, class_weight=None, dual=False, fit_intercept=True,\n",
       "          intercept_scaling=1, max_iter=100, multi_class='warn',\n",
       "          n_jobs=None, penalty='l2', random_state=None, solver='warn',\n",
       "          tol=0.0001, verbose=0, warm_start=False)"
      ]
     },
     "execution_count": 14,
     "metadata": {},
     "output_type": "execute_result"
    }
   ],
   "source": [
    "logreg = LogisticRegression()\n",
    "logreg.fit(X_train,y_train)"
   ]
  },
  {
   "cell_type": "code",
   "execution_count": 15,
   "metadata": {},
   "outputs": [],
   "source": [
    "logreg_predict = logreg.predict(X_test)"
   ]
  },
  {
   "cell_type": "code",
   "execution_count": 16,
   "metadata": {
    "scrolled": true
   },
   "outputs": [
    {
     "name": "stdout",
     "output_type": "stream",
     "text": [
      "the test set accurate is: 1.0\n"
     ]
    }
   ],
   "source": [
    "accurate = (logreg_predict == y_test).sum() / y_test.shape[0]\n",
    "\n",
    "print('the test set accurate is:',accurate)"
   ]
  },
  {
   "cell_type": "markdown",
   "metadata": {},
   "source": [
    "### 4 Regularization\n",
    "\n",
    "如果你发现在拟合过程中,无论怎样调节超级参数$learning rate,Iter,C$都无法出现很好的情况,那么除了[特征工程](https://www.zhihu.com/question/29316149)之外,你就需要考虑正则化.\n",
    "\n",
    "其中C是惩罚项,就是我们正则化式子中的$\\lambda$\n",
    "\n",
    "\n",
    "(1) $L_1$ Regular:$loss(W) = -[Ylog(\\hat{Y})+(1-Y)log(1-\\hat{Y})] + \\lambda {||W||}_1$\n",
    "\n",
    "(2) $L_1$ Regular:$loss(W) = -[Ylog(\\hat{Y})+(1-Y)log(1-\\hat{Y})] + \\frac{\\lambda}{2} {||W||}_2$"
   ]
  },
  {
   "cell_type": "code",
   "execution_count": 17,
   "metadata": {},
   "outputs": [],
   "source": [
    "def LR_Regular(X_train,y_train,alpha,Iter,C,is_print,Regular_method='l2'):\n",
    "    \"\"\"\n",
    "    Implementation Regularization of LR\n",
    "    \n",
    "    Prameters:\n",
    "    ---------\n",
    "        X_train: training set.\n",
    "        y_train: labels\n",
    "        alpha: learning\n",
    "        Iter:number of iterative\n",
    "        C: regularization strength\n",
    "        is_print: is print loss value\n",
    "        Regular_method: l1 or l2,default l2\n",
    "    Return:\n",
    "    ------\n",
    "        W:Weights\n",
    "        b:bias\n",
    "        cost: loss value\n",
    "    \"\"\"\n",
    "    m,n = X_train.shape\n",
    "    W,b = initial(n)\n",
    "    \n",
    "    cost = []\n",
    "    \n",
    "    for iter_ in range(Iter):\n",
    "        \n",
    "        Z = np.dot(W,X_train.T) + b\n",
    "        A = sigmoid(Z)\n",
    "        \n",
    "        if Regular_method ==\"l2\":\n",
    "            loss = - (np.sum((y_train*np.log(A)+(1-y_train)*np.log(1-A))) + (C/2)*np.sum(W**2))/m\n",
    "        elif Regular_method==\"l1\":\n",
    "            loss = - (np.sum((y_train*np.log(A)+(1-y_train)*np.log(1-A))) + C*np.sum(np.abs(W)))/m\n",
    "        \n",
    "        cost.append(loss)\n",
    "        if is_print and iter_ % 100 ==0:\n",
    "            print(\"Iter:{},loss:{}\".format(iter_,loss))\n",
    "            \n",
    "        dZ = A - y_train\n",
    "        if Regular_method ==\"l2\": \n",
    "            dW = (np.dot(dZ,X_train)+C*W)/m\n",
    "        elif Regular_method ==\"l1\": \n",
    "            dW = (np.dot(dZ,X_train)+C*np.sign(W))/m\n",
    "        \n",
    "        assert dW.shape == W.shape # Make sure the shape is right.\n",
    "        \n",
    "        db = np.sum(dZ,keepdims=True) /m\n",
    "        \n",
    "        assert db.shape == b.shape\n",
    "        \n",
    "    \n",
    "        W = W - alpha * dW\n",
    "        b = b - alpha * db\n",
    "        \n",
    "\n",
    "    return W,b,cost"
   ]
  },
  {
   "cell_type": "code",
   "execution_count": 18,
   "metadata": {},
   "outputs": [
    {
     "name": "stdout",
     "output_type": "stream",
     "text": [
      "Iter:0,loss:2.160955075130491\n"
     ]
    }
   ],
   "source": [
    "W,b,cost = LR_Regular(X_train,y_train,0.1,90,0.1,True,'l2')"
   ]
  },
  {
   "cell_type": "code",
   "execution_count": 19,
   "metadata": {},
   "outputs": [
    {
     "data": {
      "text/plain": [
       "[<matplotlib.lines.Line2D at 0x1a1e804940>]"
      ]
     },
     "execution_count": 19,
     "metadata": {},
     "output_type": "execute_result"
    },
    {
     "data": {
      "image/png": "[encoded data removed]",
      "text/plain": [
       "<Figure size 432x288 with 1 Axes>"
      ]
     },
     "metadata": {
      "needs_background": "light"
     },
     "output_type": "display_data"
    }
   ],
   "source": [
    "plt.plot(cost)"
   ]
  },
  {
   "cell_type": "code",
   "execution_count": 20,
   "metadata": {},
   "outputs": [
    {
     "name": "stdout",
     "output_type": "stream",
     "text": [
      "The test set correct rate is: 1.0\n"
     ]
    }
   ],
   "source": [
    "correct_rate = Predict(X_test,y_test,W,b)\n",
    "print('The test set correct rate is:',correct_rate)"
   ]
  },
  {
   "cell_type": "code",
   "execution_count": 21,
   "metadata": {
    "scrolled": true
   },
   "outputs": [
    {
     "name": "stdout",
     "output_type": "stream",
     "text": [
      "The test set correct rate is: 0.9875\n"
     ]
    }
   ],
   "source": [
    "correct_rate = Predict(X_train,y_train,W,b)\n",
    "print('The test set correct rate is:',correct_rate)"
   ]
  },
  {
   "cell_type": "markdown",
   "metadata": {},
   "source": [
    "实际上这里的例子并不会因为正则化之后而变得特别好,因为数据过于简单.所以正则化无法很好的体现,但是正则化会加快最优值的收敛."
   ]
  },
  {
   "cell_type": "markdown",
   "metadata": {},
   "source": [
    "#### 4.2 Scikit-laern\n",
    "\n",
    "同样我们也可以在scikit上使用正则化"
   ]
  },
  {
   "cell_type": "markdown",
   "metadata": {},
   "source": [
    "**Ps:**\n",
    "\n",
    "在scikit中alpha是惩罚项,且惩罚项定义的是$\\frac{1}{C}$,也就是说与我们定义的是为导数关系,所以scikit中C越小惩罚越大\n",
    "\n",
    "```python\n",
    "\"\"\"alpha : float\n",
    "        Regularization parameter. alpha is equal to 1 / C.\"\"\"```\n",
    "        \n",
    "附上其[源码](https://github.com/scikit-learn/scikit-learn/blob/7389dba/sklearn/linear_model/logistic.py#L998)"
   ]
  },
  {
   "cell_type": "code",
   "execution_count": 22,
   "metadata": {},
   "outputs": [
    {
     "name": "stdout",
     "output_type": "stream",
     "text": [
      "the test set accurate is: 1.0\n"
     ]
    },
    {
     "name": "stderr",
     "output_type": "stream",
     "text": [
      "/Users/huwang/anaconda3/lib/python3.7/site-packages/sklearn/linear_model/logistic.py:433: FutureWarning: Default solver will be changed to 'lbfgs' in 0.22. Specify a solver to silence this warning.\n",
      "  FutureWarning)\n"
     ]
    }
   ],
   "source": [
    "logreg = LogisticRegression(C=0.1)\n",
    "logreg.fit(X_train,y_train)\n",
    "logreg_predict = logreg.predict(X_test)\n",
    "accurate = (logreg_predict == y_test).sum() / y_test.shape[0]\n",
    "print('the test set accurate is:',accurate)"
   ]
  },
  {
   "cell_type": "markdown",
   "metadata": {},
   "source": [
    "### 5 LR and Picture\n",
    "\n",
    "现在我们来看看最后一个案例,将LR应用于图片分类中.构建\"猫与非猫\"的二元分类器"
   ]
  },
  {
   "cell_type": "markdown",
   "metadata": {},
   "source": [
    "#### 5.1 加载数据集\n",
    "\n",
    "这个数据集是放在h5文件中的,所以我们需要使用库h5py将图片数据读取出来."
   ]
  },
  {
   "cell_type": "code",
   "execution_count": 23,
   "metadata": {},
   "outputs": [],
   "source": [
    "def load_data():\n",
    "    '''\n",
    "    create train set and test set\n",
    "    make sure you have .h5 file in your dataset\n",
    "    \n",
    "    Returns:\n",
    "    -------\n",
    "        train_set_x_orig: original train set shape is (209, 64, 64, 3) \n",
    "        train_set_y_orig: original train label shape is (209,)\n",
    "        test_set_x_orig: original test set shape is (50, 64, 64, 3)\n",
    "        test_set_y_orig: original test label shape is (50,)\n",
    "        classes: cat or non-cat.\n",
    "        \n",
    "    Note:\n",
    "    ----\n",
    "        (209, 64, 64, 3): 209 picture,64 width,64 height,3 channel.\n",
    "    '''\n",
    "    train_dataset = h5py.File('data_set/train_catvnoncat.h5', \"r\")\n",
    "    train_set_x_orig = np.array(train_dataset[\"train_set_x\"][:]) # your train set features\n",
    "    train_set_y_orig = np.array(train_dataset[\"train_set_y\"][:]) # your train set labels\n",
    "\n",
    "    test_dataset = h5py.File('data_set/test_catvnoncat.h5', \"r\")\n",
    "    test_set_x_orig = np.array(test_dataset[\"test_set_x\"][:]) # your test set features\n",
    "    test_set_y_orig = np.array(test_dataset[\"test_set_y\"][:]) # your test set labels\n",
    "\n",
    "    classes = np.array(test_dataset[\"list_classes\"][:]) # the list of classes\n",
    "    \n",
    "    return train_set_x_orig, train_set_y_orig, test_set_x_orig, test_set_y_orig, classes"
   ]
  },
  {
   "cell_type": "code",
   "execution_count": 24,
   "metadata": {},
   "outputs": [],
   "source": [
    "train_x_orig, train_y, test_x_orig, test_y, classes = load_data()"
   ]
  },
  {
   "cell_type": "markdown",
   "metadata": {},
   "source": [
    "#### 5.2 reshape picture\n",
    "\n",
    "由于图片的原始数据是(m,width,height,channel)的形式,我们需要将其转换为(m,n)的形式,也就是说我们需要将channel的所有数字转换成一列.并除上255归一化.更多图片的学习,我们将在K-means算法中学习."
   ]
  },
  {
   "cell_type": "code",
   "execution_count": 25,
   "metadata": {},
   "outputs": [
    {
     "name": "stdout",
     "output_type": "stream",
     "text": [
      "Train_x's shape:(209, 12288)\n",
      "Test_x's shape:(50, 12288)\n",
      "Train_y's shape:(209,)\n",
      "Test_y's shape:(50,)\n"
     ]
    }
   ],
   "source": [
    "train_x = train_x_orig.reshape(train_x_orig.shape[0],-1) / 255 \n",
    "test_x = test_x_orig.reshape(test_x_orig.shape[0],-1) / 255\n",
    "print('Train_x\\'s shape:{}'.format(train_x.shape))\n",
    "print('Test_x\\'s shape:{}'.format(test_x.shape))\n",
    "print(\"Train_y's shape:{}\".format(train_y.shape))\n",
    "print(\"Test_y's shape:{}\".format(test_y.shape))"
   ]
  },
  {
   "cell_type": "markdown",
   "metadata": {},
   "source": [
    "取出一个图片查看"
   ]
  },
  {
   "cell_type": "code",
   "execution_count": 26,
   "metadata": {},
   "outputs": [
    {
     "name": "stdout",
     "output_type": "stream",
     "text": [
      "y = 0. It's a non-cat picture.\n"
     ]
    },
    {
     "data": {
      "image/png": "[encoded data removed]",
      "text/plain": [
       "<Figure size 432x288 with 1 Axes>"
      ]
     },
     "metadata": {
      "needs_background": "light"
     },
     "output_type": "display_data"
    }
   ],
   "source": [
    "index = 0\n",
    "plt.imshow(train_x_orig[index])\n",
    "print (\"y = \" + str(train_y[index]) + \". It's a \" + classes[train_y[index]].decode(\"utf-8\") +  \" picture.\")"
   ]
  },
  {
   "cell_type": "code",
   "execution_count": 27,
   "metadata": {
    "scrolled": true
   },
   "outputs": [
    {
     "name": "stdout",
     "output_type": "stream",
     "text": [
      "y = 1. It's a cat picture.\n"
     ]
    },
    {
     "data": {
      "image/png": "[encoded data removed]",
      "text/plain": [
       "<Figure size 432x288 with 1 Axes>"
      ]
     },
     "metadata": {
      "needs_background": "light"
     },
     "output_type": "display_data"
    }
   ],
   "source": [
    "index = 13\n",
    "plt.imshow(train_x_orig[index])\n",
    "print (\"y = \" + str(train_y[index]) + \". It's a \" + classes[train_y[index]].decode(\"utf-8\") +  \" picture.\")"
   ]
  },
  {
   "cell_type": "markdown",
   "metadata": {},
   "source": [
    "### 5.3 使用Scikit"
   ]
  },
  {
   "cell_type": "code",
   "execution_count": 28,
   "metadata": {},
   "outputs": [],
   "source": [
    "logreg_img = LogisticRegression(C=1,max_iter=500)"
   ]
  },
  {
   "cell_type": "code",
   "execution_count": 29,
   "metadata": {},
   "outputs": [
    {
     "name": "stderr",
     "output_type": "stream",
     "text": [
      "/Users/huwang/anaconda3/lib/python3.7/site-packages/sklearn/linear_model/logistic.py:433: FutureWarning: Default solver will be changed to 'lbfgs' in 0.22. Specify a solver to silence this warning.\n",
      "  FutureWarning)\n"
     ]
    },
    {
     "data": {
      "text/plain": [
       "LogisticRegression(C=1, class_weight=None, dual=False, fit_intercept=True,\n",
       "          intercept_scaling=1, max_iter=500, multi_class='warn',\n",
       "          n_jobs=None, penalty='l2', random_state=None, solver='warn',\n",
       "          tol=0.0001, verbose=0, warm_start=False)"
      ]
     },
     "execution_count": 29,
     "metadata": {},
     "output_type": "execute_result"
    }
   ],
   "source": [
    "logreg_img.fit(train_x,train_y)"
   ]
  },
  {
   "cell_type": "code",
   "execution_count": 30,
   "metadata": {},
   "outputs": [],
   "source": [
    "predict_img = logreg_img.predict(test_x)"
   ]
  },
  {
   "cell_type": "code",
   "execution_count": 31,
   "metadata": {},
   "outputs": [
    {
     "name": "stdout",
     "output_type": "stream",
     "text": [
      "The test predict is: 0.72\n"
     ]
    }
   ],
   "source": [
    "accurate = np.sum((predict_img==test_y)) / test_y.shape[0]\n",
    "print('The test predict is:',accurate)"
   ]
  },
  {
   "cell_type": "code",
   "execution_count": 32,
   "metadata": {
    "scrolled": true
   },
   "outputs": [
    {
     "name": "stdout",
     "output_type": "stream",
     "text": [
      "The test predict is: 1.0\n"
     ]
    }
   ],
   "source": [
    "predict_img = logreg_img.predict(train_x)\n",
    "accurate = np.sum((predict_img==train_y)) / train_y.shape[0]\n",
    "print('The test predict is:',accurate)"
   ]
  },
  {
   "cell_type": "markdown",
   "metadata": {},
   "source": [
    "#### 5.4 使用LR_Regular"
   ]
  },
  {
   "cell_type": "code",
   "execution_count": 33,
   "metadata": {},
   "outputs": [
    {
     "name": "stdout",
     "output_type": "stream",
     "text": [
      "Iter:0,loss:nan\n",
      "Iter:100,loss:nan\n"
     ]
    },
    {
     "name": "stderr",
     "output_type": "stream",
     "text": [
      "/Users/huwang/anaconda3/lib/python3.7/site-packages/ipykernel_launcher.py:31: RuntimeWarning: divide by zero encountered in log\n",
      "/Users/huwang/anaconda3/lib/python3.7/site-packages/ipykernel_launcher.py:31: RuntimeWarning: invalid value encountered in multiply\n"
     ]
    },
    {
     "name": "stdout",
     "output_type": "stream",
     "text": [
      "Iter:200,loss:nan\n",
      "Iter:300,loss:nan\n",
      "Iter:400,loss:inf\n",
      "Iter:500,loss:2.3370861458646752\n",
      "Iter:600,loss:1.0534926584987792\n",
      "Iter:700,loss:0.6529591365207581\n",
      "Iter:800,loss:0.45723991534598857\n",
      "Iter:900,loss:0.3497704251041613\n"
     ]
    }
   ],
   "source": [
    "W_img,b_img,cost_img = LR_Regular(train_x,train_y,0.01,1000,0,True,'l2')"
   ]
  },
  {
   "cell_type": "code",
   "execution_count": 34,
   "metadata": {},
   "outputs": [
    {
     "data": {
      "text/plain": [
       "[<matplotlib.lines.Line2D at 0x1a20920f60>]"
      ]
     },
     "execution_count": 34,
     "metadata": {},
     "output_type": "execute_result"
    },
    {
     "data": {
      "image/png": "[encoded data removed]",
      "text/plain": [
       "<Figure size 432x288 with 1 Axes>"
      ]
     },
     "metadata": {
      "needs_background": "light"
     },
     "output_type": "display_data"
    }
   ],
   "source": [
    "plt.plot(cost_img)"
   ]
  },
  {
   "cell_type": "code",
   "execution_count": 35,
   "metadata": {},
   "outputs": [
    {
     "name": "stdout",
     "output_type": "stream",
     "text": [
      "The test ste correct rate is: 0.72\n"
     ]
    }
   ],
   "source": [
    "correct_rate = Predict(test_x,test_y,W_img,b_img)\n",
    "print('The test ste correct rate is:',correct_rate)"
   ]
  },
  {
   "cell_type": "code",
   "execution_count": 36,
   "metadata": {},
   "outputs": [
    {
     "name": "stdout",
     "output_type": "stream",
     "text": [
      "The train ste correct rate is: 0.9234449760765551\n"
     ]
    }
   ],
   "source": [
    "correct_rate = Predict(train_x,train_y,W_img,b_img)\n",
    "print('The train ste correct rate is:',correct_rate)"
   ]
  },
  {
   "cell_type": "markdown",
   "metadata": {},
   "source": [
    "可以看出两个的效果都是类似的,实际上对于图片这种高纬度的数据而言,正确率有0.72已经是相对比较高了.当然正确的做法应该是使用神经网络.\n",
    "\n",
    "**Ps:**\n",
    "\n",
    "使用LR_Regular刚开始迭代的时候,存在梯度爆炸的问题,这个实际上是以为数据维度高,而我们欠缺优化超级参数,这点将在神经玩网络中说明.\n",
    "\n",
    "无论怎样,结果还是不错的.\n",
    "\n",
    "另外这里出现了上下溢问题:\n",
    "\n",
    "- 数值上溢:大量级的数被近似为正无穷或负无穷时发生上溢,进一步运算导致无限值变为非数字.\n",
    "- 数值下溢:接近零的数被四舍五入为0时发生下溢.被零除,取零的对数，进一步运算会变为非数字."
   ]
  },
  {
   "cell_type": "markdown",
   "metadata": {},
   "source": [
    "# Homework\n",
    "\n",
    "使用data_set中的horseColicTest.txt和horseColicTraining.txt做LR\n",
    "\n",
    "Good Luck~"
   ]
  }
 ],
 "metadata": {
  "kernelspec": {
   "display_name": "Python 3",
   "language": "python",
   "name": "python3"
  },
  "language_info": {
   "codemirror_mode": {
    "name": "ipython",
    "version": 3
   },
   "file_extension": ".py",
   "mimetype": "text/x-python",
   "name": "python",
   "nbconvert_exporter": "python",
   "pygments_lexer": "ipython3",
   "version": "3.7.1"
  }
 },
 "nbformat": 4,
 "nbformat_minor": 2
}
