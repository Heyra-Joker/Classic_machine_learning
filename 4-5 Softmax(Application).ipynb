{
 "cells": [
  {
   "cell_type": "markdown",
   "metadata": {},
   "source": [
    "# Softmax(Application)"
   ]
  },
  {
   "cell_type": "markdown",
   "metadata": {},
   "source": [
    "**Softmax Algorithm:**\n",
    "\n",
    "输入:样本数据$X=\\{x_1,x_2,...,x_m\\}$,样本标签$Y=\\{y_1,y_2,...,y_m\\}$,其中每个样本$x_i$有n个特征.每个标签$y_i\\in \\{1,2,...,C\\}$,学习率$\\alpha$\n",
    "\n",
    "输出:样本预测标签$\\hat{Y}$\n",
    "\n",
    "(1) 将样本标签转换成\"Hot\"形式:$Y=\\begin{bmatrix}\n",
    "1 &0  &...  &0 \\\\ \n",
    " 0&1  &...  &0 \\\\ \n",
    "... & ... & ... &... \\\\ \n",
    " 0&0  &...  & 1\n",
    "\\end{bmatrix}_{C,N}$,即对应的类别为1,其余为0.初始化$W,b$\n",
    "\n",
    "(2) 计算线性值$Z=WX+b$\n",
    "\n",
    "(3) 计算预测值$A=softmax(Z)$\n",
    "\n",
    "(4) 计算损失函数$loss(w,b)= -\\frac{1}{m}\\cdot \\sum_{i=1}^{m}y_ilog\\hat{y_i}$\n",
    "\n",
    "(5) 更新参数:\n",
    "    \n",
    "$W{:=}W-\\alpha dW$\n",
    "    \n",
    "$b:=W =\\alpha db$\n",
    "\n",
    "(6) 在损失精度阈值$\\epsilon$内退出迭代,即$|loss^{k+1}-loss^{k}|<\\epsilon$"
   ]
  },
  {
   "cell_type": "code",
   "execution_count": 1,
   "metadata": {},
   "outputs": [],
   "source": [
    "import numpy as np\n",
    "import matplotlib.pyplot as plt\n",
    "from sklearn import datasets\n",
    "from sklearn.model_selection import train_test_split"
   ]
  },
  {
   "cell_type": "markdown",
   "metadata": {},
   "source": [
    "### 1 load data set\n",
    "\n",
    "我们继续使用LR的数据,不过这里的分类是3类."
   ]
  },
  {
   "cell_type": "code",
   "execution_count": 2,
   "metadata": {},
   "outputs": [],
   "source": [
    "def loadData_iris():\n",
    "    \"\"\"\n",
    "    Returns:\n",
    "    --------\n",
    "        X:have two dimensions (sepal length and width).\n",
    "        Y:labels.\n",
    "    \"\"\"\n",
    "    iris = datasets.load_iris()\n",
    "    X = iris.data[:, :2]\n",
    "    Y = iris.target\n",
    "    return X,Y"
   ]
  },
  {
   "cell_type": "code",
   "execution_count": 3,
   "metadata": {},
   "outputs": [],
   "source": [
    "X,Y = loadData_iris()"
   ]
  },
  {
   "cell_type": "code",
   "execution_count": 4,
   "metadata": {},
   "outputs": [
    {
     "data": {
      "text/plain": [
       "<matplotlib.collections.PathCollection at 0x11b22f128>"
      ]
     },
     "execution_count": 4,
     "metadata": {},
     "output_type": "execute_result"
    },
    {
     "data": {
      "image/png": "[encoded data removed]",
      "text/plain": [
       "<Figure size 432x288 with 1 Axes>"
      ]
     },
     "metadata": {
      "needs_background": "light"
     },
     "output_type": "display_data"
    }
   ],
   "source": [
    "plt.scatter(X[:,0],X[:,1],c=Y)"
   ]
  },
  {
   "cell_type": "markdown",
   "metadata": {},
   "source": [
    "可以看出图中有三个分类,分别是黄色,绿色和紫色."
   ]
  },
  {
   "cell_type": "markdown",
   "metadata": {},
   "source": [
    "#### 1.1 Split data set\n",
    "\n",
    "同样,我们将数据集拆分为训练样本和测试样本,\n",
    "\n",
    "其中训练样本的形状为(m,n),样本标签为(m,),m:样本数量,n:样本特征."
   ]
  },
  {
   "cell_type": "code",
   "execution_count": 5,
   "metadata": {},
   "outputs": [],
   "source": [
    "X_train, X_test, y_train, y_test = train_test_split(X, Y, test_size=0.2, random_state=42)"
   ]
  },
  {
   "cell_type": "markdown",
   "metadata": {},
   "source": [
    "### 2 One-Hot"
   ]
  },
  {
   "cell_type": "markdown",
   "metadata": {},
   "source": [
    "Many times in deep learning you will have a y vector with numbers ranging from 0 to C-1, where C is the number of classes. If C is for example 4, then you might have the following y vector which you will need to convert as follows:\n",
    "![](picture/66.png)\n",
    "\n",
    "This is called a \"one hot\" encoding, because in the converted representation exactly one element of each column is \"hot\" (meaning set to 1). To do this conversion in numpy, you might have to write a few lines of code. In numpy, you can use one line of code:\n",
    "- np.eye()"
   ]
  },
  {
   "cell_type": "code",
   "execution_count": 6,
   "metadata": {},
   "outputs": [],
   "source": [
    "def Hot(Y,classes):\n",
    "    \"\"\"\n",
    "    change to \"One-Hot\"\n",
    "    \n",
    "    Return:\n",
    "    ------\n",
    "        one hot.\n",
    "    \"\"\"\n",
    "    return np.eye(classes)[Y.ravel()].T"
   ]
  },
  {
   "cell_type": "code",
   "execution_count": 7,
   "metadata": {},
   "outputs": [
    {
     "name": "stdout",
     "output_type": "stream",
     "text": [
      "(3, 120)\n"
     ]
    }
   ],
   "source": [
    "y = Hot(y_train,3)\n",
    "print(y.shape)"
   ]
  },
  {
   "cell_type": "markdown",
   "metadata": {},
   "source": [
    "可以看出y_train由原来的(m,)转为(classes,m),即:\n",
    "\n",
    "3:每一行代表一个分类.\n",
    "\n",
    "120:代表120个数据标签."
   ]
  },
  {
   "cell_type": "markdown",
   "metadata": {},
   "source": [
    "### 3 Initialization Parameters\n",
    "\n",
    "初始化参数,我们需要来讨论一下维度.\n",
    "\n",
    "最终$A$的形状一定是和$Y$的形状一致记为(classes,m)\n",
    "\n",
    "所以$Z$的形状也是和$A$一致,因为softmax并不改变形状.\n",
    "\n",
    "所以$WX$的形状也是(classes,m),那么$X$的形状是(m,n),定义$W$的形状是(classes,n)\n",
    "\n",
    "那么计算$Z=WX$的时候就不需要任何矩阵转置.\n",
    "\n",
    "另外,因为现在是多分类,所以$b$的形状是(classes,1),可以提现为一个超平面有一个截距,这里有classes个超平面.\n",
    "\n",
    "**Ps:**\n",
    "\n",
    "classes:分类的个数"
   ]
  },
  {
   "cell_type": "code",
   "execution_count": 8,
   "metadata": {},
   "outputs": [],
   "source": [
    "def initial(n,classes):\n",
    "    \"\"\"\n",
    "    initialization parameters\n",
    "    \n",
    "    Returns:\n",
    "    -------\n",
    "        W:weights\n",
    "        b:bias\n",
    "    \"\"\"\n",
    "    np.random.seed(1)\n",
    "    W = np.random.rand(classes,n)\n",
    "    b = np.zeros((classes,1))\n",
    "    \n",
    "    return W,b"
   ]
  },
  {
   "cell_type": "markdown",
   "metadata": {},
   "source": [
    "### 4 softmax\n",
    "\n",
    "在定义softmax的时候一定要指定\n",
    "\n",
    "```python\n",
    "np.sum(t,axis=0)  ```\n",
    "\n",
    "因为每一行代表一个类,axis=0指定行之间的操作.这样才能提现分概率求和为1."
   ]
  },
  {
   "cell_type": "code",
   "execution_count": 9,
   "metadata": {},
   "outputs": [],
   "source": [
    "def softmax(Z):\n",
    "    \"\"\"\n",
    "    create softmax.\n",
    "    \n",
    "    Parameters:\n",
    "    ----------\n",
    "        Z:liner value\n",
    "    Return:\n",
    "    ------\n",
    "        res: softmax value.\n",
    "    \"\"\"\n",
    "    t = np.exp(Z)\n",
    "    res = t / np.sum(t,axis=0)  \n",
    "    return res\n",
    "    "
   ]
  },
  {
   "cell_type": "markdown",
   "metadata": {},
   "source": [
    "###  5 Build softmax model\n",
    "\n",
    "这里没有使用正则化,因为此内容主要是讲解softmax,如果需要,可以加上正则化."
   ]
  },
  {
   "cell_type": "code",
   "execution_count": 10,
   "metadata": {},
   "outputs": [],
   "source": [
    "def Softmax_model(X,Y,classes,alpha,Iter,is_print=False):\n",
    "    \"\"\"\n",
    "    Implementation softmax model.\n",
    "    \n",
    "    Parameters:\n",
    "    ----------\n",
    "        X: training data set.\n",
    "        Y: training labels\n",
    "        classes: number of classes\n",
    "        alpha: learning rate\n",
    "        Iter: number of iterative\n",
    "        is_print: is print loss value\n",
    "        \n",
    "    Returns:\n",
    "    -------\n",
    "        W: weights\n",
    "        b: bias\n",
    "        cost : loss value.\n",
    "    \n",
    "    \"\"\"\n",
    "    m,n = X.shape\n",
    "    W,b = initial(n,classes)\n",
    "    cost = []\n",
    "    \n",
    "    for iter_ in range(Iter):\n",
    "\n",
    "        Z = np.dot(W,X.T) + b\n",
    "        A = softmax(Z)\n",
    "        \n",
    "        \n",
    "        loss = - np.sum(Y*np.log(A)) / m\n",
    "            \n",
    "        cost.append(loss)\n",
    "        \n",
    "        if is_print and iter_ % 10==0:\n",
    "            print(\"Iter:{},loss:{}\".format(iter_,loss))\n",
    "            \n",
    "        dZ = A - Y\n",
    "        \n",
    "        dW = np.dot(dZ,X)/m\n",
    "        \n",
    "        assert dW.shape == W.shape  # Make sure the shape is rigth.\n",
    "        \n",
    "        db = np.sum(dZ,axis=1,keepdims=True) /m\n",
    "        \n",
    "        assert db.shape == b.shape \n",
    "        \n",
    "        # Update parameters.\n",
    "        \n",
    "        W = W - alpha * dW\n",
    "        b = b - alpha * db\n",
    "        \n",
    "    return W,b,cost "
   ]
  },
  {
   "cell_type": "code",
   "execution_count": 11,
   "metadata": {},
   "outputs": [],
   "source": [
    "Y = Hot(y_train,3) # change to hot \n",
    "W,b,cost  = Softmax_model(X=X_train,Y=Y,classes=3,alpha=0.1,Iter=1000)"
   ]
  },
  {
   "cell_type": "code",
   "execution_count": 12,
   "metadata": {},
   "outputs": [
    {
     "data": {
      "text/plain": [
       "[<matplotlib.lines.Line2D at 0x11d343f98>]"
      ]
     },
     "execution_count": 12,
     "metadata": {},
     "output_type": "execute_result"
    },
    {
     "data": {
      "image/png": "[encoded data removed]",
      "text/plain": [
       "<Figure size 432x288 with 1 Axes>"
      ]
     },
     "metadata": {
      "needs_background": "light"
     },
     "output_type": "display_data"
    }
   ],
   "source": [
    "plt.plot(cost)"
   ]
  },
  {
   "cell_type": "markdown",
   "metadata": {},
   "source": [
    "可以看出损失率是逐步下降的,下降到0.5左右就下降的比较慢了.可以相应的去调节超级参数$\\alpha$和$Iter$.以达到更好的效果.\n",
    "\n",
    "一般来说,这里已经很难再下降了,如果将代码稍作改变你和重复,引用神经网络,那么效果会有显著的提高."
   ]
  },
  {
   "cell_type": "markdown",
   "metadata": {},
   "source": [
    "### 6 Predicted \n",
    "\n",
    "\n",
    "我们需要使用\n",
    "```python\n",
    "\n",
    "np.argmax(A,axis=0)```\n",
    "将概率最大的值的索引拿出来,就相当于划分的类."
   ]
  },
  {
   "cell_type": "code",
   "execution_count": 13,
   "metadata": {},
   "outputs": [],
   "source": [
    "def Predict(X,Y,W,b):\n",
    "    \"\"\"\n",
    "    Predict labels\n",
    "    \n",
    "    Parameters:\n",
    "    ----------\n",
    "        X:test set\n",
    "        Y:test labels\n",
    "        W:weights\n",
    "        b: bias.\n",
    "    Return:\n",
    "    ------\n",
    "        accurate: correct rate\n",
    "    \"\"\"\n",
    "    Z = np.dot(W,X.T) + b\n",
    "    A = softmax(Z)\n",
    "    \n",
    "    predict_y = np.argmax(A,axis=0)\n",
    "    \n",
    "    accurate = (predict_y == Y).sum() / Y.shape[0]\n",
    "    \n",
    "    return accurate"
   ]
  },
  {
   "cell_type": "code",
   "execution_count": 14,
   "metadata": {},
   "outputs": [
    {
     "name": "stdout",
     "output_type": "stream",
     "text": [
      "The test set correct rate is : 0.9\n"
     ]
    }
   ],
   "source": [
    "accurate = Predict(X_test,y_test,W,b)\n",
    "print('The test set correct rate is :',accurate)"
   ]
  },
  {
   "cell_type": "code",
   "execution_count": 15,
   "metadata": {},
   "outputs": [
    {
     "name": "stdout",
     "output_type": "stream",
     "text": [
      "The traing set correct rate is : 0.7833333333333333\n"
     ]
    }
   ],
   "source": [
    "accurate = Predict(X_train,y_train,W,b)\n",
    "print('The traing set correct rate is :',accurate)"
   ]
  },
  {
   "cell_type": "markdown",
   "metadata": {},
   "source": [
    "### 7 Scikit-learn\n",
    "\n",
    "同样可以使用scikit-learn中的[LogisticRegression](https://scikit-learn.org/stable/auto_examples/linear_model/plot_iris_logistic.html#sphx-glr-auto-examples-linear-model-plot-iris-logistic-py)来进行尝试."
   ]
  },
  {
   "cell_type": "code",
   "execution_count": 16,
   "metadata": {},
   "outputs": [
    {
     "data": {
      "text/plain": [
       "LogisticRegression(C=1.0, class_weight=None, dual=False, fit_intercept=True,\n",
       "          intercept_scaling=1, max_iter=100, multi_class='multinomial',\n",
       "          n_jobs=None, penalty='l2', random_state=None, solver='lbfgs',\n",
       "          tol=0.0001, verbose=0, warm_start=False)"
      ]
     },
     "execution_count": 16,
     "metadata": {},
     "output_type": "execute_result"
    }
   ],
   "source": [
    "from sklearn.linear_model import LogisticRegression\n",
    "iris = datasets.load_iris()\n",
    "X = iris.data[:, :2]  # we only take the first two features.\n",
    "Y = iris.target\n",
    "\n",
    "logreg = LogisticRegression(solver='lbfgs', multi_class='multinomial')\n",
    "# Create an instance of Logistic Regression Classifier and fit the data.\n",
    "logreg.fit(X_train, y_train)"
   ]
  },
  {
   "cell_type": "code",
   "execution_count": 17,
   "metadata": {},
   "outputs": [
    {
     "name": "stdout",
     "output_type": "stream",
     "text": [
      "Thet test correct rate is : 0.9\n"
     ]
    }
   ],
   "source": [
    "predict_y = logreg.predict(X_test)\n",
    "accurate = (predict_y == y_test).sum() / y_test.shape[0]\n",
    "print('Thet test correct rate is :',accurate)"
   ]
  },
  {
   "cell_type": "code",
   "execution_count": 18,
   "metadata": {},
   "outputs": [
    {
     "name": "stdout",
     "output_type": "stream",
     "text": [
      "Thet train correct rate is : 0.8\n"
     ]
    }
   ],
   "source": [
    "predict_y = logreg.predict(X_train)\n",
    "accurate = (predict_y == y_train).sum() / y_train.shape[0]\n",
    "print('Thet train correct rate is :',accurate)"
   ]
  }
 ],
 "metadata": {
  "kernelspec": {
   "display_name": "Python 3",
   "language": "python",
   "name": "python3"
  },
  "language_info": {
   "codemirror_mode": {
    "name": "ipython",
    "version": 3
   },
   "file_extension": ".py",
   "mimetype": "text/x-python",
   "name": "python",
   "nbconvert_exporter": "python",
   "pygments_lexer": "ipython3",
   "version": "3.6.6"
  }
 },
 "nbformat": 4,
 "nbformat_minor": 2
}
