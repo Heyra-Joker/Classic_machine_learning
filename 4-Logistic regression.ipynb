{
 "cells": [
  {
   "cell_type": "markdown",
   "metadata": {},
   "source": [
    "# Logist Regression"
   ]
  },
  {
   "cell_type": "markdown",
   "metadata": {},
   "source": [
    "### 1.Classification with logistic regression and the sigmoid\n",
    "\n",
    "We’d like to have an equation we can give all of our features and it will predict the class. In the two-class case, the function will spit out a 0 or a 1.\n",
    "\n",
    "This function is called the sigmoid. The **sigmoid** is given by the following equation:\n",
    "\n",
    "## $\\sigma(z) = \\frac{1}{1+e^{-z}}$\n",
    "\n",
    "Two plots of the sigmoid are given in figure 5.1. At 0 the value of the sigmoid is 0.5. For increasing values of x, the sigmoid will approach 1, and for decreasing values of x, the sigmoid will approach 0. On a large enough scale (the bottom frame of figure 5.1), the sigmoid looks like a step function.\n",
    "For the logistic regression classifier we’ll take our features and multiply each one by a weight and then add them up. This result will be put into the sigmoid, and we’ll get a number between 0 and 1. Anything above 0.5 we’ll classify as a 1, and anything below 0.5 we’ll classify as a 0. You can also think of logistic regression as a proba- bility estimate.\n",
    "\n",
    "![](picture/09.png)"
   ]
  },
  {
   "cell_type": "markdown",
   "metadata": {},
   "source": [
    "### 2.Using optimization to find the best regression coefficients\n",
    "\n",
    "The input to the sigmoid function described will be z, where z is given by the following:\n",
    "\n",
    "$z=w_0x_0 + w_1x_1+w_2x_2 + \\cdots + w_nx_n$\n",
    "\n",
    "In vector notation we can write this as\n",
    "\n",
    "$z=w^{T}x$\n",
    "\n",
    "All that means is that we have two vectors of numbers and we’ll multiply each element and add them up to get one number.The vector x is our input data, and we want to find the best coefficients w, so that this clas- sifier will be as successful as possible."
   ]
  },
  {
   "cell_type": "markdown",
   "metadata": {},
   "source": [
    "### 2.1 Gradient ascent\n",
    "\n",
    "The first optimization algorithm we’re going to look at is called **gradient ascent**. Gra-dient ascent is based on the idea that if we want to find the maximum point on a func- tion, then the best way to move is in the direction of the gradient. We write the gradient with the symbol $\\bigtriangledown$ and the gradient of a function $f(x,y)$ is given by the equation \n",
    "\n",
    "$\\bigtriangledown f(x,y) = \\begin{pmatrix} \\frac{\\partial f(x,y)}{\\partial x}\n",
    "\\\\  \\frac{\\partial f(x,y)}{\\partial y}\n",
    "\\end{pmatrix}$\n",
    "\n",
    "This gradient means that we'll move in the x direction by amount \\frac{\\partial f(x,y)}{\\partial x} and in the y direction \\frac{\\partial f(x,y)}{\\partial y}.\n",
    "\n",
    "The function f(x,y) needs to be defined and differentiable around the points\n",
    "where it’s being evaluated.\n",
    "\n",
    "![](picture/10.png)\n",
    "\n",
    "The gradient operator will always point in the direction of the greatest increase. \n",
    "The magnitude, or step size, we’ll take is given by the parameter $\\alpha$ \n",
    "\n",
    "In vector notation we can write the gradient ascent algorithm as \n",
    "\n",
    "$w := w+ \\alpha \\bigtriangledown_w f(w)$\n",
    "\n",
    "**Gradient descent:**\n",
    "Perhaps you’ve also heard of gradient descent. It’s the same thing as gradient as- cent, except the plus sign is changed to a minus sign. We can write this as\n",
    "\n",
    "$w := w- \\alpha \\bigtriangledown_w f(w)$\n",
    "\n",
    "With gradient descent we’re trying to minimize some function rather than maximize it."
   ]
  },
  {
   "cell_type": "markdown",
   "metadata": {},
   "source": [
    "Let’s put this into action on our logistic regression classifier and some Python. First, we need a dataset. Consider the dataset plotted in figure 5.3.\n",
    "\n",
    "![](picture/11.png)"
   ]
  },
  {
   "cell_type": "markdown",
   "metadata": {},
   "source": [
    "### 2.2 Train: using gradient ascent to find the best parameters\n",
    "\n",
    "There are 100 data points in figure 5.3. Each point has two numeric features: X1 and X2. We’ll try to use gradient ascent to fit the best parameters for the logistic regression model to our data. We’ll do this by finding the best weights for this given dataset.\n",
    "\n",
    "**PS:** click [here](https://github.com/woaij100/DeeplearningByAndrew_Ng/blob/master/Neural%20network%20foundation/2.9%20Logistics%20Regression%20Gradient%20descent.md) to learn LG gradient descent"
   ]
  },
  {
   "cell_type": "code",
   "execution_count": 1,
   "metadata": {},
   "outputs": [],
   "source": [
    "import numpy as np\n",
    "import pprint"
   ]
  },
  {
   "cell_type": "code",
   "execution_count": 2,
   "metadata": {},
   "outputs": [],
   "source": [
    "def loadData():\n",
    "    \"\"\"\n",
    "    loading data \n",
    "    returns:\n",
    "        dataMat:data matrix.\n",
    "        labelMat: classes label.\n",
    "    \"\"\"\n",
    "    dataMat = []\n",
    "    labelMat = []\n",
    "    fr = open('data_set/testSet.txt')\n",
    "    for line in fr.readlines():\n",
    "        lineArr = line.strip().split()\n",
    "        # For the convenience of calculation,so we set \"x0\" = 1，as same as bias.\n",
    "        dataMat.append([1.,float(lineArr[0]),float(lineArr[1])]) \n",
    "        labelMat.append(int(lineArr[2]))\n",
    "    return dataMat,labelMat"
   ]
  },
  {
   "cell_type": "code",
   "execution_count": 3,
   "metadata": {},
   "outputs": [],
   "source": [
    "def sigmoid(inX):\n",
    "    \"\"\"\n",
    "    create sigmoid function\n",
    "    return:\n",
    "        sigmoid function\n",
    "    \"\"\"\n",
    "    return 1./(1+np.exp(-inX))"
   ]
  },
  {
   "cell_type": "code",
   "execution_count": 4,
   "metadata": {},
   "outputs": [],
   "source": [
    "def gradAscent(dataMatIn,classLabels):\n",
    "    \"\"\"\n",
    "    First, The dataMatIn and classLabels need changed to numpy array.\n",
    "    \"\"\"\n",
    "    dataMatrix = np.matrix(dataMatIn)\n",
    "    print(\"dataMatrix shape is : \",dataMatrix.shape)\n",
    "    labelMat = np.matrix(classLabels).transpose()\n",
    "    m,n = dataMatrix.shape\n",
    "    \n",
    "    alpha = 0.001 # set alpha \n",
    "    maxCycles = 500 # set number of epoch\n",
    "    weights = np.ones((n,1)) # set initialization weights\n",
    "    \n",
    "    for k in range(maxCycles):\n",
    "        h = sigmoid(dataMatrix * weights) # elements by multiplication ont \"Matrix multiplication\"\n",
    "        error = (labelMat - h)\n",
    "        # if you do not know whta is mean, then you can see PS\n",
    "        weights = weights + alpha * dataMatrix.transpose() * error  # caculate gradicent ascent.\n",
    "    return weights"
   ]
  },
  {
   "cell_type": "code",
   "execution_count": 5,
   "metadata": {
    "scrolled": true
   },
   "outputs": [
    {
     "data": {
      "text/plain": [
       "'dataArr is : (top10) '"
      ]
     },
     "metadata": {},
     "output_type": "display_data"
    },
    {
     "data": {
      "text/plain": [
       "[[1.0, -0.017612, 14.053064],\n",
       " [1.0, -1.395634, 4.662541],\n",
       " [1.0, -0.752157, 6.53862],\n",
       " [1.0, -1.322371, 7.152853],\n",
       " [1.0, 0.423363, 11.054677],\n",
       " [1.0, 0.406704, 7.067335],\n",
       " [1.0, 0.667394, 12.741452],\n",
       " [1.0, -2.46015, 6.866805],\n",
       " [1.0, 0.569411, 9.548755],\n",
       " [1.0, -0.026632, 10.427743]]"
      ]
     },
     "metadata": {},
     "output_type": "display_data"
    },
    {
     "name": "stdout",
     "output_type": "stream",
     "text": [
      "label is :  [0, 1, 0, 0, 0, 1, 0, 1, 0, 0, 1, 0, 1, 0, 1, 1, 1, 1, 1, 1, 1, 1, 0, 1, 1, 0, 0, 1, 1, 0, 1, 1, 0, 1, 1, 0, 0, 0, 0, 0, 1, 1, 0, 1, 1, 0, 1, 1, 0, 0, 0, 0, 0, 0, 1, 1, 0, 1, 0, 1, 1, 1, 0, 0, 0, 1, 1, 0, 0, 0, 0, 1, 0, 1, 0, 0, 1, 1, 1, 1, 0, 1, 0, 1, 1, 1, 1, 0, 1, 1, 1, 0, 0, 1, 1, 1, 0, 1, 0, 0]\n"
     ]
    }
   ],
   "source": [
    "dataArr,labelMat = loadData()\n",
    "display(\"dataArr is : (top10) \", dataArr[0:10]) \n",
    "print(\"label is : \",labelMat )"
   ]
  },
  {
   "cell_type": "code",
   "execution_count": 6,
   "metadata": {
    "scrolled": true
   },
   "outputs": [
    {
     "name": "stdout",
     "output_type": "stream",
     "text": [
      "dataMatrix shape is :  (100, 3)\n",
      "[[ 4.12414349]\n",
      " [ 0.48007329]\n",
      " [-0.6168482 ]] <class 'numpy.matrixlib.defmatrix.matrix'>\n"
     ]
    }
   ],
   "source": [
    "weigths = gradAscent(dataMatIn=dataArr,classLabels=labelMat)\n",
    "print(weigths,type(weigths))"
   ]
  },
  {
   "cell_type": "code",
   "execution_count": 7,
   "metadata": {},
   "outputs": [
    {
     "name": "stdout",
     "output_type": "stream",
     "text": [
      "[4.12414349]\n"
     ]
    }
   ],
   "source": [
    "print(weigths.getA()[0])"
   ]
  },
  {
   "cell_type": "markdown",
   "metadata": {},
   "source": [
    "### 2.3 Analyze: plotting the decision boundary"
   ]
  },
  {
   "cell_type": "code",
   "execution_count": 8,
   "metadata": {},
   "outputs": [],
   "source": [
    "import matplotlib.pyplot as plt"
   ]
  },
  {
   "cell_type": "code",
   "execution_count": 9,
   "metadata": {},
   "outputs": [],
   "source": [
    "def plotBestFit(wei):\n",
    "    \"\"\"\n",
    "    Plot the best figure\n",
    "    \"\"\"\n",
    "    weigths = wei.getA() # get array in weigths\n",
    "    dataMat,labelMat = loadData()\n",
    "    dataArr = np.array(dataMat)\n",
    "    n = dataArr.shape[0]\n",
    "    xcord1 = []\n",
    "    ycord1 = []\n",
    "    xcord2 = []\n",
    "    ycord2 = []\n",
    "    # split label 1 to  xcord1, ycord1 Or split label2 to  xcord2, ycord2\n",
    "    for i in range(n):\n",
    "        if int(labelMat[i]) == 1:\n",
    "            xcord1.append(dataArr[i,1])\n",
    "            ycord1.append(dataArr[i,2])\n",
    "        else:\n",
    "            xcord2.append(dataArr[i,1])\n",
    "            ycord2.append(dataArr[i,2])\n",
    "    fig = plt.figure()\n",
    "    ax = fig.add_subplot(111)\n",
    "    ax.scatter(xcord1,ycord1,s=30,c=\"red\",marker=\"s\")\n",
    "    ax.scatter(xcord2,ycord2,s=30,c=\"blue\")\n",
    "    x1 = np.arange(-3.,3.,0.1)\n",
    "    # The results derived from “0 = w_0x_0 + w_1x_1 + w_2x_2” are as follows。\n",
    "    x2 = (-weigths[0] * 1 - weigths[1] * x1) / weigths[2]\n",
    "    \n",
    "    ax.plot(x1,x2)\n",
    "    plt.xlabel(\"x1\")\n",
    "    plt.ylabel(\"x2\")\n",
    "    plt.show()"
   ]
  },
  {
   "cell_type": "code",
   "execution_count": 10,
   "metadata": {},
   "outputs": [
    {
     "data": {
      "image/png": "[encoded data removed]",
      "text/plain": [
       "<matplotlib.figure.Figure at 0x118141d30>"
      ]
     },
     "metadata": {},
     "output_type": "display_data"
    }
   ],
   "source": [
    "plotBestFit(weigths)"
   ]
  },
  {
   "cell_type": "markdown",
   "metadata": {},
   "source": [
    "input of 0 was our center line to split things classified as a 1 and a 0. you can see sigmoid function.\n",
    "\n",
    "I set $0 = w_0x_0 + w_1x_1 + w_2x_2 $ and solved for X2 in terms of X1 (remember, X0 was 0).\n",
    "\n",
    "**Note:**I set the sigmoid function to 0"
   ]
  },
  {
   "cell_type": "markdown",
   "metadata": {},
   "source": [
    "### 2.4 Stochastic gradient ascent\n",
    "\n",
    "\n",
    "The previous optimization algorithm, gradient ascent, uses the whole dataset on each update. This was fine with 100 examples, but with billions of data points containing thousands of features, it’s unnecessarily expensive in terms of computational resources. An alternative to this method is to update the weights using only one instance at a time. This is known as **stochastic gradient ascent**. Stochastic gradient ascent is an example of an online learning algorithm. This is known as online because we can incrementally update the classifier as new data comes in rather than all at once. The all-at-once method is known as **batch processing**.\n"
   ]
  },
  {
   "cell_type": "code",
   "execution_count": 11,
   "metadata": {},
   "outputs": [],
   "source": [
    "def stocGradAscent0(dataMatrix, classLabels):\n",
    "    \"\"\"\n",
    "    Implement Stochastic gradient ascent.\n",
    "    return:\n",
    "        weigths: weigth matrix.\n",
    "    \"\"\"\n",
    "    m,n = np.shape(dataMatrix)\n",
    "    alpha = 0.01\n",
    "    weights = np.ones(n)\n",
    "    for i in range(m):\n",
    "        # One of the random training samples performs an operation.\n",
    "        # means: every for loop,have one take in \"gradient ascent\".\n",
    "        h = sigmoid(np.sum(dataMatrix[i]*weights))\n",
    "        error = classLabels[i] - h\n",
    "        weights = weights + alpha * error * dataMatrix[i]\n",
    "    return weights"
   ]
  },
  {
   "cell_type": "code",
   "execution_count": 12,
   "metadata": {},
   "outputs": [
    {
     "data": {
      "image/png": "[encoded data removed]",
      "text/plain": [
       "<matplotlib.figure.Figure at 0x11a1bfef0>"
      ]
     },
     "metadata": {},
     "output_type": "display_data"
    }
   ],
   "source": [
    "dataArr,labelMat = loadData()\n",
    "weigths = stocGradAscent0(np.array(dataArr),labelMat)\n",
    "plotBestFit(np.matrix(weigths).reshape(3,1))"
   ]
  },
  {
   "cell_type": "markdown",
   "metadata": {},
   "source": [
    "The resulting best-fit line is OK but cer- tainly not as great as the previous example from gradient ascent. If we were to use this as our classifier, we’d misclassify one-third of the results.\n",
    "\n",
    "Let's look at weigths"
   ]
  },
  {
   "cell_type": "code",
   "execution_count": 13,
   "metadata": {},
   "outputs": [],
   "source": [
    "def stocGradAscent1(dataMatrix, classLabels):\n",
    "    \"\"\"\n",
    "    Implement Stochastic gradient ascent.\n",
    "    return:\n",
    "        weigths: weigth matrix.\n",
    "    \"\"\"\n",
    "    m,n = np.shape(dataMatrix)\n",
    "    alpha = 0.01\n",
    "    weights = np.ones(n)\n",
    "    x0 = []\n",
    "    x1 = []\n",
    "    x2 = []\n",
    "    for i in range(200):\n",
    "        for i in range(m):\n",
    "            x0.append(-weights[0])\n",
    "            x1.append(-weights[1])\n",
    "            x2.append(-weights[2])\n",
    "            # One of the random training samples performs an operation.\n",
    "            # means: every for loop,have one take in \"gradient ascent\".\n",
    "            h = sigmoid(np.sum(dataMatrix[i]*weights))\n",
    "            error = classLabels[i] - h\n",
    "            weights = weights + alpha * error * dataMatrix[i]\n",
    "    \n",
    "    fig = plt.figure()\n",
    "    ax0 = fig.add_subplot(311)\n",
    "    ax0.plot(x0,c=\"red\")\n",
    "    ax0.set_ylabel(\"X0\")\n",
    "    ax1 = fig.add_subplot(312)\n",
    "    ax1.plot(x1,c=\"blue\")\n",
    "    ax1.set_ylabel(\"X1\")\n",
    "    ax2 = fig.add_subplot(313)\n",
    "    ax2.plot(x2,c=\"green\")\n",
    "    ax2.set_ylabel(\"X2\")\n",
    "    plt.tight_layout()\n",
    "    plt.show()\n",
    "    return weights"
   ]
  },
  {
   "cell_type": "code",
   "execution_count": 14,
   "metadata": {},
   "outputs": [
    {
     "data": {
      "image/png": "[encoded data removed]",
      "text/plain": [
       "<matplotlib.figure.Figure at 0x11a31db00>"
      ]
     },
     "metadata": {},
     "output_type": "display_data"
    }
   ],
   "source": [
    "dataArr,labelMat = loadData()\n",
    "weigths = stocGradAscent1(np.array(dataArr),labelMat)"
   ]
  },
  {
   "cell_type": "markdown",
   "metadata": {},
   "source": [
    "This picture show  how the weights change in our simple stochastic gradient ascent algorithm over 200 iterations of the algorithm. Weight 2, labeled X2 in this picture, takes only 150 cycles to reach a steady value, but weights 1 and 0 take much longer.\n",
    "\n",
    "The stochastic gradient ascent algorithm of listing \"Modified stochastic gradient ascent\" has been modified to address the problems shown in this figure , and this is given in the following listing."
   ]
  },
  {
   "cell_type": "markdown",
   "metadata": {},
   "source": [
    "### 2.5 Modified stochastic gradient ascent"
   ]
  },
  {
   "cell_type": "code",
   "execution_count": 15,
   "metadata": {},
   "outputs": [],
   "source": [
    "def stocGradAscent1(dataMatrix,classLabels,numIter = 150):\n",
    "    m,n = dataMatrix.shape\n",
    "    weights = np.ones(n)\n",
    "    x0 = []\n",
    "    x1 = []\n",
    "    x2 = []\n",
    "    for j in range(numIter):\n",
    "        dataIndex = list(range(m))\n",
    "        for i in range(m):\n",
    "            x0.append(-weights[0])\n",
    "            x1.append(-weights[1])\n",
    "            x2.append(-weights[2])\n",
    "            # Fractional attenuation\n",
    "            alpha = (4 / (1. + j + i)) + 0.01 # every loop can be change alpha.\n",
    "            \n",
    "            # random calculate one at the h,abot 5 lines.\n",
    "            randIndex = int(np.random.uniform(0,len(dataIndex)))\n",
    "            h = sigmoid(np.sum(dataMatrix[randIndex] * weights))\n",
    "            error = classLabels[randIndex] -h \n",
    "            weights = weights + alpha * error * dataMatrix[randIndex]\n",
    "            del(dataIndex[randIndex])\n",
    "            # end random calculate.\n",
    "    # plot parameters of the weights.   \n",
    "    fig = plt.figure()\n",
    "    ax0 = fig.add_subplot(311)\n",
    "    ax0.plot(x0,c=\"red\")\n",
    "    ax0.set_ylabel(\"X0\")\n",
    "    ax1 = fig.add_subplot(312)\n",
    "    ax1.plot(x1,c=\"blue\")\n",
    "    ax1.set_ylabel(\"X1\")\n",
    "    ax2 = fig.add_subplot(313)\n",
    "    ax2.plot(x2,c=\"green\")\n",
    "    ax2.set_ylabel(\"X2\")\n",
    "    plt.tight_layout()\n",
    "    plt.show()\n",
    "    \n",
    "    return weights\n",
    "\n",
    "\n",
    "    "
   ]
  },
  {
   "cell_type": "code",
   "execution_count": 16,
   "metadata": {},
   "outputs": [
    {
     "data": {
      "image/png": "[encoded data removed]",
      "text/plain": [
       "<matplotlib.figure.Figure at 0x11a1bfe48>"
      ]
     },
     "metadata": {},
     "output_type": "display_data"
    },
    {
     "data": {
      "image/png": "[encoded data removed]",
      "text/plain": [
       "<matplotlib.figure.Figure at 0x11a3baa90>"
      ]
     },
     "metadata": {},
     "output_type": "display_data"
    }
   ],
   "source": [
    "dataArr,labelMat = loadData()\n",
    "weights = stocGradAscent1(dataMatrix = np.array(dataArr),classLabels = labelMat,numIter = 20)\n",
    "plotBestFit(np.matrix(weigths).reshape(3,1))"
   ]
  },
  {
   "cell_type": "markdown",
   "metadata": {},
   "source": [
    "### 2.6 part 2 Summary\n",
    "\n",
    "- Coefficient convergence in stocGradAscent1() with random vector selection and decreasing alpha. This method is much faster to converge than using a fixed alpha.\n",
    "- You should see a plot similar to that in first figure . The results are similar to those of GradientAscent(), but far fewer calculations were involved.\n",
    "- For more information on stochastic gradient ascent please see [here](https://zhuanlan.zhihu.com/p/28060786)"
   ]
  },
  {
   "cell_type": "markdown",
   "metadata": {},
   "source": [
    "###  3 Example: estimating horse fatalities from colic"
   ]
  },
  {
   "cell_type": "code",
   "execution_count": 22,
   "metadata": {},
   "outputs": [],
   "source": [
    "def classifyVector(inX,input_weigths):\n",
    "    \"\"\"\n",
    "    classify 0,1\n",
    "    returns:\n",
    "        1: is live\n",
    "        0: is die\n",
    "    \"\"\"\n",
    "    prob = sigmoid(np.sum(inX*input_weigths))\n",
    "    \n",
    "    if prob > 0.5:\n",
    "        return 1\n",
    "    else:\n",
    "        return 0"
   ]
  },
  {
   "cell_type": "code",
   "execution_count": 23,
   "metadata": {},
   "outputs": [],
   "source": [
    "def stocGradAscent1(dataMatrix,classLabels,numIter = 150):\n",
    "    \"\"\"\n",
    "    create stochastic Gradient ascent.\n",
    "    parameters:\n",
    "        dataMatrix: input data it's a matrix\n",
    "        classLabels: class labels\n",
    "        numIter: iterations\n",
    "        \n",
    "    return:\n",
    "        the best weights\n",
    "    \"\"\"\n",
    "    m,n = dataMatrix.shape\n",
    "    weights = np.ones(n)\n",
    "\n",
    "    for j in range(numIter):\n",
    "        dataIndex = list(range(m))\n",
    "        for i in range(m):\n",
    "            # Fractional attenuation\n",
    "            alpha = (4 / (1. + j + i)) + 0.01 # every loop can be change alpha.\n",
    "            \n",
    "            # random calculate one at the h,abot 5 lines.\n",
    "            randIndex = int(np.random.uniform(0,len(dataIndex)))\n",
    "            # start SGD\n",
    "            h = sigmoid(np.sum(dataMatrix[randIndex] * weights))\n",
    "            error = classLabels[randIndex] -h \n",
    "            weights = weights + alpha * error * dataMatrix[randIndex]\n",
    "            # end SGD\n",
    "            del(dataIndex[randIndex])\n",
    "            # end random calculate.\n",
    "    return weights\n"
   ]
  },
  {
   "cell_type": "code",
   "execution_count": 33,
   "metadata": {},
   "outputs": [],
   "source": [
    "def colicTest():\n",
    "    \"\"\"\n",
    "    create model\n",
    "    return :\n",
    "        errors: predict error label. \n",
    "    \"\"\"\n",
    "    \n",
    "    # star loading training data , about 11 lines.\n",
    "    frTrain = open('data_set/horseColicTraining.txt')\n",
    "    frTest = open('data_set/horseColicTest.txt')\n",
    "    trainingSet = []\n",
    "    trainingLabels = []\n",
    "    for line in frTrain.readlines():\n",
    "        currLine = line.strip().split('\\t')\n",
    "        lineArr = []\n",
    "        for i in range(21):\n",
    "            lineArr.append(float(currLine[i]))\n",
    "        trainingSet.append(lineArr) # append data in training data,like[[1,2,3...],[4,5,6...]]\n",
    "        trainingLabels.append(float(currLine[21])) # currLine[21] is data's label\n",
    "    \n",
    "    # end loading data.\n",
    "    \n",
    "    # start training data, and get the best weights\n",
    "    trainingWeights = stocGradAscent1(np.array(trainingSet),trainingLabels,500)\n",
    "    \n",
    "    # testing data and caculate error rate with one epoch.\n",
    "    errorCount = 0\n",
    "    numTestVec = 0.\n",
    "    for line in frTest.readlines():\n",
    "        numTestVec += 1.\n",
    "        cyrrList = line.strip().split('\\t')\n",
    "        lineArr = []\n",
    "        for i in range(21):\n",
    "            lineArr.append(float(cyrrList[i]))\n",
    "        # if predict value(label) is not equal true label, then \"error\" plus 1\n",
    "        if classifyVector(inX=np.array(lineArr),input_weigths=trainingWeights) != float(cyrrList[21]):\n",
    "            errorCount += 1\n",
    "    # calculate mean error rate\n",
    "    errorRate = float(errorCount)/numTestVec\n",
    "    print(\"The error rate of this test is: {}\".format(errorRate))\n",
    "    return errorRate"
   ]
  },
  {
   "cell_type": "code",
   "execution_count": 34,
   "metadata": {},
   "outputs": [],
   "source": [
    "def multiTest():\n",
    "    \"\"\"\n",
    "    epoch is 10, means: runing 10s. and calculate mean error rate.\n",
    "    \"\"\"\n",
    "    numTests = 10\n",
    "    errorSum = 0.\n",
    "    for k in range(numTests):\n",
    "        errorSum  += colicTest()\n",
    "    print(\"after {} iterations the average error rate is:{}\".format(numTests,errorSum/float(numTests)))"
   ]
  },
  {
   "cell_type": "code",
   "execution_count": 35,
   "metadata": {
    "scrolled": false
   },
   "outputs": [
    {
     "name": "stderr",
     "output_type": "stream",
     "text": [
      "/Users/huwang/anaconda3/lib/python3.6/site-packages/ipykernel_launcher.py:7: RuntimeWarning: overflow encountered in exp\n",
      "  import sys\n"
     ]
    },
    {
     "name": "stdout",
     "output_type": "stream",
     "text": [
      "The error rate of this test is: 0.373134328358209\n",
      "The error rate of this test is: 0.31343283582089554\n",
      "The error rate of this test is: 0.2835820895522388\n",
      "The error rate of this test is: 0.3880597014925373\n",
      "The error rate of this test is: 0.43283582089552236\n",
      "The error rate of this test is: 0.417910447761194\n",
      "The error rate of this test is: 0.2537313432835821\n",
      "The error rate of this test is: 0.40298507462686567\n",
      "The error rate of this test is: 0.34328358208955223\n",
      "The error rate of this test is: 0.417910447761194\n",
      "after 10 iterations the average error rate is:0.3626865671641791\n"
     ]
    }
   ],
   "source": [
    "multiTest()"
   ]
  },
  {
   "cell_type": "markdown",
   "metadata": {},
   "source": [
    "This result is OK.because, this wasn't bad with over 30% of the values missing."
   ]
  },
  {
   "cell_type": "markdown",
   "metadata": {},
   "source": [
    "### 4. Summary\n",
    "\n",
    "- Logistic regression is finding best-fit parameters to a nonlinear function called the sig- moid. Methods of optimization can be used to find the best-fit parameters. Among the optimization algorithms, one of the most common algorithms is gradient ascent. Gra- dient ascent can be simplified with stochastic gradient ascent.\n",
    "- Stochastic gradient ascent can do as well as gradient ascent using far fewer comput- ing resources. In addition, stochastic gradient ascent is an online algorithm; it can update what it has learned as new data comes in rather than reloading all of the data as in batch processing.\n",
    "- One major problem in machine learning is how to deal with missing values in the data. There’s no blanket answer to this question. It really depends on what you’re doing with the data. There are a number of solutions, and each solution has its own advantages and disadvantages.\n",
    "- In the next chapter we’re going to take a look at another classification algorithm similar to logistic regression. The algorithm is called support vector machines and is considered one of the best stock algorithms.\n",
    "\n",
    "- \"Very Importent code:\"\n",
    "\n",
    "```python\n",
    "h = sigmoid(np.sum(dataMatrix[randIndex] * weights))\n",
    "error = classLabels[randIndex] -h \n",
    "weights = weights + alpha * error * dataMatrix[randIndex]\n",
    "```"
   ]
  }
 ],
 "metadata": {
  "kernelspec": {
   "display_name": "Python 3",
   "language": "python",
   "name": "python3"
  },
  "language_info": {
   "codemirror_mode": {
    "name": "ipython",
    "version": 3
   },
   "file_extension": ".py",
   "mimetype": "text/x-python",
   "name": "python",
   "nbconvert_exporter": "python",
   "pygments_lexer": "ipython3",
   "version": "3.6.4"
  }
 },
 "nbformat": 4,
 "nbformat_minor": 2
}
