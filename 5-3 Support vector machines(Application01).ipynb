{
 "cells": [
  {
   "cell_type": "markdown",
   "metadata": {},
   "source": [
    "# SVM\n"
   ]
  },
  {
   "cell_type": "code",
   "execution_count": 1,
   "metadata": {},
   "outputs": [],
   "source": [
    "import numpy as np\n",
    "import sympy as sym\n",
    "import pandas as pd\n",
    "from sklearn.datasets import load_iris\n",
    "from sklearn.model_selection import  train_test_split\n",
    "import matplotlib.pyplot as plt\n",
    "%matplotlib inline\n",
    "np.random.seed(1)"
   ]
  },
  {
   "cell_type": "markdown",
   "metadata": {},
   "source": [
    "## Simple Example Application\n",
    "\n",
    "对于简单的数据样本例子(也就是说可以进行线性划分,且不包含噪声点)\n",
    "\n",
    "**算法:**\n",
    "\n",
    "输入:线性可分训练集$T={(x_1,y_1),(x_2,y_2),...,(x_N,y_N)}$,其中$x_i \\in \\textit{X}=\\textit{R},y_i \\in \\textit{Y}={+1,-1},i=1,2...,N$\n",
    "\n",
    "输出:分离超平面和分类决策函数\n",
    "\n",
    "(1) 构造并求解约束条件最优化问题\n",
    "\n",
    "$\\underset{\\alpha}{min}$  $\\frac{1}{2}\\sum_{i=1}^{N}\\sum_{j=1}^{N}\\alpha_i \\alpha_j y_i y_j <x_i \\cdot x_j>-\\sum_{i=1}^{N}\\alpha_i$\n",
    "\n",
    "s.t $\\sum_{i=1}^{N}\\alpha_i y_i=0$\n",
    "\n",
    "$\\alpha_i \\geq  0,i=1,2,...,N$\n",
    "\n",
    "求得最优$\\alpha^{*}=(\\alpha_1^{*},\\alpha_2^{*},...,\\alpha_n^{*})$\n",
    "\n",
    "\n",
    "其中正分量$\\alpha_j^{*}>0$就为支持向量"
   ]
  },
  {
   "cell_type": "markdown",
   "metadata": {},
   "source": [
    "(2) 计算\n",
    "\n",
    "$w^{*} = \\sum_{i=1}^{N}\\alpha_i^{*}y_ix_i$\n",
    "\n",
    "选择$\\alpha^{*}$的一个正分量$\\alpha_j^{*}>0$,计算\n",
    "\n",
    "$b^{*}=y_j-\\sum_{i=1}^{N}\\alpha_i^{*}y_i<x_i \\cdot x_j>$\n",
    "\n"
   ]
  },
  {
   "cell_type": "markdown",
   "metadata": {},
   "source": [
    "(3) 求得分离超平面\n",
    "\n",
    "$w^{*}\\cdot x + b^{*}=0$\n",
    "\n",
    "分类决策函数:\n",
    "\n",
    "$f(x)=sign(w^{*}\\cdot x + b^{*})$\n",
    "\n",
    "这里的sign表示:值大于0的为1,值小于0的为-1."
   ]
  },
  {
   "cell_type": "code",
   "execution_count": 246,
   "metadata": {},
   "outputs": [],
   "source": [
    "def loadSimpleDataSet():\n",
    "    \"\"\"\n",
    "    从文本加载数据集\n",
    "    \n",
    "    返回:\n",
    "        数据集和标签集\n",
    "    \"\"\"\n",
    "    train_x = np.array([[3,3],[4,3],[1,1]]).T\n",
    "    train_y = np.array([[1,1,-1]]).T\n",
    "    return train_x,train_y"
   ]
  },
  {
   "cell_type": "code",
   "execution_count": 247,
   "metadata": {},
   "outputs": [
    {
     "name": "stdout",
     "output_type": "stream",
     "text": [
      "train_x shape is :  (2, 3)\n",
      "train_y shape is :  (3, 1)\n"
     ]
    }
   ],
   "source": [
    "train_x,train_y = loadSimpleDataSet()\n",
    "print(\"train_x shape is : \",train_x.shape)\n",
    "print(\"train_y shape is : \",train_y.shape)"
   ]
  },
  {
   "cell_type": "code",
   "execution_count": 248,
   "metadata": {
    "scrolled": true
   },
   "outputs": [
    {
     "data": {
      "text/plain": [
       "<matplotlib.collections.PathCollection at 0x1a2141c9b0>"
      ]
     },
     "execution_count": 248,
     "metadata": {},
     "output_type": "execute_result"
    },
    {
     "data": {
      "image/png": "[encoded data removed]",
      "text/plain": [
       "<matplotlib.figure.Figure at 0x1a213e8ef0>"
      ]
     },
     "metadata": {},
     "output_type": "display_data"
    }
   ],
   "source": [
    "plt.scatter(train_x[0,:],train_x[1,:],c=np.squeeze(train_y))"
   ]
  },
  {
   "cell_type": "markdown",
   "metadata": {},
   "source": [
    "为了方便计算$\\sum_{i=1}^{N}\\sum_{j=1}^{N}\\alpha_i \\alpha_j y_i y_j <x_i \\cdot x_j>$\n",
    "\n",
    "我们需要先求出train_x、train_y、alphas的内积然后逐个元素相乘然后累加."
   ]
  },
  {
   "cell_type": "markdown",
   "metadata": {},
   "source": [
    "计算train_x的内积"
   ]
  },
  {
   "cell_type": "code",
   "execution_count": 249,
   "metadata": {},
   "outputs": [
    {
     "name": "stdout",
     "output_type": "stream",
     "text": [
      "Train_x is:\n",
      " [[3 4 1]\n",
      " [3 3 1]]\n",
      "Inner train x is:\n",
      " [[18 21  6]\n",
      " [21 25  7]\n",
      " [ 6  7  2]]\n"
     ]
    }
   ],
   "source": [
    "Inner_train_x = np.dot(train_x.T,train_x)\n",
    "print(\"Train_x is:\\n\",train_x)\n",
    "print(\"Inner train x is:\\n\",Inner_train_x)"
   ]
  },
  {
   "cell_type": "markdown",
   "metadata": {},
   "source": [
    "计算train_y的内积"
   ]
  },
  {
   "cell_type": "code",
   "execution_count": 250,
   "metadata": {},
   "outputs": [
    {
     "name": "stdout",
     "output_type": "stream",
     "text": [
      "Train y is:\n",
      " [[ 1]\n",
      " [ 1]\n",
      " [-1]]\n",
      "Inner train y is:\n",
      " [[ 1  1 -1]\n",
      " [ 1  1 -1]\n",
      " [-1 -1  1]]\n"
     ]
    }
   ],
   "source": [
    "Inner_train_y = np.dot(train_y,train_y.T)\n",
    "print(\"Train y is:\\n\",train_y)\n",
    "print(\"Inner train y is:\\n\",Inner_train_y)"
   ]
  },
  {
   "cell_type": "markdown",
   "metadata": {},
   "source": [
    "计算alphas(拉格朗日乘子)的内积,但是要注意,我们在这里固定拉格朗日乘子中的某两个alpha之外的其他alpha,因为根据理论知识,我们需要固定两个alpha之外的其他alphas,然后不断的再一堆alphas中去迭代更新这两个alpha.由于这个例子过于简单,且只有3个样本点(事实上$\\alpha_1,\\alpha_3$就是支持向量).\n",
    "\n",
    "\n",
    "将约束条件带入其中:\n",
    "\n",
    "$\\sum_{i=1}^3\\alpha_i y_i=\\alpha_1y_1+\\alpha_2y_2+\\alpha_3y_3 =0 \\Rightarrow $\n",
    "--\n",
    "$\\alpha_3 = -(\\alpha_1y_1+\\alpha_2y_2)/y_3 $\n",
    "--\n"
   ]
  },
  {
   "cell_type": "code",
   "execution_count": 251,
   "metadata": {},
   "outputs": [
    {
     "name": "stdout",
     "output_type": "stream",
     "text": [
      "alphas is: \n",
      " [[alpha1]\n",
      " [alpha2]\n",
      " [1.0*alpha1 + 1.0*alpha2]]\n",
      "Inner alphas is:\n",
      " [[alpha1**2 alpha1*alpha2 alpha1*(1.0*alpha1 + 1.0*alpha2)]\n",
      " [alpha1*alpha2 alpha2**2 alpha2*(1.0*alpha1 + 1.0*alpha2)]\n",
      " [alpha1*(1.0*alpha1 + 1.0*alpha2) alpha2*(1.0*alpha1 + 1.0*alpha2)\n",
      "  (1.0*alpha1 + 1.0*alpha2)**2]]\n"
     ]
    }
   ],
   "source": [
    "alphas_sym = sym.symbols('alpha1:4')\n",
    "alphas = np.array([alphas_sym]).T\n",
    "alphas[-1]= -np.sum(alphas[:-1,:]*train_y[:-1,:]) / train_y[-1,:]\n",
    "Inner_alphas = np.dot(alphas,alphas.T)\n",
    "print(\"alphas is: \\n\",alphas)\n",
    "print(\"Inner alphas is:\\n\",Inner_alphas)"
   ]
  },
  {
   "cell_type": "markdown",
   "metadata": {},
   "source": [
    "现在求最优的$\\alpha^{*}=(\\alpha_1^{*},\\alpha_2^{*},...,\\alpha_n^{*})$\n",
    "\n",
    "$\\underset{\\alpha}{min}$  $\\frac{1}{2}\\sum_{i=1}^{N}\\sum_{j=1}^{N}\\alpha_i \\alpha_j y_i y_j <x_i \\cdot x_j>-\\sum_{i=1}^{N}\\alpha_i$\n",
    "\n",
    "**注意:**\n",
    "\n",
    "这里需要使用sympy库,详情请见[柚子皮-Sympy符号计算库](https://blog.csdn.net/pipisorry/article/details/39123247)\n",
    "\n",
    "或者[Sympy](https://www.sympy.org/en/index.html)"
   ]
  },
  {
   "cell_type": "code",
   "execution_count": 252,
   "metadata": {
    "scrolled": true
   },
   "outputs": [],
   "source": [
    "def compute_dual_function(alphas,Inner_alphas,Inner_train_x,Inner_train_y):\n",
    "    \"\"\"\n",
    "    Parameters:\n",
    "        alphas: initialization lagrange multiplier,shape is (n,1).\n",
    "                n:number of example.\n",
    "        Inner_alphas: Inner product of alphas.\n",
    "        Inner_train_x: Inner product of train x set.\n",
    "        Inner_train_y: Inner product of train y set.\n",
    "        \n",
    "    simplify : simplify compute result of dual function.\n",
    "    \n",
    "    return:\n",
    "        s_alpha: result of dual function\n",
    "    \"\"\"\n",
    "    s_alpha = sym.simplify(1/2*np.sum(Inner_alphas * Inner_train_x*Inner_train_y) - (np.sum(alphas)))\n",
    "    return s_alpha\n"
   ]
  },
  {
   "cell_type": "code",
   "execution_count": 253,
   "metadata": {
    "scrolled": false
   },
   "outputs": [
    {
     "name": "stdout",
     "output_type": "stream",
     "text": [
      "s_alpha is:\n",
      "  4.0*alpha1**2 + 10.0*alpha1*alpha2 - 2.0*alpha1 + 6.5*alpha2**2 - 2.0*alpha2\n"
     ]
    }
   ],
   "source": [
    "s_alpha = compute_dual_function(alphas,Inner_alphas,Inner_train_x,Inner_train_y)\n",
    "print('s_alpha is:\\n ',s_alpha)"
   ]
  },
  {
   "cell_type": "markdown",
   "metadata": {},
   "source": [
    "现在对每一个alpha求偏导令其等于0."
   ]
  },
  {
   "cell_type": "code",
   "execution_count": 254,
   "metadata": {},
   "outputs": [],
   "source": [
    "def Derivative_alphas(alphas,s_alpha):\n",
    "    \"\"\"\n",
    "    Parameters:\n",
    "                alphas: lagrange multiplier.\n",
    "                s_alpha: dual function\n",
    "                \n",
    "    return:\n",
    "            bool value.\n",
    "            True: Meet all constraints,means,all lagrange multiplier >0\n",
    "            False:Does not satisfy all constraints,means some lagrange multiplier <0.\n",
    "    \"\"\"\n",
    "    cache_derivative_alpha = []\n",
    "    for alpha in alphas.squeeze()[:-1]: # remove the last element.\n",
    "        derivative = s_alpha.diff(alpha) # diff: derivative\n",
    "        cache_derivative_alpha.append(derivative)\n",
    "        \n",
    "    derivative_alpha = sym.solve(cache_derivative_alpha,set=True) # calculate alphas.\n",
    "    print('derivative_alpha is: ',derivative_alpha)\n",
    "    \n",
    "    # check alpha > 0\n",
    "    check_alpha_np = np.array(list(derivative_alpha[1])) > 0\n",
    "    \n",
    "    return check_alpha_np.all()"
   ]
  },
  {
   "cell_type": "code",
   "execution_count": 255,
   "metadata": {},
   "outputs": [
    {
     "name": "stdout",
     "output_type": "stream",
     "text": [
      "derivative_alpha is:  ([alpha1, alpha2], {(1.50000000000000, -1.00000000000000)})\n",
      "Constraint lagrange multiplier is:  False\n"
     ]
    }
   ],
   "source": [
    "check_alpha = Derivative_alphas(alphas,s_alpha)\n",
    "print(\"Constraint lagrange multiplier is: \",check_alpha)"
   ]
  },
  {
   "cell_type": "markdown",
   "metadata": {},
   "source": [
    "可以看出如果是对于$\\alpha_2<0$,不满足$\\alpha_2 \\geqslant 0 $所以我们不能使用极值\n",
    "\n",
    "-------------"
   ]
  },
  {
   "cell_type": "markdown",
   "metadata": {},
   "source": [
    "由于在求偏导的情况下不满足拉格朗日乘子约束条件,所以我们将固定某一个$\\alpha_i$,将其他的$\\alpha$令成0,使偏导等于0求出当前$\\alpha_i$，然后在带入到对偶函数中求出最后的结果.比较所有的结果挑选出结果最小的值所对应的$\\alpha_i$,在从中选出$\\alpha_i>0$的去求我们最开始固定的其他alphas.\n",
    "\n",
    "\n",
    "**算法:**\n",
    "\n",
    "输入: 拉格朗日乘子数组,数组中不包括最开始固定的其他alphas\n",
    "输出: 最优的拉格朗日乘子,也就是支持向量\n",
    "\n",
    "(1) 将输入的拉格朗日数组扩增一行或者一列并初始化为0\n",
    "    - alphas_zeros = np.zeros((alphas.shape[0],1))[:-1]\n",
    "    - alphas_add_zeros = np.c_[alphas[:-1],alphas_zeros]\n",
    "(2) 将扩增后的数组进行\"mask\"掩模处理,目的是为了将一个$\\alpha$保留,其他的$\\alpha$全部为0.\n",
    "    - mask_alpha = np.ma.array(alphas_add_zeros, mask=False) # create mask array.\n",
    "    - mask_alpha.mask[i] = True # masked alpha\n",
    "    - 在sysmpy中使用掩模处理会报出一个警告:将掩模值处理为None,其实问题不大,应该不会改变对偶方程中的alpha对象\n",
    "\n",
    "(3) 使用掩模后的数组放入对偶函数中求偏导$\\alpha_i$,并令其等于0求出$\\alpha_i$\n",
    " \n",
    "(4) 将求出的$\\alpha_i$和其他都等于0的alphas带入到对偶函数中求出值\n",
    "\n",
    "(5) 比较所有的对偶函数中的值,选取最小值所对应的alpha组.计算最开始固定值的alphas.\n"
   ]
  },
  {
   "cell_type": "code",
   "execution_count": 256,
   "metadata": {},
   "outputs": [],
   "source": [
    "\n",
    "def choose_best_alphas(alphas,s_alpha):\n",
    "    \"\"\"\n",
    "    Parameters:\n",
    "                alphas: Lagrange multiplier.\n",
    "                s_alpha: dual function\n",
    "                \n",
    "    return:\n",
    "                best_vector: best support vector machine.\n",
    "    \"\"\"\n",
    "    # add col in alphas,and initialize value equal 0. about 2 lines.\n",
    "    alphas_zeros = np.zeros((alphas.shape[0],1))[:-1]\n",
    "    alphas_add_zeros = np.c_[alphas[:-1],alphas_zeros]\n",
    "    \n",
    "    # cache some parameters.\n",
    "    cache_alphas_add = np.zeros((alphas.shape[0],1))[:-1] # cache derivative alphas.\n",
    "    cache_alphas_compute_result = np.zeros((alphas.shape[0],1))[:-1] # cache value in dual function result\n",
    "    cache_alphas_to_compute = alphas_add_zeros.copy() # get minmux dual function value,cache this values.\n",
    "    \n",
    "    \n",
    "    for i in range(alphas_add_zeros.shape[0]):\n",
    "        mask_alpha = np.ma.array(alphas_add_zeros, mask=False) # create mask array.\n",
    "        mask_alpha.mask[i] = True # masked alpha\n",
    "        value = sym.solve(s_alpha.subs(mask_alpha).diff())[0] # calculate alpha_i\n",
    "        \n",
    "        cache_alphas_add[i] = value\n",
    "        cache_alphas_to_compute[i][1] = value\n",
    "        cache_alphas_compute_result[i][0] = s_alpha.subs(cache_alphas_to_compute) # calculate finally dual function result.\n",
    "        cache_alphas_to_compute[i][1] = 0 # make sure other alphas equal 0.\n",
    "        \n",
    "   \n",
    "    min_alpha_value_index = cache_alphas_compute_result.argmin()\n",
    "    \n",
    "    best_vector =np.array([cache_alphas_add[min_alpha_value_index]] +  [- cache_alphas_add[min_alpha_value_index] / train_y[-1]]) \n",
    "    \n",
    "    \n",
    "    return [min_alpha_value_index]+[2],best_vector\n",
    "\n",
    "\n",
    "    "
   ]
  },
  {
   "cell_type": "code",
   "execution_count": 257,
   "metadata": {},
   "outputs": [
    {
     "name": "stdout",
     "output_type": "stream",
     "text": [
      "[0, 2]\n",
      "support vector machine is: [[alpha1]\n",
      " [1.0*alpha1 + 1.0*alpha2]]\n"
     ]
    },
    {
     "name": "stderr",
     "output_type": "stream",
     "text": [
      "/Users/huwang/anaconda3/lib/python3.6/site-packages/sympy/core/sympify.py:298: UserWarning: Warning: converting a masked element to nan.\n",
      "  return sympify(coerce(a))\n"
     ]
    }
   ],
   "source": [
    "min_alpha_value_index,best_vector = choose_best_alphas(alphas,s_alpha)\n",
    "print(min_alpha_value_index)\n",
    "print('support vector machine is:',alphas[min_alpha_value_index])"
   ]
  },
  {
   "cell_type": "markdown",
   "metadata": {},
   "source": [
    "$w^{*} = \\sum_{i=1}^{N}\\alpha_i^{*}y_ix_i$\n"
   ]
  },
  {
   "cell_type": "code",
   "execution_count": 258,
   "metadata": {},
   "outputs": [
    {
     "name": "stdout",
     "output_type": "stream",
     "text": [
      "W is:  [0.5 0.5]\n"
     ]
    }
   ],
   "source": [
    "w = np.sum(np.multiply(best_vector , train_y[min_alpha_value_index].T) * train_x[:,min_alpha_value_index],axis=1)\n",
    "print(\"W is: \",w)"
   ]
  },
  {
   "cell_type": "markdown",
   "metadata": {},
   "source": [
    "选择$\\alpha^{*}$的一个正分量$\\alpha_j^{*}>0$,计算\n",
    "\n",
    "$b^{*}=y_j-\\sum_{i=1}^{N}\\alpha_i^{*}y_i<x_i \\cdot x_j>$\n",
    "\n",
    "这里我选alpha1"
   ]
  },
  {
   "cell_type": "code",
   "execution_count": 259,
   "metadata": {
    "scrolled": false
   },
   "outputs": [
    {
     "name": "stdout",
     "output_type": "stream",
     "text": [
      "b is:  [-2.]\n"
     ]
    }
   ],
   "source": [
    "b = train_y[0]-np.sum(best_vector.T * np.dot(train_x[:,min_alpha_value_index].T,train_x[:,min_alpha_value_index])[0] \n",
    "                      * train_y[min_alpha_value_index].T)\n",
    "print(\"b is: \",b)"
   ]
  },
  {
   "cell_type": "markdown",
   "metadata": {},
   "source": [
    "所以超平面为:\n",
    "\n",
    "$f(x)=sign[wx+b]$"
   ]
  },
  {
   "cell_type": "markdown",
   "metadata": {},
   "source": [
    "# SMO\n",
    "\n",
    "这里实现简单版本的smo算法,这里所谓的简单版本指的是速度没有SVC快,参数自动选择没有SCV好等.但是通过调节参数一样可以达到和SVC差不多的结果\n",
    "\n",
    "### 算法:\n",
    "\n",
    "#### 1.SMO选择第一个变量的过程为选择一个违反KKT条件最严重的样本点为$\\alpha_1$,即违反以下KKT条件:\n",
    "\n",
    "$\\alpha_i=0\\Leftrightarrow y_ig(x_i)\\geqslant1$\n",
    "\n",
    "$0<\\alpha_i<C\\Leftrightarrow y_ig(x_i)=1$\n",
    "\n",
    "$\\alpha_i=C \\Leftrightarrow y_ig(x_i)\\leqslant1$\n",
    "\n",
    "其中:\n",
    "\n",
    "$g(x_i)=\\sum_{j=1}^{N}\\alpha_iy_iK(x_i,x_j)+b$\n",
    "\n",
    "**注意:**\n",
    "- 初始状态下$\\alpha_i$定义为0,且和样本数量一致.\n",
    "- 该检验是在$\\varepsilon$范围内的\n",
    "- 在检验过程中我们先遍历所有满足$0<\\alpha_i<C$的样本点,即在间隔边界上的支持向量点,找寻违反KKT最严重的样本点\n",
    "- 如果没有满足$0<\\alpha_i<C$则遍历所有的样本点，找违反KKT最严重的样本点\n",
    "- 这里的*违反KKT最严重的样本点*可以选择为$y_ig(x_i)$最小的点作为$\\alpha_1$\n",
    "\n",
    "#### 2.SMO选择第二个变量的过程为希望$\\alpha_2$有足够的变化\n",
    "\n",
    "因为$\\alpha_2^{new}$是依赖于$|E_1-E_2|$的,并且使得|E_1-E_2|最大,为了加快计算,一种简单的做法是:\n",
    "\n",
    "如果$E_1$是正的,那么选择最小的$E_i$作为$E_2$,如果$E_1$是负的,那么选择最大的$E_i$作为$E_2$,为了节省计算时间,将$E_i$保存在一个列表中\n",
    "\n",
    "**注意:**\n",
    "- 如果通过以上方法找到的$\\alpha_2$不能使得目标函数有足够的下降,那么采用以下启发式方法继续选择$\\alpha_2$,遍历在间隔边上的支持向量的点依次将其对应的变量作为$\\alpha_2$试用,直到目标函数有足够的下降,若还是找不到使得目标函数有足够下降,则抛弃第一个$\\alpha_1$,在重新选择另一个$\\alpha_1$\n",
    "\n",
    "- 这个简单版本的SMO算法并没有处理这种特殊情况\n",
    "\n",
    "\n",
    "\n",
    "\n"
   ]
  },
  {
   "cell_type": "markdown",
   "metadata": {},
   "source": [
    "#### 3.计算$\\alpha_1^{new},\\alpha_2^{new}$\n",
    "\n",
    "计算$\\alpha_1^{new},\\alpha_2^{new}$,是为了计算$b_i,E_i$做准备.\n",
    "\n",
    "3.1 计算$\\alpha_2$的边界:\n",
    "\n",
    "- if $y_1 \\neq y_2$:$L=max(0,\\alpha_2^{old}-\\alpha_1^{old})$,$H=min(C,C+\\alpha_2^{old}-\\alpha_1^{old})$\n",
    "\n",
    "- if $y_1 = y_2$:$L=max(0,\\alpha_2^{old}+\\alpha_1^{old}-C)$,$H=min(C,C+\\alpha_2^{old}+\\alpha_1^{old})$\n",
    "\n",
    "3.2 计算$\\alpha_2^{new,unc} = \\alpha_2^{old}+\\frac{y_2(E_1-E_2)}{\\eta}$\n",
    "\n",
    "其中:\n",
    "\n",
    "$\\eta = K_{11}+K_{22}-2K_{12}$,这里的$K_n$值得是核函数,可以是高斯核,多项式核等.\n",
    "\n",
    "3.3 修剪$\\alpha_2$\n",
    "\n",
    "$\\alpha_2^{new}=\\left\\{\\begin{matrix}\n",
    "H, &\\alpha_2^{new,unc}>H \\\\ \n",
    " \\alpha_2^{new,unc},& L\\leqslant \\alpha_2^{new,unc}\\leqslant H \\\\ \n",
    " L,& \\alpha_2^{new,unc}<L\n",
    "\\end{matrix}\\right.$"
   ]
  },
  {
   "cell_type": "markdown",
   "metadata": {},
   "source": [
    "3.3 计算$\\alpha_1^{new}$\n",
    "\n",
    "$\\alpha_1^{new}=\\alpha_1^{old}+y_1y_2(\\alpha_2^{old}-\\alpha_2^{new})$"
   ]
  },
  {
   "cell_type": "markdown",
   "metadata": {},
   "source": [
    "#### 4.计算阈值b和差值$E_i$\n",
    "\n",
    "$b_1^{new}=-E_1-y_1K_{11}(\\alpha_1^{new}-\\alpha_1^{old})-y_2K_{21}(\\alpha_2^{new}-\\alpha_2^{old})+b^{old}$\n",
    "\n",
    "$b_2^{new}=-E_2-y_1K_{12}(\\alpha_1^{new}-\\alpha_1^{old})-y_2K_{22}(\\alpha_2^{new}-\\alpha_2^{old})+b^{old}$"
   ]
  },
  {
   "cell_type": "markdown",
   "metadata": {},
   "source": [
    "如果$\\alpha_1^{new},\\alpha_2^{new}$,同时满足条件$0<\\alpha_i^{new}<C,i=1,2$,\n",
    "\n",
    "那么$b_1^{new}=b_2^{new}=b^{new}$.\n",
    "\n",
    "如果$\\alpha_1^{new},\\alpha_2^{new}$是0或者C,那么$b_1^{new},b_2^{new}$之间的数\n",
    "都符合KKT条件阈值,此时取中点为$b^{new}$\n",
    "\n",
    "$E_i^{new}=(\\sum_sy_j\\alpha_jK(x_i,x_j))+b^{new}-y_i$\n",
    "\n",
    "其中s是所有支持向量$x_j$的集合."
   ]
  },
  {
   "cell_type": "markdown",
   "metadata": {},
   "source": [
    "#### 5. 更新参数\n",
    "\n",
    "更新$\\alpha_i,E_i,b_i$"
   ]
  },
  {
   "cell_type": "markdown",
   "metadata": {},
   "source": [
    "#### 注意:\n",
    "\n",
    "在训练完毕后,绝大部分的$\\alpha_i$的分量都为0,只有极少数的分量不为0,那么那些不为0的分量就是支持向量"
   ]
  },
  {
   "cell_type": "markdown",
   "metadata": {},
   "source": [
    "### SMO简单例子\n",
    "\n",
    "加载数据,来自于scikit中的的鸢尾花数据,其每次请求是变化的"
   ]
  },
  {
   "cell_type": "code",
   "execution_count": 2,
   "metadata": {},
   "outputs": [],
   "source": [
    "# data\n",
    "def create_data():\n",
    "    iris = load_iris()\n",
    "    df = pd.DataFrame(iris.data, columns=iris.feature_names)\n",
    "    df['label'] = iris.target\n",
    "    df.columns = ['sepal length', 'sepal width', 'petal length', 'petal width', 'label']\n",
    "    data = np.array(df.iloc[:100, [0, 1, -1]])\n",
    "    for i in range(len(data)):\n",
    "        if data[i,-1] == 0:\n",
    "            data[i,-1] = -1\n",
    "   \n",
    "    return data[:,:2], data[:,-1]"
   ]
  },
  {
   "cell_type": "code",
   "execution_count": 3,
   "metadata": {},
   "outputs": [],
   "source": [
    "X, y = create_data()\n",
    "\n",
    "# 划分训练样本和测试样本\n",
    "X_train, X_test, y_train, y_test = train_test_split(X, y, test_size=0.25)"
   ]
  },
  {
   "cell_type": "code",
   "execution_count": 4,
   "metadata": {
    "scrolled": false
   },
   "outputs": [
    {
     "data": {
      "text/plain": [
       "<matplotlib.collections.PathCollection at 0x1a1a5a0c18>"
      ]
     },
     "execution_count": 4,
     "metadata": {},
     "output_type": "execute_result"
    },
    {
     "data": {
      "image/png": "[encoded data removed]",
      "text/plain": [
       "<matplotlib.figure.Figure at 0x10b997208>"
      ]
     },
     "metadata": {},
     "output_type": "display_data"
    }
   ],
   "source": [
    "plt.scatter(X[:,0],X[:,1],c=y)"
   ]
  },
  {
   "cell_type": "markdown",
   "metadata": {},
   "source": [
    "### 开始搭建SMO算法代码"
   ]
  },
  {
   "cell_type": "code",
   "execution_count": 19,
   "metadata": {},
   "outputs": [],
   "source": [
    "class SVM:\n",
    "    def __init__(self,max_iter = 100,kernel = 'linear',C=1.,is_print=False,sigma=1):\n",
    "        \"\"\"\n",
    "        Parameters:\n",
    "            max_iter:最大迭代数\n",
    "            kernel:核函数,这里只定义了\"线性\"和\"高斯\"\n",
    "            sigma:高斯核函数的参数\n",
    "            C:惩罚项,松弛变量\n",
    "            is_print:是否打印\n",
    "            \n",
    "        \"\"\"\n",
    "        \n",
    "        self.max_iter = max_iter\n",
    "        self.kernel = kernel\n",
    "        self.C = C  # 松弛变量C\n",
    "        self.is_print = is_print\n",
    "        self.sigma = sigma\n",
    "    def init_args(self,fetures,labels):\n",
    "        \"\"\"\n",
    "        self.m:样本数量\n",
    "        self.n:特征数\n",
    "        \"\"\"\n",
    "        self.m,self.n = fetures.shape\n",
    "        self.X = fetures\n",
    "        self.Y = labels\n",
    "        self.b = 0.\n",
    "        \n",
    "        # 将E_i 保存在一个列表中\n",
    "        self.alpha = np.zeros(self.m) + 0.0001\n",
    "        self.E = [self._E(i) for i in range(self.m)]\n",
    "\n",
    "    def _g(self,i):\n",
    "        \"\"\"\n",
    "        预测值g(x_i)\n",
    "        \n",
    "        \"\"\"\n",
    "        g_x = np.sum(self.alpha*self.Y*self._kernel(self.X[i],self.X)) + self.b\n",
    "        return g_x\n",
    "        \n",
    "    \n",
    "    def _E(self,i):\n",
    "        \"\"\"\n",
    "        E(x) 为g(x) 对输入x的预测值和y的差值\n",
    "        \"\"\"\n",
    "        g_x = self._g(i) - self.Y[i]\n",
    "        return g_x\n",
    "    \n",
    "    \n",
    "    def _kernel(self,x1,x2):\n",
    "        \"\"\"\n",
    "        计算kernel\n",
    "        \"\"\"\n",
    "        if self.kernel == \"linear\":\n",
    "            return np.sum(np.multiply(x1,x2),axis=1)\n",
    "        if self.kernel == \"Gaussion\":\n",
    "            return np.sum(np.exp(-((x1-x2)**2)/(2*self.sigma)),axis=1)\n",
    "    \n",
    "    def _KKT(self,i):\n",
    "        \"\"\"\n",
    "        判断KKT\n",
    "        \"\"\"\n",
    "        y_g = np.round(np.float64(np.multiply(self._g(i),self.Y[i]))) # 存在精度问题也就是说在epsilon范围内,所以这里使用round\n",
    "\n",
    "        if self.alpha[i] == 0:\n",
    "\n",
    "            return y_g >= 1,y_g\n",
    "        \n",
    "        elif 0<self.alpha[i]<self.C:\n",
    "\n",
    "            return y_g == 1,y_g\n",
    "        \n",
    "        elif self.alpha[i] == self.C:\n",
    "\n",
    "            return y_g <=1,y_g\n",
    "        \n",
    "        else:\n",
    "            return ValueError\n",
    "        \n",
    "    def _init_alpha(self):\n",
    "        \"\"\"\n",
    "        外层循环首先遍历所有满足0<a<C的样本点，检验是否满足KKT\n",
    "        0<a<C的样本点为间隔边界上支持向量点\n",
    "        \"\"\"\n",
    "        index_array = np.where(np.logical_and(self.alpha>0,self.alpha<self.C))[0] # 因为这里where的特殊性,所以alpha必须是(m,)\n",
    "\n",
    "        if len(index_array) !=0:\n",
    "            cache_list = []\n",
    "            for i in index_array:\n",
    "                bool_,y_g = self._KKT(i)\n",
    "                if not bool_:\n",
    "                    cache_list.append((y_g,i))\n",
    "                    \n",
    "        # 如果没有则遍历整个样本\n",
    "        else:\n",
    "            cache_list = []\n",
    "            for i in range(self.m):\n",
    "                bool_,y_g = self._KKT(i)\n",
    "                if not bool_:\n",
    "                    cache_list.append((y_g,i))\n",
    "                \n",
    "        #获取违反KKT最严重的样本点,也就是g(x_i)*y_i 最小的\n",
    "        min_i = sorted(cache_list,key=lambda x:x[0])[0][1]\n",
    "        \n",
    "        # 选择第二个alpha2\n",
    "        E1 = self.E[min_i]\n",
    "\n",
    "        if E1 > 0:\n",
    "            j = np.argmin(self.E)\n",
    "        else:\n",
    "            j = np.argmax(self.E)\n",
    "\n",
    "        return min_i,j\n",
    "\n",
    "    def _prune(self,alpha,L,H):\n",
    "        \"\"\"\n",
    "        修剪alpha\n",
    "        \"\"\"\n",
    "        if alpha > H:\n",
    "            return H\n",
    "        elif L<=alpha<=H:\n",
    "            return alpha\n",
    "        elif alpha < L:\n",
    "            return L\n",
    "        else:\n",
    "            return ValueError\n",
    "        \n",
    "    \n",
    "    def fit(self,features, labels):\n",
    "        self.init_args(features, labels)\n",
    "        for t in range(self.max_iter):\n",
    "            # 开始寻找alpha1,和alpha2\n",
    "            i1,i2 = self._init_alpha()\n",
    "            \n",
    "            # 计算边界\n",
    "            if self.Y[i1] == self.Y[i2]: # 同号\n",
    "                L = max(0,self.alpha[i2]+self.alpha[i1]-self.C)\n",
    "                H = min(self.C,self.alpha[i2]+self.alpha[i1])\n",
    "            else:\n",
    "                L = max(0,self.alpha[i2]-self.alpha[i1])\n",
    "                H = min(self.C,self.C+self.alpha[i2]-self.alpha[i1])\n",
    "\n",
    "\n",
    "            # 计算阈值b_i 和差值E_i\n",
    "            E1 = self.E[i1]\n",
    "            E2 = self.E[i2]\n",
    "\n",
    "            eta = self._kernel(self.X[np.newaxis,i1],self.X[np.newaxis,i1]) + \\\n",
    "                self._kernel(self.X[np.newaxis,i2],self.X[np.newaxis,i2]) - \\\n",
    "                2 * self._kernel(self.X[np.newaxis,i1],self.X[np.newaxis,i2])\n",
    "\n",
    "            if eta <=0:\n",
    "                continue\n",
    "\n",
    "            alpha2_new_nuc = self.alpha[i2] + (self.Y[i2] * (E1-E2) /eta)\n",
    "            # 修剪 alpha2_new_nuc\n",
    "            alpha2_new = self._prune(alpha2_new_nuc,L,H)\n",
    "\n",
    "            alpha1_new = self.alpha[i1] + self.Y[i1] * self.Y[i2] * (self.alpha[i2]-alpha2_new)\n",
    "\n",
    "\n",
    "            # 计算b_i\n",
    "            b1_new = -E1-self.Y[i1]*self._kernel(self.X[np.newaxis,i1],self.X[np.newaxis,i1])*(alpha1_new - self.alpha[i1])\\\n",
    "                        - self.Y[i2] * self._kernel(self.X[np.newaxis,i2],self.X[np.newaxis,i1])*(alpha2_new - self.alpha[i2]) + self.b\n",
    "            b2_new = -E2-self.Y[i1]*self._kernel(self.X[np.newaxis,i1],self.X[np.newaxis,i2])*(alpha1_new - self.alpha[i1])\\\n",
    "                        - self.Y[i2] * self._kernel(self.X[np.newaxis,i2],self.X[np.newaxis,i2])*(alpha2_new - self.alpha[i2]) + self.b\n",
    "\n",
    "\n",
    "            if 0 < alpha1_new < self.C:\n",
    "                b_new = b1_new\n",
    "            elif 0 < alpha2_new < self.C:\n",
    "                b_new = b2_new\n",
    "            else:\n",
    "                # 选择中点\n",
    "                b_new = (b1_new + b2_new) / 2\n",
    "\n",
    "\n",
    "\n",
    "            # 更新参数\n",
    "            self.alpha[i1] = alpha1_new\n",
    "            self.alpha[i2] = alpha2_new\n",
    "            self.b = b_new\n",
    "            \n",
    "            self.E[i1] = self._E(i1)\n",
    "            self.E[i2] = self._E(i2)\n",
    "        \n",
    "        if self.is_print:\n",
    "            print(\"Train Done!\")\n",
    "         \n",
    "    \n",
    "    def predict(self,data):\n",
    "        \n",
    "        predict_y = np.sum(self.alpha*self.Y*self._kernel(data,self.X)) + self.b\n",
    "        return np.sign(predict_y)[0]\n",
    "                \n",
    "    def score(self,test_X,test_Y):\n",
    "        m,n = test_X.shape\n",
    "        count = 0\n",
    "        for i in range(m):\n",
    "            predict_i = self.predict(test_X[i])\n",
    "            if predict_i == np.float(test_Y[i]):\n",
    "                count +=1\n",
    "        return count / m    "
   ]
  },
  {
   "cell_type": "markdown",
   "metadata": {},
   "source": [
    "由于鸢尾花数据每次请求都会变化,我们在这里取正确率的均值与SVC进行对比"
   ]
  },
  {
   "cell_type": "code",
   "execution_count": 15,
   "metadata": {
    "scrolled": false
   },
   "outputs": [
    {
     "name": "stdout",
     "output_type": "stream",
     "text": [
      "Test accourate: 0.6\n",
      "Train accourate: 0.4666666666666667\n",
      "--------------------------\n",
      "Test accourate: 0.84\n",
      "Train accourate: 0.7866666666666666\n",
      "--------------------------\n",
      "Test accourate: 0.96\n",
      "Train accourate: 0.9333333333333333\n",
      "--------------------------\n",
      "Test accourate: 1.0\n",
      "Train accourate: 0.8933333333333333\n",
      "--------------------------\n",
      "Test accourate: 0.96\n",
      "Train accourate: 0.9733333333333334\n",
      "--------------------------\n",
      "Test accourate: 0.56\n",
      "Train accourate: 0.5466666666666666\n",
      "--------------------------\n",
      "Test accourate: 0.96\n",
      "Train accourate: 1.0\n",
      "--------------------------\n",
      "Test accourate: 0.84\n",
      "Train accourate: 0.8266666666666667\n",
      "--------------------------\n",
      "Test accourate: 0.6\n",
      "Train accourate: 0.7066666666666667\n",
      "--------------------------\n",
      "Test accourate: 0.92\n",
      "Train accourate: 0.9466666666666667\n",
      "--------------------------\n",
      "Test accourate: 0.88\n",
      "Train accourate: 0.9466666666666667\n",
      "--------------------------\n",
      "Test accourate: 0.76\n",
      "Train accourate: 0.8533333333333334\n",
      "--------------------------\n",
      "Test accourate: 0.96\n",
      "Train accourate: 1.0\n",
      "--------------------------\n",
      "Test accourate: 0.92\n",
      "Train accourate: 0.84\n",
      "--------------------------\n",
      "Test accourate: 0.96\n",
      "Train accourate: 0.9866666666666667\n",
      "--------------------------\n",
      "Test accourate: 0.52\n",
      "Train accourate: 0.49333333333333335\n",
      "--------------------------\n",
      "Test accourate: 0.96\n",
      "Train accourate: 1.0\n",
      "--------------------------\n",
      "Test accourate: 0.92\n",
      "Train accourate: 0.8933333333333333\n",
      "--------------------------\n",
      "Test accourate: 1.0\n",
      "Train accourate: 0.96\n",
      "--------------------------\n",
      "Test accourate: 0.76\n",
      "Train accourate: 0.8\n",
      "--------------------------\n",
      "Test average accourate is:  0.844\n"
     ]
    }
   ],
   "source": [
    "count = 0\n",
    "failed2 = []\n",
    "for i in range(20):\n",
    "    X, y = create_data()\n",
    "    X_train, X_test, y_train, y_test = train_test_split(X, y, test_size=0.25)\n",
    "    svm = SVM(max_iter=200,C=2,kernel='linear')\n",
    "    svm.fit(X_train,y_train)\n",
    "    test_accourate = svm.score(X_test,y_test)\n",
    "    train_accourate = svm.score(X_train,y_train)\n",
    "    \n",
    "    if test_accourate < 0.8:\n",
    "        failed2.append((X_train, X_test, y_train, y_test)) # 储存正确率过低的样本集\n",
    "    print(\"Test accourate:\",test_accourate)\n",
    "    print(\"Train accourate:\",train_accourate)\n",
    "    print('--------------------------')\n",
    "    count += test_accourate\n",
    "print(\"Test average accourate is: \",count/20)"
   ]
  },
  {
   "cell_type": "markdown",
   "metadata": {},
   "source": [
    "可以发现,有些数据的正确率较高,有些正确率非常的底,我们将低正确率的样本保存,取出进行试验"
   ]
  },
  {
   "cell_type": "code",
   "execution_count": 16,
   "metadata": {},
   "outputs": [],
   "source": [
    "failed2X_train, failed2X_test, failed2y_train, failed2y_test= failed2[2]"
   ]
  },
  {
   "cell_type": "markdown",
   "metadata": {},
   "source": [
    "我们可以看出,在更改C后,正确率依然是客观的,这说明简单版本的SMO算法是可行的.只是我们在测算\n",
    "平均正确率的时候,C的值没有改变,那么可能有些样本的C值不合适."
   ]
  },
  {
   "cell_type": "code",
   "execution_count": 17,
   "metadata": {},
   "outputs": [
    {
     "data": {
      "text/plain": [
       "0.96"
      ]
     },
     "execution_count": 17,
     "metadata": {},
     "output_type": "execute_result"
    }
   ],
   "source": [
    "svm = SVM(max_iter=200,C=5,kernel='linear')\n",
    "svm.fit(failed2X_train,failed2y_train)\n",
    "accourate = svm.score(failed2X_test,failed2y_test)\n",
    "accourate"
   ]
  },
  {
   "cell_type": "markdown",
   "metadata": {},
   "source": [
    "使用Scikit-SVC测试"
   ]
  },
  {
   "cell_type": "markdown",
   "metadata": {},
   "source": [
    "### Scikit-SVC\n",
    "基于scikit-learn的[SVM](https://scikit-learn.org/stable/modules/generated/sklearn.svm.SVC.html#sklearn.svm.SVC.decision_function)\n",
    "\n",
    "例子1:"
   ]
  },
  {
   "cell_type": "code",
   "execution_count": 18,
   "metadata": {},
   "outputs": [
    {
     "name": "stdout",
     "output_type": "stream",
     "text": [
      "accourate 1.0\n",
      "accourate 1.0\n",
      "accourate 1.0\n",
      "accourate 0.96\n",
      "accourate 1.0\n",
      "accourate 0.96\n",
      "accourate 0.96\n",
      "accourate 0.96\n",
      "accourate 1.0\n",
      "accourate 1.0\n",
      "average accourate is:  0.984\n"
     ]
    }
   ],
   "source": [
    "from sklearn.svm import SVC\n",
    "count = 0\n",
    "for i in range(10):\n",
    "    X, y = create_data()\n",
    "    X_train, X_test, y_train, y_test = train_test_split(X, y, test_size=0.25)\n",
    "    clf = SVC(kernel=\"linear\",C=2)\n",
    "    clf.fit(X_train, y_train)\n",
    "    accourate = clf.score(X_test, y_test)\n",
    "    print(\"accourate\",accourate)\n",
    "    count += accourate\n",
    "print(\"average accourate is: \",count/10)"
   ]
  },
  {
   "cell_type": "markdown",
   "metadata": {},
   "source": [
    "当然由于是简单版本的SMO算法,所以平均正确率肯定没有SVC高,但是我们可以调节C和kernel来使得正确率提高"
   ]
  },
  {
   "cell_type": "markdown",
   "metadata": {},
   "source": [
    "## Multilabel classification"
   ]
  },
  {
   "cell_type": "markdown",
   "metadata": {},
   "source": [
    "多标签:一个实例可以有多个标签比如一个电影可以是动作,也可以是爱情.\n",
    "\n",
    "多类分类(multi-class classification)：有多个类别需要分类，但一个样本只属于一个类别\n",
    "\n",
    "多标签分类(multi-label classificaton)：每个样本有多个标签\n",
    "\n",
    "对于多类分类，最后一层使用softmax函数进行预测，训练阶段使用categorical_crossentropy作为损失函数 \n",
    "\n",
    "对于多标签分类，最后一层使用sigmoid函数进行预测，训练阶段使用binary_crossentropy作为损失函数\n",
    "\n",
    "This example simulates a multi-label document classification problem. The dataset is generated randomly based on the following process:\n",
    "\n",
    "- pick the number of labels: n ~ Poisson(n_labels)\n",
    "- n times, choose a class c: c ~ Multinomial(theta)\n",
    "- pick the document length: k ~ Poisson(length)\n",
    "- k times, choose a word: w ~ Multinomial(theta_c)\n",
    "\n",
    "In the above process, rejection sampling is used to make sure that n is more than 2, and that the document length is never zero. Likewise, we reject classes which have already been chosen. The documents that are assigned to both classes are plotted surrounded by two colored circles.\n",
    "\n",
    "The classification is performed by projecting to the first two principal components found by [PCA](http://www.cnblogs.com/jerrylead/archive/2011/04/18/2020209.html) and [CCA](https://files-cdn.cnblogs.com/files/jerrylead/%E5%85%B8%E5%9E%8B%E5%85%B3%E8%81%94%E5%88%86%E6%9E%90.pdf) for visualisation purposes, followed by using the [sklearn.multiclass.OneVsRestClassifier](https://scikit-learn.org/stable/modules/generated/sklearn.multiclass.OneVsRestClassifier.html#sklearn.multiclass.OneVsRestClassifier) metaclassifier using two SVCs with linear kernels to learn a discriminative model for each class. Note that PCA is used to perform an unsupervised dimensionality reduction, while CCA is used to perform a supervised one.\n",
    "\n",
    "Note: in the plot, “unlabeled samples” does not mean that we don’t know the labels (as in semi-supervised learning) but that the samples simply do not have a label."
   ]
  },
  {
   "cell_type": "code",
   "execution_count": 10,
   "metadata": {},
   "outputs": [],
   "source": [
    "from sklearn.datasets import make_multilabel_classification\n",
    "from sklearn.multiclass import OneVsRestClassifier\n",
    "from sklearn.svm import SVC\n",
    "from sklearn.decomposition import PCA\n",
    "from sklearn.cross_decomposition import CCA\n"
   ]
  },
  {
   "cell_type": "code",
   "execution_count": 11,
   "metadata": {},
   "outputs": [],
   "source": [
    "def plot_hyperplance(clf,min_x,max_x,linestyle,label):\n",
    "    \n",
    "    # get the separating heyperplance\n",
    "    # 0 = w0*x0 + w1*x1 +b\n",
    "    w = clf.coef_[0]\n",
    "    a = -w[0] /w[1]\n",
    "    xx = np.linspace(min_x -5,max_x + 5)\n",
    "    yy = a * xx -(clf.intercept_[0]) / w[1] # clf.intercept_[0] get parameter b, \n",
    "    plt.plot(xx,yy,linestyle,label=label)"
   ]
  },
  {
   "cell_type": "code",
   "execution_count": 71,
   "metadata": {},
   "outputs": [],
   "source": [
    "def plot_subfigure(X,Y,subplot,title,transform):\n",
    "    if transform == \"pca\": # pca执行无监督分析(不注重label)\n",
    "        \n",
    "        X = PCA(n_components=2).fit_transform(X)\n",
    "        print(\"PCA\",X.shape)\n",
    "        \n",
    "    elif transform == \"cca\": # pca 执行监督分析(注重label),也即是说会分析label之间的关系\n",
    "        X = CCA(n_components=2).fit(X, Y).transform(X)\n",
    "        print(\"CCA\",X.shape)\n",
    "    else:\n",
    "        raise ValueError\n",
    "\n",
    "    min_x = np.min(X[:, 0])\n",
    "    max_x = np.max(X[:, 0])\n",
    "\n",
    "    min_y = np.min(X[:, 1])\n",
    "    max_y = np.max(X[:, 1])\n",
    "\n",
    "    classif = OneVsRestClassifier(SVC(kernel='linear')) # 使用 one -reset 进行SVM训练\n",
    "    classif.fit(X, Y)\n",
    "\n",
    "    plt.subplot(2, 2, subplot)\n",
    "    plt.title(title)\n",
    "\n",
    "    zero_class = np.where(Y[:, 0]) # 找到第一类的label 索引\n",
    "    \n",
    "    one_class = np.where(Y[:, 1]) # 找到第二类的\n",
    "    plt.scatter(X[:, 0], X[:, 1], s=40, c='gray', edgecolors=(0, 0, 0))\n",
    "    plt.scatter(X[zero_class, 0], X[zero_class, 1], s=160, edgecolors='b',\n",
    "                facecolors='none', linewidths=2, label='Class 1')\n",
    "    plt.scatter(X[one_class, 0], X[one_class, 1], s=80, edgecolors='orange',\n",
    "                facecolors='none', linewidths=2, label='Class 2')\n",
    "    \n",
    "\n",
    "    # classif.estimators_[0]，获取第一个估算器,得到第一个决策边界\n",
    "    plot_hyperplance(classif.estimators_[0], min_x, max_x, 'k--',\n",
    "                    'Boundary\\nfor class 1')\n",
    "    # classif.estimators_[1]，获取第二个估算器,得到第一个决策边界\n",
    "    plot_hyperplance(classif.estimators_[1], min_x, max_x, 'k-.',\n",
    "                    'Boundary\\nfor class 2')\n",
    "    plt.xticks(())\n",
    "    plt.yticks(())\n",
    "\n",
    "    plt.xlim(min_x - .5 * max_x, max_x + .5 * max_x)\n",
    "    plt.ylim(min_y - .5 * max_y, max_y + .5 * max_y)\n",
    "    if subplot == 2:\n",
    "        plt.xlabel('First principal component')\n",
    "        plt.ylabel('Second principal component')\n",
    "        plt.legend(loc=\"upper left\")"
   ]
  },
  {
   "cell_type": "markdown",
   "metadata": {},
   "source": [
    "**make_multilabel_classification:**\n",
    "\n",
    "make_multilabel_classification(n_samples=100, n_features=20, n_classes=5, n_labels=2, length=50, allow_unlabeled=True, sparse=False, return_indicator='dense', return_distributions=False, random_state=None)"
   ]
  },
  {
   "cell_type": "code",
   "execution_count": 76,
   "metadata": {
    "scrolled": false
   },
   "outputs": [
    {
     "name": "stdout",
     "output_type": "stream",
     "text": [
      "Original: (100, 20)\n",
      "CCA (100, 2)\n",
      "PCA (100, 2)\n",
      "Original: (100, 20)\n",
      "CCA (100, 2)\n",
      "PCA (100, 2)\n"
     ]
    },
    {
     "data": {
      "image/png": "[encoded data removed]",
      "text/plain": [
       "<matplotlib.figure.Figure at 0x1a26b002e8>"
      ]
     },
     "metadata": {},
     "output_type": "display_data"
    }
   ],
   "source": [
    "plt.figure(figsize=(8, 6))\n",
    "    \n",
    "# If ``True``, some instances might not belong to any class.也就是说某些实例可以并不属于任何标签([[0,0]]),使用hot形式\n",
    "X, Y = make_multilabel_classification(n_classes=2, n_labels=1,\n",
    "                                  allow_unlabeled=True,\n",
    "                                  random_state=1)\n",
    "\n",
    "print(\"Original:\",X.shape)\n",
    "plot_subfigure(X, Y, 1, \"With unlabeled samples + CCA\", \"cca\")\n",
    "plot_subfigure(X, Y, 2, \"With unlabeled samples + PCA\", \"pca\")\n",
    "\n",
    "\n",
    "X, Y = make_multilabel_classification(n_classes=2, n_labels=1,\n",
    "                                  allow_unlabeled=False,\n",
    "                                  random_state=1)\n",
    "\n",
    "print(\"Original:\",X.shape)\n",
    "plot_subfigure(X, Y, 3, \"Without unlabeled samples + CCA\", \"cca\")\n",
    "plot_subfigure(X, Y, 4, \"Without unlabeled samples + PCA\", \"pca\")\n",
    "\n",
    "plt.subplots_adjust(.04, .02, .97, .94, .09, .2)\n",
    "plt.show()"
   ]
  },
  {
   "cell_type": "markdown",
   "metadata": {},
   "source": [
    "由于是使用多标签(也就是说一个实例可以有多个标签),无论是标签1还是标签2还是未知标签(“没有标签的样本”).图中直观来看应该是CCA会由于PCA(无论是有没有采用\"没有标签的样本\"),因为CCA考虑了label之间的关联.\n",
    "\n",
    "因为我们有2个标签在实例中,所以我们能够绘制2条决策边界(使用classif.estimators_[index])获取,并使用$x_1 = \\frac{w_0}{w_1}x_1-\\frac{b}{w_1}$绘制决策边界"
   ]
  }
 ],
 "metadata": {
  "kernelspec": {
   "display_name": "Python 3",
   "language": "python",
   "name": "python3"
  },
  "language_info": {
   "codemirror_mode": {
    "name": "ipython",
    "version": 3
   },
   "file_extension": ".py",
   "mimetype": "text/x-python",
   "name": "python",
   "nbconvert_exporter": "python",
   "pygments_lexer": "ipython3",
   "version": "3.6.4"
  }
 },
 "nbformat": 4,
 "nbformat_minor": 2
}
