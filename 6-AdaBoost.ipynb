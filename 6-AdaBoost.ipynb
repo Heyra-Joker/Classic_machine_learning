{
 "cells": [
  {
   "cell_type": "markdown",
   "metadata": {},
   "source": [
    "# AdaBoost"
   ]
  },
  {
   "cell_type": "markdown",
   "metadata": {},
   "source": [
    "在做重要决定的时候,我们会考虑吸收多个专家的意见而不是一个人的意见,机器学习处理问题的时候也可以采用这种方法.这就是元算法(meta-algorithm)背后的思路.元算法是对其他算法进行组合的一种方式,我们会先建立一个**单层决策树(decision stump)**分类器，实际上它是一个单节点的决策树.AdaBoots算法将应用在上述单层决策树之上,然后将在一个难数据集上应用AdaBoots分类器,以了解该算法是如何迅速超越其他分类器的."
   ]
  },
  {
   "cell_type": "markdown",
   "metadata": {},
   "source": [
    "强可学习(strongly learnable)和弱可学习(weakly learnable)\n",
    "\n",
    "- 强可学习:如果存在一个多项式学习算法,并且它的学习率很高,那么我们就称这个概念为**强可学习**.\n",
    "- 若可学习:如果存在一个多项式学习算法,它的学习率只比随机猜测略好,那么就称这个概念为**若可学习**\n",
    "\n",
    "AdaBoost algorithm 是将弱可学习变为强可学习算法中最具有代表性的算法.\n",
    "\n",
    "对着提升方法来说,两个问题需要回答:一是在每一轮如何改变训练数据的权值或概率分布;二是如何将弱分类器组合成一个强分类器.关于第一个问题Adaboost的做法是,提高那些被前一轮弱分类器分类错误的样本权值,而降低那些被正确分类样本权值.这样一来,那些没有得到正确分类的数据,由于其权值的增大而获得更多的\"关注\".至于第2个问题,adaboost才用加权多数表决法的方法.具体的而言就是,加大分类错误率小的弱分类器权值,使其在表中起更大的作用,减小分类误差率大的弱分类器的权值,在表决中起较小的作用.\n",
    "\n",
    "可以取看看boosting和bagging的不同之处"
   ]
  },
  {
   "cell_type": "markdown",
   "metadata": {},
   "source": [
    "### AdaBoost 算法(boosting)\n",
    "\n",
    "假定一个二分类分类的训练集\n",
    "\n",
    "$T={(x_1,y_1),...,(x_n,y_n)}$\n",
    "\n",
    "其中每一个点由实例和样本标签组成.实例$x_i \\in X\\subseteqq R^{n}$,标记$y_i \\in Y={-1,+1}$,X是实例空间,Y是标记集合.Adaboost利用以下算法,从训练数据样本中学习一系列弱分类器或基本分类器,并将这些弱分类器线性组合成一个强分类器."
   ]
  },
  {
   "cell_type": "markdown",
   "metadata": {},
   "source": [
    "#### AdaBoost\n",
    "\n",
    "输入:训练样本数据集$T={(x_1,y_1),...,(x_n,y_n)}$,其中$x_i \\in X\\subseteqq R^{n}$,$y_i \\in Y={-1,+1}$;弱学习算法;\n",
    "\n",
    "输出:最终分类器$G(x)$\n",
    "\n",
    "(1) 初始化训练数据的权重值分布(在初始化的时候将所有样本的权重赋予相同值)\n",
    "\n",
    "$D_1=(w_{11},w_{12},...w_{1i},w_{1N}),w_1i = \\frac{1}{N},i=1,2,...N$\n",
    "\n",
    "(2) 对$m=1,2,...,M$(需要执行人为定义的M轮)\n",
    "\n",
    "(a) 使用具有权值分布的$D_m$的训练数据集学习,得到基本分类器\n",
    "\n",
    "$G_m(x):X\\rightarrow {+1,-1}$\n",
    "\n",
    "(b) 计算$G_m(x)$在训练数据集上的分类错误率\n",
    "\n",
    "$e_m = P(G_m(x_i) \\neq y_i)=\\sum_{i=1}^{N}w_{mi}I(G_m(x_i)\\neq y_i)$\n",
    "\n",
    "(c) 计算$G_m(x)$的系数\n",
    "\n",
    "$\\alpha_m=\\frac{1}{2}log(\\frac{1-e_m}{e_m})$,这里的log是自然对数\n",
    "\n",
    "(d) 更新训练数据集的权值分布\n",
    "\n",
    "$D_{m+1}=(w_{m+1,1},w_{m+1,2},...w_{m+1,i},w_{m+1,N})$\n",
    "\n",
    "$w_{m+1,i}=\\frac{w_{m,i}}{Z_{m}}exp(-\\alpha_m \\cdot y_i \\cdot G(x_i)),i=1,2,...N$\n",
    "\n",
    "这里,$Z_{m}$是规范化因子\n",
    "\n",
    "$Z_{m}=\\sum_{i=1}^{N}w_{mi}exp(-\\alpha_m \\cdot y_i \\cdot G(x_i))$\n",
    "\n",
    "它使$D_{m+1}$成为一个概率分布\n",
    "\n"
   ]
  },
  {
   "cell_type": "markdown",
   "metadata": {},
   "source": [
    "(3) 构建基本分类器的线性组合\n",
    "\n",
    "$f(x)=\\sum_{m=1}^{M}\\alpha_m G_{m}(x)$\n",
    "\n",
    "最终得到分类器\n",
    "\n",
    "$G(x)=sign(f(x))=sign\\begin{pmatrix}\n",
    "\\sum_{m=1}^{M}\\alpha_mG_m(x)\n",
    "\\end{pmatrix}$\n",
    "\n",
    "<p style=\"color:blue\">这里的sign是符号的意思,也就是说如果求出来为负,那么是一类,如果为正数,那么是另一类</p>"
   ]
  },
  {
   "cell_type": "markdown",
   "metadata": {},
   "source": [
    "**对Adaboost的算法说明:**\n",
    "\n",
    "步骤(1) 假设训练数据集具有均匀的权值分布,即每个训练样本在基本分类器的学习中作用是相同,这一假设保证第一步能够在原始数据集上学习基本分类器$G_1(x)$.\n",
    "\n",
    "步骤(2) adaboost反复学习基本分类器,在每一轮$m=1,2,..,M$顺次的执行如下操作:\n",
    "- (a) 使用当前分布$D_m$加权的训练数据,学习基本分类器$G_m(x)$\n",
    "- (b) 计算基本分类器$G_m(x)$在加权训练数据集上的分类误差率:\n",
    "    - $e_m = P(G_m(x_i) \\neq y_i)=\\sum_{i=1}^{N}w_{mi}I(G_m(x_i)\\neq y_i)$\n",
    "    - 这里,$w_mi$表示第m轮中第i个实例的权值,$\\sum_{i=1}^{N}w_{mi}=1$\n",
    "    \n",
    "- (c) 计算基本分类器$G(x)$的系数$\\alpha_m$,$\\alpha_m$表示$G_m(x)$在最终分类器的权重性质.\n",
    "    - 当$e_m\\leqslant \\frac{1}{2}$,$\\alpha \\geqslant 0,$并且$a_m$随着$e_m$的减少而增大,所以分类误差率越小的基本分类器在最终的分类作用越大\n",
    "    \n",
    "- (d) 更新训练数据的权值分布为下一轮做准备.\n",
    "    - $\\left\\{\\begin{matrix}\n",
    "\\frac{w_{mi}}{Z_m}e^{-\\alpha}, &G_m(x_i)=y_i \\\\ \n",
    " \\frac{w_{mi}}{Z_m}e^{\\alpha}& G_m(x_i)\\neq y_i\n",
    "\\end{matrix}\\right.$\n",
    "\n",
    "步骤(3) 线性组合$f(x)$实现M个基本分类器的加权表决.系数$\\alpha_m$表示了$G_m(x)$的重要性,但是这里所有的$\\alpha_m$之和并不为1.$f(x)$的符号决定了实例x的类,$f(x)$的绝对值表示了分类的确信度.\n"
   ]
  },
  {
   "cell_type": "markdown",
   "metadata": {},
   "source": [
    "### AdaBoost的例子\n",
    "\n",
    "给出如下表,假设多分类器是由$x<v$或者$x>v$产生,其中阈值为v使该分类器在训练数据集上分类错误率最低.\n",
    "\n",
    "![](picture/34.png)"
   ]
  },
  {
   "cell_type": "markdown",
   "metadata": {},
   "source": [
    "我们自定义选取的阈值为2.5,5.5,8.5\n",
    "\n",
    "初始化数据权值分布\n",
    "\n",
    "$D_1=(w_{11},w_{12},...,w_{110})$\n",
    "\n",
    "$w_{1i}=\\frac{1}{10} = 0.1,i=1,2,...,10$\n",
    "\n",
    "**对m=1,**\n",
    "\n",
    "(a) 在权值分布为$D_1$的训练数据集上,阈值v依次取值2.5,5.5,8.5时,且分别尝试**符号选择1,-1**时,错误率2.5或者8.5最低,那么我们先选取2.5,故基本分类器为:\n",
    "\n",
    "$G_1(x)=\\left\\{\\begin{matrix}\n",
    "1, &x<2.5\\\\ \n",
    " -1,&x>2.5\n",
    "\\end{matrix}\\right.$\n",
    "\n",
    "**Note:**这里的符号选择是指,当我们选取某个阈值的时候,将其预测的分类分别使用1,-1尝试计算错误率,比如当我们选取阈值2.5时候,我们有两种选择方法:\n",
    "- $\\left\\{\\begin{matrix}\n",
    "1, &x<2.5\\\\ \n",
    " -1,&x>2.5\n",
    "\\end{matrix}\\right.$\n",
    "\n",
    "- $\\left\\{\\begin{matrix}\n",
    "1, &x>2.5\\\\ \n",
    " -1,&x<2.5\n",
    "\\end{matrix}\\right.$"
   ]
  },
  {
   "cell_type": "markdown",
   "metadata": {},
   "source": [
    "(b) 计算$G_1(x)$在训练集上的错误率为$e_m = P(G_m(x_i) \\neq y_i)=\\sum_{i=1}^{N}w_{mi}I(G_m(x_i)\\neq y_i)=0.1+0.1+0.1$这里分类错误的分别是x=6,7,8"
   ]
  },
  {
   "cell_type": "markdown",
   "metadata": {},
   "source": [
    "(c) 计算$G_1(x)$的系数:$\\alpha_1 = \\frac{1}{2}log\\frac{1-e_1}{e_1}=0.4236.$"
   ]
  },
  {
   "cell_type": "markdown",
   "metadata": {},
   "source": [
    "(d) 更新训练样本的权值分布:\n",
    "\n",
    "$D_2=(w_{21},...w_{210})$\n",
    "\n",
    "$w_{wi}=\\frac{w_1i}{Z_m}exp(-\\alpha_1 y_i G_1(x_i)), i=1,2,...10$\n",
    "\n",
    "$D_2=(0.0715,0.0715,0.0715,0.0715,0.0715,0.0715,0.1666,0.1666,0.1666,0.0715)$\n",
    "\n",
    "$f_1(x)=0.4236G_1(x)$\n",
    "\n",
    "再使用分类器$sign[f_1(x)]$在训练数据集上进行分类,发现错误的点有3个."
   ]
  },
  {
   "cell_type": "markdown",
   "metadata": {},
   "source": [
    "**对m=2,**\n",
    "\n",
    "(a) 在权值分布为 D2 的训练数据集上,阈值v依次取值2.5,5.5,8.5时,且分别尝试符号选择1,-1时,8.5最低,故基本分类器为:\n",
    "\n",
    "$G_2(x)=\\left\\{\\begin{matrix}\n",
    "1, &x<8.5\\\\ \n",
    " -1,&x>8.5\n",
    "\\end{matrix}\\right.$\n",
    "\n",
    "(b) 计算$G_2(x)$在训练集上的错误率为$e_m = P(G_m(x_i) \\neq y_i)=\\sum_{i=1}^{N}w_{mi}I(G_m(x_i)\\neq y_i)=0.0715+0.0715+0.0715=0.2145$这里分类错误的分别是x=3,4,5\n",
    "\n",
    "(c) 计算$G_2(x)$的系数:$\\alpha_2 = \\frac{1}{2}log\\frac{1-e_2}{e_2}=0.6496.$\n",
    "\n",
    "\n",
    "(d) 更新训练样本的权值分布:\n",
    "\n",
    "$D_2=(0.0455,0.0455,0.0455,0.1667,0.1667,0.1667,0.1060,0.1060,0.1060,0.0455)$\n",
    "\n",
    "$f_2(x)=0.4236G_1(x)+0.6496G_2(x)$\n",
    "\n",
    "再使用分类器$sign[f_2(x)]$在训练数据集上进行分类,发现错误的点有3个."
   ]
  },
  {
   "cell_type": "markdown",
   "metadata": {},
   "source": [
    "**对m=3,**\n",
    "\n",
    "(a) 在权值分布为 D1 的训练数据集上,阈值v依次取值2.5,5.5,8.5时,且分别尝试符号选择1,-1时,5.5最低,故基本分类器为:\n",
    "\n",
    "$G_3(x)=\\left\\{\\begin{matrix}\n",
    "-1, &x<5.5\\\\ \n",
    "1,&x>5.5\n",
    "\\end{matrix}\\right.$\n",
    "\n",
    "(b) 计算$G_3(x)$在训练集上的错误率为$e_3=0.0455+0.0455+0.0455+0.0455=0.182$这里分类错误的分别是x=9,0,1,2\n",
    "\n",
    "(c) 计算$G_3(x)$的系数:$\\alpha_3 = \\frac{1}{2}log\\frac{1-e_3}{e_3}=0.7514.$\n",
    "\n",
    "\n",
    "(d) 更新训练样本的权值分布:\n",
    "\n",
    "$D_3=(0.125,0.125,0.125,0.102,0.102,0.102,0.065,0.065,0.065,0.125)$\n",
    "\n",
    "$f_3(x)=0.4236G_1(x)+0.6496G_2(x)+0.7514G_3(x)$\n",
    "\n",
    "再使用分类器$sign[f_3(x)]$在训练数据集上进行分类,发现错误的点有0个，分类完毕"
   ]
  },
  {
   "cell_type": "markdown",
   "metadata": {},
   "source": [
    "所以最终的分类器为:\n",
    "\n",
    "$G(x)=sign[f_3(x)=0.4236G_1(x)+0.6496G_2(x)+0.7514G_3(x)]$"
   ]
  },
  {
   "cell_type": "markdown",
   "metadata": {},
   "source": [
    "## 下面将用Python代码实现"
   ]
  },
  {
   "cell_type": "code",
   "execution_count": 1,
   "metadata": {},
   "outputs": [],
   "source": [
    "import numpy as np"
   ]
  },
  {
   "cell_type": "markdown",
   "metadata": {},
   "source": [
    "1.首先我们创建一个模拟加载数据集,下面的为此例的数据集"
   ]
  },
  {
   "cell_type": "code",
   "execution_count": 2,
   "metadata": {},
   "outputs": [],
   "source": [
    "def loadData():\n",
    "    \"\"\"\n",
    "    loading data set \n",
    "    Returns:\n",
    "        x: data set as x.\n",
    "        y: data set as y.\n",
    "        W: initialization weights.\n",
    "    \"\"\"\n",
    "    x = np.array([0,1,2,3,4,5,6,7,8,9])\n",
    "    y = np.array([1,1,1,-1,-1,-1,1,1,1,-1])\n",
    "    W = np.abs(y) / len(y)\n",
    "    return x,y,W"
   ]
  },
  {
   "cell_type": "markdown",
   "metadata": {},
   "source": [
    "2.计算错误率，这里计算的错误率一定要走遍所有的阈值和方向的选取,最后返回出该轮最优阈值下的错误率最小的\"基本分类器\",这里的基本分类器是单层节点的决策分类器\n",
    "\n",
    "\n",
    "$G_1(x)=\\left\\{\\begin{matrix}\n",
    "1, &x<thresh\\\\ \n",
    " -1,&x>thresh\n",
    "\\end{matrix}\\right.$\n",
    "\n",
    "-------------\n",
    "\n",
    "$G_2(x)=\\left\\{\\begin{matrix}\n",
    "-1, &x<thresh\\\\ \n",
    " 1,&x>thresh\n",
    "\\end{matrix}\\right.$"
   ]
  },
  {
   "cell_type": "code",
   "execution_count": 3,
   "metadata": {},
   "outputs": [],
   "source": [
    "def compute_error(threshs,x,y,W):\n",
    "    \"\"\"\n",
    "    compute error in every threshs.\n",
    "    \n",
    "    Note:\n",
    "        1.Make sure the source data set is clean,we need copy x and y\n",
    "        2.initialization bestThresh_error is inf.\n",
    "        \n",
    "    \n",
    "    Returns:\n",
    "        bestThresh_error: The best error(minimum error) in some thresh.\n",
    "        bestGx: The best G(x) in best thresh and minimum error.\n",
    "        bestThresh_list: The best thresh,and split method.\n",
    "    \"\"\"\n",
    "    x_copy = x.copy()  \n",
    "    G_x1 = y.copy()\n",
    "    G_x2 = y.copy()\n",
    "    bestThresh_error = np.inf\n",
    "    bestGx = None\n",
    "    bestThresh_list = None\n",
    "    for thresh in threshs:\n",
    "        index_gt = np.where(x_copy>thresh)[0] # find index in copy data\n",
    "        index_lt = np.where(x_copy<=thresh)[0]\n",
    "        G_x1[index_gt] = -1. # changed values in copy data,Implementate thresh split\n",
    "        G_x1[index_lt] = 1.\n",
    "\n",
    "        G_x2[index_gt] = 1. # we need try two situations.\n",
    "        G_x2[index_lt] = -1.\n",
    "        \n",
    "        # compute error \n",
    "        G_W1 = np.where(G_x1 != y) \n",
    "        error_1 = np.sum(W[G_W1])\n",
    "\n",
    "        G_W2 = np.where(G_x2 != y)\n",
    "        error_2 = np.sum(W[G_W2])\n",
    "       \n",
    "        # find the best error(minimum error),best thresh, best G(x)\n",
    "        if error_1 < bestThresh_error or error_2 < bestThresh_error:\n",
    "            if error_1 < error_2:\n",
    "                bestThresh_error = error_1.copy()\n",
    "                bestGx = G_x1.copy()\n",
    "                bestThresh_list = [thresh,\"G_x1\"]\n",
    "            else:\n",
    "                bestThresh_error = error_2.copy()\n",
    "                bestGx = G_x2.copy()\n",
    "                bestThresh_list = [thresh,\"G_x2\"]\n",
    "    return bestThresh_error,bestGx,bestThresh_list"
   ]
  },
  {
   "cell_type": "markdown",
   "metadata": {},
   "source": [
    "3.计算G(x)的参数$\\alpha$"
   ]
  },
  {
   "cell_type": "code",
   "execution_count": 4,
   "metadata": {},
   "outputs": [],
   "source": [
    "def compute_alpha(error):\n",
    "    \"\"\"\n",
    "    Implement compute alpha value.\n",
    "    \n",
    "    Returns:\n",
    "        alpha: parameters in G(x)\n",
    "    \"\"\"\n",
    "    alpha = 1./2. * (np.log((1.-error)/np.max(error+1e-16)))\n",
    "    return  alpha"
   ]
  },
  {
   "cell_type": "markdown",
   "metadata": {},
   "source": [
    "4.计算需要求出下一轮权重向量w的分母Z"
   ]
  },
  {
   "cell_type": "code",
   "execution_count": 5,
   "metadata": {},
   "outputs": [],
   "source": [
    "def compute_Z(W,alpha,G_x,y):\n",
    "    \"\"\"\n",
    "    compute Z value to compute D\n",
    "    Returns:\n",
    "        Z:parameters in compute W or (D)\n",
    "    \"\"\"\n",
    "    return np.sum(W * np.exp(-alpha * y * G_x)),W"
   ]
  },
  {
   "cell_type": "markdown",
   "metadata": {},
   "source": [
    "5.计算权重居中$D_{m+1}=(w_{m+1,1},w_{m+1,2},...w_{m+1,i},w_{m+1,N})$"
   ]
  },
  {
   "cell_type": "code",
   "execution_count": 6,
   "metadata": {},
   "outputs": [],
   "source": [
    "def compute_W(W,Z,alpha,y,G_x):\n",
    "    \"\"\"\n",
    "    Implementate compute W(D)\n",
    "    \n",
    "    returns:\n",
    "        W: weigths vector.\n",
    "    \"\"\"\n",
    "    W = W/Z * np.exp(-alpha * y * G_x)\n",
    "    return W"
   ]
  },
  {
   "cell_type": "markdown",
   "metadata": {},
   "source": [
    "6.计算分类器$sign[f(x)]$"
   ]
  },
  {
   "cell_type": "code",
   "execution_count": 7,
   "metadata": {},
   "outputs": [],
   "source": [
    "def compute_fx(alpha,G_x,y,thresh):\n",
    "    \n",
    "    \"\"\"\n",
    "    build Classifier sign[f(x)]\n",
    "    \n",
    "    Returns:\n",
    "        \n",
    "        if fx equals label y,then we can break for loop,so we return False ,otherwise return True\n",
    "    \"\"\"\n",
    "    fx = np.multiply(alpha,G_x).sum(axis=0)  # Implement f(x) = alpha_1G_1(x) + ... + alpha_nG_n(x)\n",
    "       \n",
    "    \n",
    "    fx[fx<0]=-1 # calculate \"sign\"\n",
    "    fx[fx>=0]=1\n",
    "    print(\"fx's result: \",fx)\n",
    "    if np.array_equal(fx,y):\n",
    "        print(\"划分结束\")\n",
    "        return alpha[1:],thresh,False  # alpha values is 0 when alpha index=1,so,alpha index start 1\n",
    "    else:\n",
    "        print(\"继续划分\")\n",
    "        return alpha[1:],thresh,True"
   ]
  },
  {
   "cell_type": "markdown",
   "metadata": {},
   "source": [
    "7.实现主函数"
   ]
  },
  {
   "cell_type": "code",
   "execution_count": 8,
   "metadata": {},
   "outputs": [],
   "source": [
    "def main(epoch):\n",
    "    \"\"\"\n",
    "    Build main function, Implementate AdaBoost.\n",
    "    \n",
    "    Returns:\n",
    "        1.classify parameters.\n",
    "    \"\"\"\n",
    "    x,y,W = loadData()\n",
    "    cache_alpha = np.zeros((1,1))  # cache alpha, this code must write.because every loop,we need append alpha value.\n",
    "    \n",
    "    # The same reason as above\n",
    "    cache_Gx = np.zeros((1,len(x))) \n",
    "    cache_thresh = []\n",
    "    threshs = [2.5,5.5,8.5]\n",
    "    for i in range(epoch):\n",
    "        res_error,res_G_x,bestThresh_list = compute_error(threshs,x,y,W)\n",
    "        bestThresh = bestThresh_list[0]\n",
    "        cache_thresh.append(bestThresh_list)\n",
    "        print(\"error is: \",res_error,\"G_x is: \",res_G_x,\"best thresh: \",bestThresh)\n",
    "        cache_Gx = np.vstack((cache_Gx,np.array([res_G_x])))\n",
    "        alpha = compute_alpha(res_error)\n",
    "        cache_alpha = np.vstack((cache_alpha,np.array([[alpha]])))\n",
    "        Z,W = compute_Z(W=W,alpha=alpha,G_x=res_G_x,y=y)\n",
    "        W = compute_W(W,Z,alpha,y,res_G_x)\n",
    "        print(\"W is : \",W)\n",
    "        ALPHA,THRESH,result = compute_fx(alpha=cache_alpha,G_x=cache_Gx,y=y,thresh=cache_thresh)\n",
    "        if not result:\n",
    "            return ALPHA,THRESH\n",
    "    else:\n",
    "        print('程序执行完成,没有找到error=0的alpha.')\n",
    "        return ALPHA,THRESH"
   ]
  },
  {
   "cell_type": "code",
   "execution_count": 9,
   "metadata": {
    "scrolled": false
   },
   "outputs": [
    {
     "name": "stdout",
     "output_type": "stream",
     "text": [
      "error is:  0.30000000000000004 G_x is:  [ 1  1  1 -1 -1 -1 -1 -1 -1 -1] best thresh:  2.5\n",
      "W is :  [0.07142857 0.07142857 0.07142857 0.07142857 0.07142857 0.07142857\n",
      " 0.16666667 0.16666667 0.16666667 0.07142857]\n",
      "fx's result:  [ 1.  1.  1. -1. -1. -1. -1. -1. -1. -1.]\n",
      "继续划分\n",
      "error is:  0.2142857142857143 G_x is:  [ 1  1  1  1  1  1  1  1  1 -1] best thresh:  8.5\n",
      "W is :  [0.04545455 0.04545455 0.04545455 0.16666667 0.16666667 0.16666667\n",
      " 0.10606061 0.10606061 0.10606061 0.04545455]\n",
      "fx's result:  [ 1.  1.  1.  1.  1.  1.  1.  1.  1. -1.]\n",
      "继续划分\n",
      "error is:  0.1818181818181819 G_x is:  [-1 -1 -1 -1 -1 -1  1  1  1  1] best thresh:  5.5\n",
      "W is :  [0.125      0.125      0.125      0.10185185 0.10185185 0.10185185\n",
      " 0.06481481 0.06481481 0.06481481 0.125     ]\n",
      "fx's result:  [ 1.  1.  1. -1. -1. -1.  1.  1.  1. -1.]\n",
      "划分结束\n",
      "alphas:  [[0.42364893]\n",
      " [0.64964149]\n",
      " [0.7520387 ]]\n",
      "threshs:  [[2.5, 'G_x1'], [8.5, 'G_x1'], [5.5, 'G_x2']]\n"
     ]
    }
   ],
   "source": [
    "alphas,threshs = main(epoch=20)\n",
    "print(\"alphas: \",alphas)\n",
    "print(\"threshs: \",threshs)"
   ]
  },
  {
   "cell_type": "markdown",
   "metadata": {},
   "source": [
    "由结果我们可以看出代码的结果是和例子中求出来的是一样的,阈值分别2.5采用第一种分割方式,8.5也是采用第一种分割方式,5.5采用第二种分割方式.\n",
    "\n",
    "$\\alpha_1=0.42364893,\\alpha_2=0.64964149,\\alpha_3=0.7520387$"
   ]
  },
  {
   "cell_type": "markdown",
   "metadata": {},
   "source": [
    "实际上我们可以采取0.5步长的阈值进行测试."
   ]
  },
  {
   "cell_type": "code",
   "execution_count": 10,
   "metadata": {},
   "outputs": [],
   "source": [
    "def main_test(epoch):\n",
    "    \"\"\"\n",
    "    Build main function, Implementate AdaBoost.\n",
    "    \n",
    "    Returns:\n",
    "        1.classify parameters.\n",
    "    \"\"\"\n",
    "    x,y,W = loadData()\n",
    "    cache_alpha = np.zeros((1,1))  # cache alpha, this code must write.because every loop,we need append alpha value.\n",
    "    \n",
    "    # The same reason as above\n",
    "    cache_Gx = np.zeros((1,len(x))) \n",
    "    cache_thresh = []\n",
    "    threshs = np.arange(np.min(x),np.max(x),0.5)\n",
    "    \n",
    "    for i in range(epoch):\n",
    "        res_error,res_G_x,bestThresh_list = compute_error(threshs,x,y,W)\n",
    "        bestThresh = bestThresh_list[0]\n",
    "        cache_thresh.append(bestThresh_list)\n",
    "        print(\"error is: \",res_error,\"G_x is: \",res_G_x,\"best thresh: \",bestThresh)\n",
    "        cache_Gx = np.vstack((cache_Gx,np.array([res_G_x])))\n",
    "        alpha = compute_alpha(res_error)\n",
    "        cache_alpha = np.vstack((cache_alpha,np.array([[alpha]])))\n",
    "        Z,W = compute_Z(W=W,alpha=alpha,G_x=res_G_x,y=y)\n",
    "        W = compute_W(W,Z,alpha,y,res_G_x)\n",
    "        print(\"W is : \",W)\n",
    "        ALPHA,THRESH,result = compute_fx(alpha=cache_alpha,G_x=cache_Gx,y=y,thresh=cache_thresh)\n",
    "        if not result:\n",
    "            return ALPHA,THRESH\n",
    "    else:\n",
    "        print('程序执行完成,没有找到error=0的alpha.')\n",
    "        return ALPHA,THRESH"
   ]
  },
  {
   "cell_type": "code",
   "execution_count": 11,
   "metadata": {},
   "outputs": [
    {
     "name": "stdout",
     "output_type": "stream",
     "text": [
      "error is:  0.30000000000000004 G_x is:  [ 1  1  1 -1 -1 -1 -1 -1 -1 -1] best thresh:  2.0\n",
      "W is :  [0.07142857 0.07142857 0.07142857 0.07142857 0.07142857 0.07142857\n",
      " 0.16666667 0.16666667 0.16666667 0.07142857]\n",
      "fx's result:  [ 1.  1.  1. -1. -1. -1. -1. -1. -1. -1.]\n",
      "继续划分\n",
      "error is:  0.2142857142857143 G_x is:  [ 1  1  1  1  1  1  1  1  1 -1] best thresh:  8.0\n",
      "W is :  [0.04545455 0.04545455 0.04545455 0.16666667 0.16666667 0.16666667\n",
      " 0.10606061 0.10606061 0.10606061 0.04545455]\n",
      "fx's result:  [ 1.  1.  1.  1.  1.  1.  1.  1.  1. -1.]\n",
      "继续划分\n",
      "error is:  0.1818181818181819 G_x is:  [-1 -1 -1 -1 -1 -1  1  1  1  1] best thresh:  5.0\n",
      "W is :  [0.125      0.125      0.125      0.10185185 0.10185185 0.10185185\n",
      " 0.06481481 0.06481481 0.06481481 0.125     ]\n",
      "fx's result:  [ 1.  1.  1. -1. -1. -1.  1.  1.  1. -1.]\n",
      "划分结束\n",
      "alphas:  [[0.42364893]\n",
      " [0.64964149]\n",
      " [0.7520387 ]]\n",
      "threshs:  [[2.0, 'G_x1'], [8.0, 'G_x1'], [5.0, 'G_x2']]\n"
     ]
    }
   ],
   "source": [
    "alphas,threshs = main_test(epoch=10)\n",
    "print(\"alphas: \",alphas)\n",
    "print(\"threshs: \",threshs)"
   ]
  },
  {
   "cell_type": "markdown",
   "metadata": {},
   "source": [
    "你会发现阈值结果和上面的会有些出入,但是也是正确的,因为化小数的阈值和化整数的阈值对于这个例子来说都是一样的"
   ]
  },
  {
   "cell_type": "markdown",
   "metadata": {},
   "source": [
    "### 预测函数"
   ]
  },
  {
   "cell_type": "markdown",
   "metadata": {},
   "source": [
    "$G(x)=sign[f(x)]=\\alpha_1G_1(x) + \\alpha_2G_2(x) + \\cdots + \\alpha_nG_n(x)$"
   ]
  },
  {
   "cell_type": "code",
   "execution_count": 12,
   "metadata": {},
   "outputs": [],
   "source": [
    "def predict(test_x,alphas,threshs):\n",
    "    \n",
    "    G_x = np.zeros(shape=(1,test_x.shape[0]))\n",
    "    for thresh_ in threshs:\n",
    "        G_x_single = np.ones(shape=(test_x.shape))\n",
    "        index_gt = np.where(test_x>thresh_[0])[0] \n",
    "        index_lt = np.where(test_x<=thresh_[0])[0]\n",
    "        if thresh_[1] == \"G_x1\":\n",
    "            G_x_single[index_gt] = -1. \n",
    "            G_x_single[index_lt] = 1.\n",
    "            G_x = np.vstack((G_x,G_x_single))\n",
    "        else:\n",
    "            G_x_single[index_gt] = 1. \n",
    "            G_x_single[index_lt] = -1.\n",
    "            G_x = np.vstack((G_x,G_x_single))\n",
    "    # compute fx\n",
    "    fx = np.multiply(alphas,G_x[1:]).sum(axis=0)\n",
    "    fx[fx<=0] = -1.\n",
    "    fx[fx>0] = 1\n",
    "    print(fx)"
   ]
  },
  {
   "cell_type": "markdown",
   "metadata": {},
   "source": [
    "我们来看看测试的结果,我们分别尝试标签为1和-1的x的值\n",
    "![](picture/34.png)"
   ]
  },
  {
   "cell_type": "code",
   "execution_count": 13,
   "metadata": {},
   "outputs": [
    {
     "name": "stdout",
     "output_type": "stream",
     "text": [
      "[1.]\n"
     ]
    }
   ],
   "source": [
    "test_x = np.array([0])\n",
    "predict(test_x=test_x,alphas=alphas,threshs=threshs)"
   ]
  },
  {
   "cell_type": "code",
   "execution_count": 14,
   "metadata": {
    "scrolled": true
   },
   "outputs": [
    {
     "name": "stdout",
     "output_type": "stream",
     "text": [
      "[-1.]\n"
     ]
    }
   ],
   "source": [
    "test_x = np.array([5])\n",
    "predict(test_x=test_x,alphas=alphas,threshs=threshs)"
   ]
  },
  {
   "cell_type": "markdown",
   "metadata": {},
   "source": [
    "再来尝试一些其他的值"
   ]
  },
  {
   "cell_type": "code",
   "execution_count": 15,
   "metadata": {},
   "outputs": [
    {
     "name": "stdout",
     "output_type": "stream",
     "text": [
      "[-1.]\n"
     ]
    }
   ],
   "source": [
    "test_x = np.array([100])\n",
    "predict(test_x=test_x,alphas=alphas,threshs=threshs)"
   ]
  },
  {
   "cell_type": "markdown",
   "metadata": {},
   "source": [
    "最后我们来写出完整版的测试函数,返回训练样本的正确率"
   ]
  },
  {
   "cell_type": "code",
   "execution_count": 16,
   "metadata": {},
   "outputs": [],
   "source": [
    "def predict_complete(test_x,test_y,alphas,threshs):\n",
    "    \n",
    "    G_x = np.zeros(shape=(1,test_x.shape[0]))\n",
    "    for thresh_ in threshs:\n",
    "        G_x_single = np.ones(shape=(test_x.shape))\n",
    "        index_gt = np.where(test_x>thresh_[0])[0] \n",
    "        index_lt = np.where(test_x<=thresh_[0])[0]\n",
    "        if thresh_[1] == \"G_x1\":\n",
    "            G_x_single[index_gt] = -1. \n",
    "            G_x_single[index_lt] = 1.\n",
    "            G_x = np.vstack((G_x,G_x_single))\n",
    "        else:\n",
    "            G_x_single[index_gt] = 1. \n",
    "            G_x_single[index_lt] = -1.\n",
    "            G_x = np.vstack((G_x,G_x_single))\n",
    "    # compute fx\n",
    "    fx = np.multiply(alphas,G_x[1:]).sum(axis=0)\n",
    "    fx[fx<=0] = -1.\n",
    "    fx[fx>0] = 1\n",
    "    print(\"predict fx is : \",fx)\n",
    "    accurate = np.sum(fx==test_y)/len(test_y)\n",
    "    print(\"accurate is : \",accurate)"
   ]
  },
  {
   "cell_type": "code",
   "execution_count": 17,
   "metadata": {},
   "outputs": [
    {
     "name": "stdout",
     "output_type": "stream",
     "text": [
      "predict fx is :  [ 1.  1.  1. -1. -1. -1.  1.  1.  1. -1.]\n",
      "accurate is :  1.0\n"
     ]
    }
   ],
   "source": [
    "test_x = np.array([0,1,2,3,4,5,6,7,8,9])\n",
    "test_y = np.array([1,1,1,-1,-1,-1,1,1,1,-1])\n",
    "predict_complete(test_x=test_x,test_y=test_y,alphas=alphas,threshs=threshs)"
   ]
  },
  {
   "cell_type": "markdown",
   "metadata": {},
   "source": [
    "### 现在使用大样本多特征进行测试\n",
    "\n",
    "这里使用的样本是猫与非猫,其中猫是1,非猫是0"
   ]
  },
  {
   "cell_type": "code",
   "execution_count": 18,
   "metadata": {},
   "outputs": [],
   "source": [
    "import h5py\n",
    "import matplotlib.pyplot as plt"
   ]
  },
  {
   "cell_type": "code",
   "execution_count": 19,
   "metadata": {},
   "outputs": [],
   "source": [
    "def load_data():\n",
    "    '''\n",
    "    create train set and test set\n",
    "    make sure you have .h5 file in your dataset\n",
    "    '''\n",
    "    train_dataset = h5py.File('data_set/train_catvnoncat.h5', \"r\")\n",
    "    train_set_x_orig = np.array(train_dataset[\"train_set_x\"][:]) # your train set features\n",
    "    train_set_y_orig = np.array(train_dataset[\"train_set_y\"][:]) # your train set labels\n",
    "\n",
    "    test_dataset = h5py.File('data_set/test_catvnoncat.h5', \"r\")\n",
    "    test_set_x_orig = np.array(test_dataset[\"test_set_x\"][:]) # your test set features\n",
    "    test_set_y_orig = np.array(test_dataset[\"test_set_y\"][:]) # your test set labels\n",
    "\n",
    "    classes = np.array(test_dataset[\"list_classes\"][:]) # the list of classes\n",
    "    \n",
    "    train_set_y_orig = train_set_y_orig.reshape((1, train_set_y_orig.shape[0]))\n",
    "    test_set_y_orig = test_set_y_orig.reshape((1, test_set_y_orig.shape[0]))\n",
    "    \n",
    "    return train_set_x_orig, train_set_y_orig, test_set_x_orig, test_set_y_orig, classes"
   ]
  },
  {
   "cell_type": "code",
   "execution_count": 20,
   "metadata": {},
   "outputs": [],
   "source": [
    "train_x_orig, train_y, test_x_orig, test_y, classes = load_data()"
   ]
  },
  {
   "cell_type": "code",
   "execution_count": 21,
   "metadata": {
    "scrolled": false
   },
   "outputs": [
    {
     "name": "stdout",
     "output_type": "stream",
     "text": [
      "Train_x's shape:(12288, 209)\n",
      "Test_x's shape:(12288, 50)\n",
      "Train_y's shape:(1, 209)\n",
      "Test_y's shape:(1, 50)\n"
     ]
    }
   ],
   "source": [
    "train_x = train_x_orig.reshape(train_x_orig.shape[0],-1).T / 255 \n",
    "test_x = test_x_orig.reshape(test_x_orig.shape[0],-1).T / 255\n",
    "print('Train_x\\'s shape:{}'.format(train_x.shape))\n",
    "print('Test_x\\'s shape:{}'.format(test_x.shape))\n",
    "print(\"Train_y's shape:{}\".format(train_y.shape))\n",
    "print(\"Test_y's shape:{}\".format(test_y.shape))"
   ]
  },
  {
   "cell_type": "code",
   "execution_count": 22,
   "metadata": {},
   "outputs": [
    {
     "name": "stdout",
     "output_type": "stream",
     "text": [
      "y = 1. It's a cat picture.\n"
     ]
    },
    {
     "data": {
      "image/png": "[encoded data removed]",
      "text/plain": [
       "<Figure size 432x288 with 1 Axes>"
      ]
     },
     "metadata": {
      "needs_background": "light"
     },
     "output_type": "display_data"
    }
   ],
   "source": [
    "index = 2\n",
    "plt.imshow(train_x_orig[index])\n",
    "print (\"y = \" + str(train_y[0,index]) + \". It's a \" + classes[train_y[0,index]].decode(\"utf-8\") +  \" picture.\")"
   ]
  },
  {
   "cell_type": "code",
   "execution_count": 23,
   "metadata": {
    "scrolled": true
   },
   "outputs": [
    {
     "name": "stdout",
     "output_type": "stream",
     "text": [
      "y = 0. It's a non-cat picture.\n"
     ]
    },
    {
     "data": {
      "image/png": "[encoded data removed]",
      "text/plain": [
       "<Figure size 432x288 with 1 Axes>"
      ]
     },
     "metadata": {
      "needs_background": "light"
     },
     "output_type": "display_data"
    }
   ],
   "source": [
    "index = 3\n",
    "plt.imshow(train_x_orig[index])\n",
    "print (\"y = \" + str(train_y[0,index]) + \". It's a \" + classes[train_y[0,index]].decode(\"utf-8\") +  \" picture.\")"
   ]
  },
  {
   "cell_type": "markdown",
   "metadata": {},
   "source": [
    "根据AdaBoost的标签规则,更改y标签的值,从0,1改成-1,1.也就是说1为猫,-1为非猫。"
   ]
  },
  {
   "cell_type": "code",
   "execution_count": 24,
   "metadata": {},
   "outputs": [],
   "source": [
    "train_y[train_y==0] = -1"
   ]
  },
  {
   "cell_type": "code",
   "execution_count": 25,
   "metadata": {
    "scrolled": true
   },
   "outputs": [
    {
     "name": "stdout",
     "output_type": "stream",
     "text": [
      "New labels train_y is :  [[-1 -1  1 -1 -1 -1 -1  1 -1 -1 -1  1 -1  1  1 -1 -1 -1 -1  1 -1 -1 -1 -1\n",
      "   1  1 -1  1 -1  1 -1 -1 -1 -1 -1 -1 -1 -1  1 -1 -1  1  1 -1 -1 -1 -1  1\n",
      "  -1 -1  1 -1 -1 -1  1 -1  1  1 -1  1  1  1 -1 -1 -1 -1 -1 -1  1 -1 -1  1\n",
      "  -1 -1 -1 -1 -1 -1 -1 -1 -1 -1 -1  1  1 -1 -1 -1  1 -1 -1 -1  1  1  1 -1\n",
      "  -1  1 -1 -1 -1 -1  1 -1  1 -1  1  1  1  1  1  1 -1 -1 -1 -1 -1  1 -1 -1\n",
      "  -1  1 -1 -1  1 -1  1 -1  1  1 -1 -1 -1  1  1  1  1  1 -1 -1 -1 -1  1 -1\n",
      "   1  1  1 -1  1  1 -1 -1 -1  1 -1 -1  1 -1 -1 -1 -1 -1  1 -1  1 -1  1 -1\n",
      "  -1  1  1  1 -1 -1  1  1 -1  1 -1  1 -1 -1 -1 -1 -1  1 -1 -1  1 -1 -1 -1\n",
      "   1 -1 -1 -1 -1  1 -1 -1  1 -1 -1 -1 -1 -1 -1 -1 -1]]\n"
     ]
    }
   ],
   "source": [
    "print(\"New labels train_y is : \",train_y)"
   ]
  },
  {
   "cell_type": "code",
   "execution_count": 26,
   "metadata": {},
   "outputs": [],
   "source": [
    "test_y[test_y==0] = -1"
   ]
  },
  {
   "cell_type": "code",
   "execution_count": 27,
   "metadata": {},
   "outputs": [
    {
     "name": "stdout",
     "output_type": "stream",
     "text": [
      "New labels test_y is :  [[ 1  1  1  1  1 -1  1  1  1  1  1  1  1 -1 -1  1 -1  1  1  1  1 -1 -1  1\n",
      "   1  1  1 -1  1 -1  1  1  1  1 -1 -1 -1  1 -1 -1  1  1  1 -1 -1 -1  1  1\n",
      "   1 -1]]\n"
     ]
    }
   ],
   "source": [
    "print(\"New labels test_y is : \",test_y)"
   ]
  },
  {
   "cell_type": "code",
   "execution_count": 28,
   "metadata": {},
   "outputs": [],
   "source": [
    "def compute_error_big_data(threshs,x,y,W):\n",
    "    G_x1 = y.copy()\n",
    "    G_x2 = y.copy()\n",
    "\n",
    "    length_x = x.shape[0]\n",
    "    bestParameters = {'Thresh_error':np.inf}\n",
    "    for thresh in threshs:\n",
    "        for i in range(length_x):\n",
    "            # Try to split each feature.\n",
    "            index_gt = np.where(x[i,:]>thresh)[0] # find index in copy data\n",
    "            index_lt = np.where(x[i,:]<=thresh)[0]\n",
    "            G_x1[:,index_gt] = -1. # changed values in copy data,Implementate thresh split\n",
    "            G_x1[:,index_lt] = 1.\n",
    "\n",
    "            G_x2[:,index_gt] = 1. # we need try two situations.\n",
    "            G_x2[:,index_lt] = -1.\n",
    "        \n",
    "            error_1 = np.sum(W[G_x1 !=y])\n",
    "           \n",
    "            error_2 = np.sum(W[G_x2 != y])\n",
    "\n",
    "            if error_1 < error_2:\n",
    "                if error_1 < bestParameters['Thresh_error']:\n",
    "                    bestParameters['Thresh_error'] = error_1.copy()\n",
    "                    bestParameters['bestGx'] = G_x1.copy()\n",
    "                    bestParameters['bestThresh'] = thresh\n",
    "                    bestParameters['Feature_number'] = i\n",
    "                    bestParameters['choose_split_method'] = \"G_x1\"  \n",
    "            else:\n",
    "                if error_2 < bestParameters['Thresh_error']:\n",
    "                    bestParameters['Thresh_error'] = error_2.copy()\n",
    "                    bestParameters['bestGx'] = G_x2.copy()\n",
    "                    bestParameters['bestThresh'] = thresh\n",
    "                    bestParameters['Feature_number'] = i\n",
    "                    bestParameters['choose_split_method'] = \"G_x2\"\n",
    "            \n",
    "\n",
    "    return bestParameters"
   ]
  },
  {
   "cell_type": "code",
   "execution_count": 29,
   "metadata": {},
   "outputs": [],
   "source": [
    "def compute_fx_for_big(alpha,G_x,y):\n",
    "   \n",
    "    \"\"\"\n",
    "    build Classifier sign[f(x)]\n",
    "    \n",
    "    Returns:\n",
    "        \n",
    "        if fx equals label y,then we can break for loop,so we return False ,otherwise return True\n",
    "    \"\"\"\n",
    "    fx = np.multiply(alpha,G_x).sum(axis=0,keepdims=True)  # Implement f(x) = alpha_1G_1(x) + ... + alpha_nG_n(x)\n",
    "   \n",
    "    \n",
    "    fx=np.sign(fx) # calculate \"sign\"\n",
    "\n",
    "    if np.array_equal(fx,y):\n",
    "        print(\"划分结束\")\n",
    "        return alpha[1:],False  # alpha values is 0 when alpha index=1,so,alpha index start 1\n",
    "    else:\n",
    "        \n",
    "        return alpha[1:],True"
   ]
  },
  {
   "cell_type": "code",
   "execution_count": 30,
   "metadata": {},
   "outputs": [],
   "source": [
    "def main_big_data(X,Y,epoch_num):\n",
    "    \n",
    "    W = np.abs(Y)/Y.shape[1]\n",
    "    \n",
    "    threshs = np.arange(np.min(X),np.max(X),0.1)\n",
    "    \n",
    "    cache_alphas = np.zeros(shape=(1,1))\n",
    "    cache_Gx = np.zeros(Y.shape)\n",
    "    cache_Feature_number = []\n",
    "    cache_bestThresh = []\n",
    "    cache_choose_split_method = []\n",
    "    \n",
    "    for epoch in range(epoch_num):\n",
    "        # select best thresh,error,Gx\n",
    "        bestParameters = compute_error_big_data(threshs=threshs,x=X,y=Y,W=W)\n",
    "    \n",
    "        Thresh_error = bestParameters['Thresh_error']\n",
    "        bestGx = bestParameters['bestGx']\n",
    "        bestThresh = bestParameters['bestThresh']\n",
    "        Feature_number = bestParameters['Feature_number']\n",
    "        choose_split_method = bestParameters['choose_split_method']\n",
    "        # cache parameters\n",
    "        cache_Gx = np.vstack((cache_Gx,bestGx))\n",
    "        cache_Feature_number.append(Feature_number)\n",
    "        cache_bestThresh.append(bestThresh)\n",
    "        cache_choose_split_method.append(choose_split_method)\n",
    "        \n",
    "        # compute alpha\n",
    "        alpha = compute_alpha(error=Thresh_error)\n",
    "        cache_alphas = np.vstack((cache_alphas,alpha))\n",
    "        \n",
    "        # update weigths\n",
    "        Z,W = compute_Z(W=W,alpha=alpha,G_x=bestGx,y=Y)\n",
    "        W = compute_W(W=W,Z=Z,alpha=alpha,y=Y,G_x=bestGx)\n",
    "       \n",
    "        ALPHA,result = compute_fx_for_big(alpha=cache_alphas,G_x=cache_Gx,y=Y)\n",
    "        \n",
    "\n",
    "        if not result:\n",
    "            return ALPHA,cache_Feature_number,cache_bestThresh,cache_choose_split_method\n",
    "    else:\n",
    "        print('程序执行完成,没有找到error=0的alpha.')\n",
    "        return ALPHA,cache_Feature_number,cache_bestThresh,cache_choose_split_method\n",
    "       "
   ]
  },
  {
   "cell_type": "code",
   "execution_count": 31,
   "metadata": {
    "scrolled": false
   },
   "outputs": [
    {
     "name": "stdout",
     "output_type": "stream",
     "text": [
      "程序执行完成,没有找到error=0的alpha.\n",
      "alphs is :  [[0.39771301]\n",
      " [0.29700389]\n",
      " [0.27924294]\n",
      " [0.30188662]\n",
      " [0.29432608]\n",
      " [0.32694691]\n",
      " [0.28944803]\n",
      " [0.28945674]\n",
      " [0.31691203]\n",
      " [0.28881598]]\n",
      "Feature_number is : [10649, 5484, 8595, 3370, 1578, 772, 198, 7925, 6166, 9059]\n",
      "bestThresh is:  [0.5, 0.5, 0.5, 0.4, 0.30000000000000004, 0.30000000000000004, 0.4, 0.5, 0.4, 0.2]\n",
      "choose split method is : ['G_x2', 'G_x1', 'G_x2', 'G_x1', 'G_x2', 'G_x1', 'G_x2', 'G_x2', 'G_x1', 'G_x2']\n"
     ]
    }
   ],
   "source": [
    "ALPHA,cache_Feature_number,cache_bestThresh,cache_choose_split_method = main_big_data(X=train_x,Y=train_y,epoch_num=10)\n",
    "print(\"alphs is : \",ALPHA)\n",
    "print(\"Feature_number is :\",cache_Feature_number)\n",
    "print(\"bestThresh is: \",cache_bestThresh)\n",
    "print(\"choose split method is :\",cache_choose_split_method)"
   ]
  },
  {
   "cell_type": "code",
   "execution_count": 32,
   "metadata": {},
   "outputs": [],
   "source": [
    "def predict(test_X,test_Y,alphas,Feature_number,bestThresh,choose_split_method):\n",
    "    \n",
    "    G_x = np.zeros(test_Y.shape)\n",
    "    \n",
    "    for i in range(alphas.shape[0]):\n",
    "        G_x_single = np.ones(shape=(test_Y.shape))\n",
    "        # must choose one feature to split lable.\n",
    "        index_gt = np.where(test_X[Feature_number[i],:] > bestThresh[i])[0] \n",
    "        index_lt = np.where(test_X[Feature_number[i],:] <= bestThresh[i])[0]\n",
    "        if choose_split_method[i] == \"G_x1\":\n",
    "            G_x_single[:,index_gt] = -1. \n",
    "            G_x_single[:,index_lt] = 1.\n",
    "            G_x = np.vstack((G_x,G_x_single))\n",
    "        else:\n",
    "            G_x_single[:,index_gt] = 1. \n",
    "            G_x_single[:,index_lt] = -1.\n",
    "            G_x = np.vstack((G_x,G_x_single))\n",
    "            \n",
    "    # Compute fx\n",
    "    fx = np.multiply(alphas,G_x[1:]).sum(axis=0,keepdims=True)\n",
    "    fx = np.sign(fx)\n",
    "    \n",
    "    # calculate accurate.\n",
    "    accurate = np.sum(fx==test_Y) / test_Y.shape[1]\n",
    "    \n",
    "    return accurate"
   ]
  },
  {
   "cell_type": "code",
   "execution_count": 34,
   "metadata": {
    "scrolled": false
   },
   "outputs": [
    {
     "name": "stdout",
     "output_type": "stream",
     "text": [
      "The Test accurate is :  0.84688995215311\n"
     ]
    }
   ],
   "source": [
    "accurate = predict(test_X=train_x,test_Y=train_y,alphas=ALPHA,Feature_number=cache_Feature_number,\n",
    "        bestThresh=cache_bestThresh,choose_split_method=cache_choose_split_method)\n",
    "print(\"The Test accurate is : \",accurate)"
   ]
  },
  {
   "cell_type": "code",
   "execution_count": 35,
   "metadata": {},
   "outputs": [
    {
     "name": "stdout",
     "output_type": "stream",
     "text": [
      "The f(x) is :  0.66\n"
     ]
    }
   ],
   "source": [
    "fx = predict(test_X=test_x,test_Y=test_y,alphas=ALPHA,Feature_number=cache_Feature_number,\n",
    "        bestThresh=cache_bestThresh,choose_split_method=cache_choose_split_method)\n",
    "print(\"The f(x) is : \",fx)"
   ]
  },
  {
   "cell_type": "markdown",
   "metadata": {},
   "source": [
    "我们可以看出当分类器达到44个的时候,该样本就一样能够产生0误差,并且接下去的所有训练样本误差和测试样本误差都不会发生变化.\n",
    "且这种由error为0产生的全分类器,很明显会产生较高的过拟合."
   ]
  },
  {
   "cell_type": "code",
   "execution_count": 36,
   "metadata": {},
   "outputs": [],
   "source": [
    "def different_epoch_num():\n",
    "    \n",
    "    plot_accurate = []\n",
    "    for i in range(1,50,5):\n",
    "        \n",
    "        ALPHA,cache_Feature_number,cache_bestThresh,cache_choose_split_method = main_big_data(X=train_x,Y=train_y,epoch_num=i)\n",
    "        \n",
    "        accurate = predict(test_X=train_x,test_Y=train_y,alphas=ALPHA,Feature_number=cache_Feature_number,\n",
    "            bestThresh=cache_bestThresh,choose_split_method=cache_choose_split_method)\n",
    "        print(\"After iter:{}, The Train set accurate is : \".format(i),accurate)\n",
    "        \n",
    "        accurate = predict(test_X=test_x,test_Y=test_y,alphas=ALPHA,Feature_number=cache_Feature_number,\n",
    "            bestThresh=cache_bestThresh,choose_split_method=cache_choose_split_method)\n",
    "        print(\"After iter:{}, The Test set accurate is : \".format(i),accurate)\n",
    "    "
   ]
  },
  {
   "cell_type": "code",
   "execution_count": 37,
   "metadata": {},
   "outputs": [
    {
     "name": "stdout",
     "output_type": "stream",
     "text": [
      "程序执行完成,没有找到error=0的alpha.\n",
      "After iter:1, The Train set accurate is :  0.6889952153110048\n",
      "After iter:1, The Test set accurate is :  0.58\n",
      "程序执行完成,没有找到error=0的alpha.\n",
      "After iter:6, The Train set accurate is :  0.7703349282296651\n",
      "After iter:6, The Test set accurate is :  0.58\n",
      "程序执行完成,没有找到error=0的alpha.\n",
      "After iter:11, The Train set accurate is :  0.8803827751196173\n",
      "After iter:11, The Test set accurate is :  0.64\n",
      "程序执行完成,没有找到error=0的alpha.\n",
      "After iter:16, The Train set accurate is :  0.8995215311004785\n",
      "After iter:16, The Test set accurate is :  0.58\n",
      "程序执行完成,没有找到error=0的alpha.\n",
      "After iter:21, The Train set accurate is :  0.9617224880382775\n",
      "After iter:21, The Test set accurate is :  0.66\n",
      "程序执行完成,没有找到error=0的alpha.\n",
      "After iter:26, The Train set accurate is :  0.9712918660287081\n",
      "After iter:26, The Test set accurate is :  0.58\n",
      "程序执行完成,没有找到error=0的alpha.\n",
      "After iter:31, The Train set accurate is :  0.9904306220095693\n",
      "After iter:31, The Test set accurate is :  0.58\n",
      "程序执行完成,没有找到error=0的alpha.\n",
      "After iter:36, The Train set accurate is :  0.9904306220095693\n",
      "After iter:36, The Test set accurate is :  0.6\n",
      "程序执行完成,没有找到error=0的alpha.\n",
      "After iter:41, The Train set accurate is :  0.9904306220095693\n",
      "After iter:41, The Test set accurate is :  0.66\n",
      "划分结束\n",
      "After iter:46, The Train set accurate is :  1.0\n",
      "After iter:46, The Test set accurate is :  0.58\n"
     ]
    }
   ],
   "source": [
    "different_epoch_num()"
   ]
  },
  {
   "cell_type": "markdown",
   "metadata": {},
   "source": [
    "| 迭代次数 | 训练样本正确率 | 测试样本正确率 |\n",
    "| ------ | ------- | ------ |\n",
    "| 1 | 0.68 | 0.58 |\n",
    "| 6 | 0.77 | 0.58 |\n",
    "| 11 | 0.88 | 0.64 |\n",
    "| 16 | 0.89 | 0.58 |\n",
    "| 21 | 0.96 | 0.66 |\n",
    "| 26 | 0.97 | 0.58 |\n",
    "| 31 | 0.99 | 0.58 |\n",
    "| 36 | 0.99 | 0.6 |\n",
    "| 41 | 0.99 | 0.66 |\n",
    "| 46 | 1.0 | 0.58 |"
   ]
  },
  {
   "cell_type": "markdown",
   "metadata": {},
   "source": [
    "可以看到随着迭代次数的增加,训练样本的正确率逐步升高,测试样本的正确率先升高然后降低(或者说在一定范围浮动),很明显在最大分类器46以后,再进行更多次数的迭代是毫无意义的,应该46已经是最大分类器的数量(实际上这里的最大分类器是44)，测试样本的正确率在分类器44以后都维持在0.58.所以按照上面的表格,我们应该选择分类器为41个左右的弱分类器所组成的强分类器是最好的\n",
    "\n",
    "另外也可以看出随着分类器的个数的增加到一定限度,算法就开始呈现过拟合的状态."
   ]
  }
 ],
 "metadata": {
  "kernelspec": {
   "display_name": "Python 3",
   "language": "python",
   "name": "python3"
  },
  "language_info": {
   "codemirror_mode": {
    "name": "ipython",
    "version": 3
   },
   "file_extension": ".py",
   "mimetype": "text/x-python",
   "name": "python",
   "nbconvert_exporter": "python",
   "pygments_lexer": "ipython3",
   "version": "3.6.6"
  }
 },
 "nbformat": 4,
 "nbformat_minor": 2
}
